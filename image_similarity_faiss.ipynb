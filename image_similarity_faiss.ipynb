{
 "cells": [
  {
   "cell_type": "markdown",
   "metadata": {
    "colab_type": "text",
    "id": "view-in-github"
   },
   "source": [
    "<a href=\"https://colab.research.google.com/github/VIS-WA/custom-image-similarity-faiss/blob/main/image_similarity_faiss.ipynb\" target=\"_parent\"><img src=\"https://colab.research.google.com/assets/colab-badge.svg\" alt=\"Open In Colab\"/></a>"
   ]
  },
  {
   "cell_type": "markdown",
   "metadata": {
    "id": "bXCMCkXVPEVP"
   },
   "source": [
    "# Building an image similarity system with 🤗, Custom Datasets and FAISS\n",
    "\n",
    "This notebook is adapted from HuggingFace's [Image Similarity with 🤗 Datasets and 🤗 Transformers](https://huggingface.co/blog/image-similarity) blog post. The original notebook can be found [here](https://colab.research.google.com/github/huggingface/notebooks/blob/main/examples/image_similarity.ipynb#scrollTo=fAYCqp0Ufx_V). This notebook is modified to work with custom datasets and intended for beginners to learn how to build an image similarity system with 🤗, custom datasets and FAISS.\n"
   ]
  },
  {
   "cell_type": "markdown",
   "metadata": {
    "id": "LTrVQ4eZPQwX"
   },
   "source": [
    "## Install the required packages\n"
   ]
  },
  {
   "cell_type": "code",
   "execution_count": 1,
   "metadata": {
    "id": "YUcZYdej7EtR"
   },
   "outputs": [
    {
     "name": "stdout",
     "output_type": "stream",
     "text": [
      "Requirement already satisfied: pip in c:\\users\\ssoun\\appdata\\local\\programs\\python\\python310\\lib\\site-packages (22.3.1)\n",
      "Collecting pip\n",
      "  Using cached pip-24.3.1-py3-none-any.whl (1.8 MB)\n"
     ]
    },
    {
     "name": "stderr",
     "output_type": "stream",
     "text": [
      "ERROR: To modify pip, please run the following command:\n",
      "C:\\Users\\ssoun\\AppData\\Local\\Programs\\Python\\Python310\\python.exe -m pip install --upgrade pip\n",
      "\n",
      "[notice] A new release of pip available: 22.3.1 -> 24.3.1\n",
      "[notice] To update, run: python.exe -m pip install --upgrade pip\n",
      "\n",
      "[notice] A new release of pip available: 22.3.1 -> 24.3.1\n",
      "[notice] To update, run: python.exe -m pip install --upgrade pip\n"
     ]
    }
   ],
   "source": [
    "!pip install --upgrade pip\n",
    "!pip install transformers datasets faiss-cpu -q\n"
   ]
  },
  {
   "cell_type": "code",
   "execution_count": 2,
   "metadata": {},
   "outputs": [
    {
     "name": "stdout",
     "output_type": "stream",
     "text": [
      "Name: transformers\n",
      "Version: 4.36.2\n",
      "Summary: State-of-the-art Machine Learning for JAX, PyTorch and TensorFlow\n",
      "Home-page: https://github.com/huggingface/transformers\n",
      "Author: The Hugging Face team (past and future) with the help of all our contributors (https://github.com/huggingface/transformers/graphs/contributors)\n",
      "Author-email: transformers@huggingface.co\n",
      "License: Apache 2.0 License\n",
      "Location: c:\\users\\ssoun\\appdata\\local\\programs\\python\\python310\\lib\\site-packages\n",
      "Requires: filelock, huggingface-hub, numpy, packaging, pyyaml, regex, requests, safetensors, tokenizers, tqdm\n",
      "Required-by: groundingdino\n",
      "Note: you may need to restart the kernel to use updated packages.\n"
     ]
    }
   ],
   "source": [
    "pip show transformers "
   ]
  },
  {
   "cell_type": "markdown",
   "metadata": {
    "id": "1d1F_pOi7EtS"
   },
   "source": [
    "## Import the necessary packages"
   ]
  },
  {
   "cell_type": "code",
   "execution_count": 3,
   "metadata": {
    "id": "IfR09X7pvQas"
   },
   "outputs": [],
   "source": [
    "from transformers import AutoFeatureExtractor, AutoModel\n",
    "from datasets import load_dataset, concatenate_datasets, load_from_disk, DatasetDict, Features, Dataset\n",
    "from PIL import Image\n",
    "import numpy as np"
   ]
  },
  {
   "cell_type": "code",
   "execution_count": 6,
   "metadata": {},
   "outputs": [
    {
     "data": {
      "application/vnd.jupyter.widget-view+json": {
       "model_id": "cd9269c0f11441bc8b09301d261f7298",
       "version_major": 2,
       "version_minor": 0
      },
      "text/plain": [
       "model.safetensors:   0%|          | 0.00/31.5M [00:00<?, ?B/s]"
      ]
     },
     "metadata": {},
     "output_type": "display_data"
    },
    {
     "name": "stderr",
     "output_type": "stream",
     "text": [
      "C:\\Users\\ssoun\\AppData\\Local\\Programs\\Python\\Python310\\lib\\site-packages\\huggingface_hub\\file_download.py:149: UserWarning: `huggingface_hub` cache-system uses symlinks by default to efficiently store duplicated files but your machine does not support them in C:\\Users\\ssoun\\.cache\\huggingface\\hub\\models--timm--efficientnet_b1.ft_in1k. Caching files will still work but in a degraded version that might require more space on your disk. This warning can be disabled by setting the `HF_HUB_DISABLE_SYMLINKS_WARNING` environment variable. For more details, see https://huggingface.co/docs/huggingface_hub/how-to-cache#limitations.\n",
      "To support symlinks on Windows, you either need to activate Developer Mode or to run Python as an administrator. In order to see activate developer mode, see this article: https://docs.microsoft.com/en-us/windows/apps/get-started/enable-your-device-for-development\n",
      "  warnings.warn(message)\n"
     ]
    },
    {
     "data": {
      "text/plain": [
       "EfficientNet(\n",
       "  (conv_stem): Conv2d(3, 32, kernel_size=(3, 3), stride=(2, 2), padding=(1, 1), bias=False)\n",
       "  (bn1): BatchNormAct2d(\n",
       "    32, eps=1e-05, momentum=0.1, affine=True, track_running_stats=True\n",
       "    (drop): Identity()\n",
       "    (act): SiLU(inplace=True)\n",
       "  )\n",
       "  (blocks): Sequential(\n",
       "    (0): Sequential(\n",
       "      (0): DepthwiseSeparableConv(\n",
       "        (conv_dw): Conv2d(32, 32, kernel_size=(3, 3), stride=(1, 1), padding=(1, 1), groups=32, bias=False)\n",
       "        (bn1): BatchNormAct2d(\n",
       "          32, eps=1e-05, momentum=0.1, affine=True, track_running_stats=True\n",
       "          (drop): Identity()\n",
       "          (act): SiLU(inplace=True)\n",
       "        )\n",
       "        (se): SqueezeExcite(\n",
       "          (conv_reduce): Conv2d(32, 8, kernel_size=(1, 1), stride=(1, 1))\n",
       "          (act1): SiLU(inplace=True)\n",
       "          (conv_expand): Conv2d(8, 32, kernel_size=(1, 1), stride=(1, 1))\n",
       "          (gate): Sigmoid()\n",
       "        )\n",
       "        (conv_pw): Conv2d(32, 16, kernel_size=(1, 1), stride=(1, 1), bias=False)\n",
       "        (bn2): BatchNormAct2d(\n",
       "          16, eps=1e-05, momentum=0.1, affine=True, track_running_stats=True\n",
       "          (drop): Identity()\n",
       "          (act): Identity()\n",
       "        )\n",
       "        (drop_path): Identity()\n",
       "      )\n",
       "      (1): DepthwiseSeparableConv(\n",
       "        (conv_dw): Conv2d(16, 16, kernel_size=(3, 3), stride=(1, 1), padding=(1, 1), groups=16, bias=False)\n",
       "        (bn1): BatchNormAct2d(\n",
       "          16, eps=1e-05, momentum=0.1, affine=True, track_running_stats=True\n",
       "          (drop): Identity()\n",
       "          (act): SiLU(inplace=True)\n",
       "        )\n",
       "        (se): SqueezeExcite(\n",
       "          (conv_reduce): Conv2d(16, 4, kernel_size=(1, 1), stride=(1, 1))\n",
       "          (act1): SiLU(inplace=True)\n",
       "          (conv_expand): Conv2d(4, 16, kernel_size=(1, 1), stride=(1, 1))\n",
       "          (gate): Sigmoid()\n",
       "        )\n",
       "        (conv_pw): Conv2d(16, 16, kernel_size=(1, 1), stride=(1, 1), bias=False)\n",
       "        (bn2): BatchNormAct2d(\n",
       "          16, eps=1e-05, momentum=0.1, affine=True, track_running_stats=True\n",
       "          (drop): Identity()\n",
       "          (act): Identity()\n",
       "        )\n",
       "        (drop_path): Identity()\n",
       "      )\n",
       "    )\n",
       "    (1): Sequential(\n",
       "      (0): InvertedResidual(\n",
       "        (conv_pw): Conv2d(16, 96, kernel_size=(1, 1), stride=(1, 1), bias=False)\n",
       "        (bn1): BatchNormAct2d(\n",
       "          96, eps=1e-05, momentum=0.1, affine=True, track_running_stats=True\n",
       "          (drop): Identity()\n",
       "          (act): SiLU(inplace=True)\n",
       "        )\n",
       "        (conv_dw): Conv2d(96, 96, kernel_size=(3, 3), stride=(2, 2), padding=(1, 1), groups=96, bias=False)\n",
       "        (bn2): BatchNormAct2d(\n",
       "          96, eps=1e-05, momentum=0.1, affine=True, track_running_stats=True\n",
       "          (drop): Identity()\n",
       "          (act): SiLU(inplace=True)\n",
       "        )\n",
       "        (se): SqueezeExcite(\n",
       "          (conv_reduce): Conv2d(96, 4, kernel_size=(1, 1), stride=(1, 1))\n",
       "          (act1): SiLU(inplace=True)\n",
       "          (conv_expand): Conv2d(4, 96, kernel_size=(1, 1), stride=(1, 1))\n",
       "          (gate): Sigmoid()\n",
       "        )\n",
       "        (conv_pwl): Conv2d(96, 24, kernel_size=(1, 1), stride=(1, 1), bias=False)\n",
       "        (bn3): BatchNormAct2d(\n",
       "          24, eps=1e-05, momentum=0.1, affine=True, track_running_stats=True\n",
       "          (drop): Identity()\n",
       "          (act): Identity()\n",
       "        )\n",
       "        (drop_path): Identity()\n",
       "      )\n",
       "      (1): InvertedResidual(\n",
       "        (conv_pw): Conv2d(24, 144, kernel_size=(1, 1), stride=(1, 1), bias=False)\n",
       "        (bn1): BatchNormAct2d(\n",
       "          144, eps=1e-05, momentum=0.1, affine=True, track_running_stats=True\n",
       "          (drop): Identity()\n",
       "          (act): SiLU(inplace=True)\n",
       "        )\n",
       "        (conv_dw): Conv2d(144, 144, kernel_size=(3, 3), stride=(1, 1), padding=(1, 1), groups=144, bias=False)\n",
       "        (bn2): BatchNormAct2d(\n",
       "          144, eps=1e-05, momentum=0.1, affine=True, track_running_stats=True\n",
       "          (drop): Identity()\n",
       "          (act): SiLU(inplace=True)\n",
       "        )\n",
       "        (se): SqueezeExcite(\n",
       "          (conv_reduce): Conv2d(144, 6, kernel_size=(1, 1), stride=(1, 1))\n",
       "          (act1): SiLU(inplace=True)\n",
       "          (conv_expand): Conv2d(6, 144, kernel_size=(1, 1), stride=(1, 1))\n",
       "          (gate): Sigmoid()\n",
       "        )\n",
       "        (conv_pwl): Conv2d(144, 24, kernel_size=(1, 1), stride=(1, 1), bias=False)\n",
       "        (bn3): BatchNormAct2d(\n",
       "          24, eps=1e-05, momentum=0.1, affine=True, track_running_stats=True\n",
       "          (drop): Identity()\n",
       "          (act): Identity()\n",
       "        )\n",
       "        (drop_path): Identity()\n",
       "      )\n",
       "      (2): InvertedResidual(\n",
       "        (conv_pw): Conv2d(24, 144, kernel_size=(1, 1), stride=(1, 1), bias=False)\n",
       "        (bn1): BatchNormAct2d(\n",
       "          144, eps=1e-05, momentum=0.1, affine=True, track_running_stats=True\n",
       "          (drop): Identity()\n",
       "          (act): SiLU(inplace=True)\n",
       "        )\n",
       "        (conv_dw): Conv2d(144, 144, kernel_size=(3, 3), stride=(1, 1), padding=(1, 1), groups=144, bias=False)\n",
       "        (bn2): BatchNormAct2d(\n",
       "          144, eps=1e-05, momentum=0.1, affine=True, track_running_stats=True\n",
       "          (drop): Identity()\n",
       "          (act): SiLU(inplace=True)\n",
       "        )\n",
       "        (se): SqueezeExcite(\n",
       "          (conv_reduce): Conv2d(144, 6, kernel_size=(1, 1), stride=(1, 1))\n",
       "          (act1): SiLU(inplace=True)\n",
       "          (conv_expand): Conv2d(6, 144, kernel_size=(1, 1), stride=(1, 1))\n",
       "          (gate): Sigmoid()\n",
       "        )\n",
       "        (conv_pwl): Conv2d(144, 24, kernel_size=(1, 1), stride=(1, 1), bias=False)\n",
       "        (bn3): BatchNormAct2d(\n",
       "          24, eps=1e-05, momentum=0.1, affine=True, track_running_stats=True\n",
       "          (drop): Identity()\n",
       "          (act): Identity()\n",
       "        )\n",
       "        (drop_path): Identity()\n",
       "      )\n",
       "    )\n",
       "    (2): Sequential(\n",
       "      (0): InvertedResidual(\n",
       "        (conv_pw): Conv2d(24, 144, kernel_size=(1, 1), stride=(1, 1), bias=False)\n",
       "        (bn1): BatchNormAct2d(\n",
       "          144, eps=1e-05, momentum=0.1, affine=True, track_running_stats=True\n",
       "          (drop): Identity()\n",
       "          (act): SiLU(inplace=True)\n",
       "        )\n",
       "        (conv_dw): Conv2d(144, 144, kernel_size=(5, 5), stride=(2, 2), padding=(2, 2), groups=144, bias=False)\n",
       "        (bn2): BatchNormAct2d(\n",
       "          144, eps=1e-05, momentum=0.1, affine=True, track_running_stats=True\n",
       "          (drop): Identity()\n",
       "          (act): SiLU(inplace=True)\n",
       "        )\n",
       "        (se): SqueezeExcite(\n",
       "          (conv_reduce): Conv2d(144, 6, kernel_size=(1, 1), stride=(1, 1))\n",
       "          (act1): SiLU(inplace=True)\n",
       "          (conv_expand): Conv2d(6, 144, kernel_size=(1, 1), stride=(1, 1))\n",
       "          (gate): Sigmoid()\n",
       "        )\n",
       "        (conv_pwl): Conv2d(144, 40, kernel_size=(1, 1), stride=(1, 1), bias=False)\n",
       "        (bn3): BatchNormAct2d(\n",
       "          40, eps=1e-05, momentum=0.1, affine=True, track_running_stats=True\n",
       "          (drop): Identity()\n",
       "          (act): Identity()\n",
       "        )\n",
       "        (drop_path): Identity()\n",
       "      )\n",
       "      (1): InvertedResidual(\n",
       "        (conv_pw): Conv2d(40, 240, kernel_size=(1, 1), stride=(1, 1), bias=False)\n",
       "        (bn1): BatchNormAct2d(\n",
       "          240, eps=1e-05, momentum=0.1, affine=True, track_running_stats=True\n",
       "          (drop): Identity()\n",
       "          (act): SiLU(inplace=True)\n",
       "        )\n",
       "        (conv_dw): Conv2d(240, 240, kernel_size=(5, 5), stride=(1, 1), padding=(2, 2), groups=240, bias=False)\n",
       "        (bn2): BatchNormAct2d(\n",
       "          240, eps=1e-05, momentum=0.1, affine=True, track_running_stats=True\n",
       "          (drop): Identity()\n",
       "          (act): SiLU(inplace=True)\n",
       "        )\n",
       "        (se): SqueezeExcite(\n",
       "          (conv_reduce): Conv2d(240, 10, kernel_size=(1, 1), stride=(1, 1))\n",
       "          (act1): SiLU(inplace=True)\n",
       "          (conv_expand): Conv2d(10, 240, kernel_size=(1, 1), stride=(1, 1))\n",
       "          (gate): Sigmoid()\n",
       "        )\n",
       "        (conv_pwl): Conv2d(240, 40, kernel_size=(1, 1), stride=(1, 1), bias=False)\n",
       "        (bn3): BatchNormAct2d(\n",
       "          40, eps=1e-05, momentum=0.1, affine=True, track_running_stats=True\n",
       "          (drop): Identity()\n",
       "          (act): Identity()\n",
       "        )\n",
       "        (drop_path): Identity()\n",
       "      )\n",
       "      (2): InvertedResidual(\n",
       "        (conv_pw): Conv2d(40, 240, kernel_size=(1, 1), stride=(1, 1), bias=False)\n",
       "        (bn1): BatchNormAct2d(\n",
       "          240, eps=1e-05, momentum=0.1, affine=True, track_running_stats=True\n",
       "          (drop): Identity()\n",
       "          (act): SiLU(inplace=True)\n",
       "        )\n",
       "        (conv_dw): Conv2d(240, 240, kernel_size=(5, 5), stride=(1, 1), padding=(2, 2), groups=240, bias=False)\n",
       "        (bn2): BatchNormAct2d(\n",
       "          240, eps=1e-05, momentum=0.1, affine=True, track_running_stats=True\n",
       "          (drop): Identity()\n",
       "          (act): SiLU(inplace=True)\n",
       "        )\n",
       "        (se): SqueezeExcite(\n",
       "          (conv_reduce): Conv2d(240, 10, kernel_size=(1, 1), stride=(1, 1))\n",
       "          (act1): SiLU(inplace=True)\n",
       "          (conv_expand): Conv2d(10, 240, kernel_size=(1, 1), stride=(1, 1))\n",
       "          (gate): Sigmoid()\n",
       "        )\n",
       "        (conv_pwl): Conv2d(240, 40, kernel_size=(1, 1), stride=(1, 1), bias=False)\n",
       "        (bn3): BatchNormAct2d(\n",
       "          40, eps=1e-05, momentum=0.1, affine=True, track_running_stats=True\n",
       "          (drop): Identity()\n",
       "          (act): Identity()\n",
       "        )\n",
       "        (drop_path): Identity()\n",
       "      )\n",
       "    )\n",
       "    (3): Sequential(\n",
       "      (0): InvertedResidual(\n",
       "        (conv_pw): Conv2d(40, 240, kernel_size=(1, 1), stride=(1, 1), bias=False)\n",
       "        (bn1): BatchNormAct2d(\n",
       "          240, eps=1e-05, momentum=0.1, affine=True, track_running_stats=True\n",
       "          (drop): Identity()\n",
       "          (act): SiLU(inplace=True)\n",
       "        )\n",
       "        (conv_dw): Conv2d(240, 240, kernel_size=(3, 3), stride=(2, 2), padding=(1, 1), groups=240, bias=False)\n",
       "        (bn2): BatchNormAct2d(\n",
       "          240, eps=1e-05, momentum=0.1, affine=True, track_running_stats=True\n",
       "          (drop): Identity()\n",
       "          (act): SiLU(inplace=True)\n",
       "        )\n",
       "        (se): SqueezeExcite(\n",
       "          (conv_reduce): Conv2d(240, 10, kernel_size=(1, 1), stride=(1, 1))\n",
       "          (act1): SiLU(inplace=True)\n",
       "          (conv_expand): Conv2d(10, 240, kernel_size=(1, 1), stride=(1, 1))\n",
       "          (gate): Sigmoid()\n",
       "        )\n",
       "        (conv_pwl): Conv2d(240, 80, kernel_size=(1, 1), stride=(1, 1), bias=False)\n",
       "        (bn3): BatchNormAct2d(\n",
       "          80, eps=1e-05, momentum=0.1, affine=True, track_running_stats=True\n",
       "          (drop): Identity()\n",
       "          (act): Identity()\n",
       "        )\n",
       "        (drop_path): Identity()\n",
       "      )\n",
       "      (1): InvertedResidual(\n",
       "        (conv_pw): Conv2d(80, 480, kernel_size=(1, 1), stride=(1, 1), bias=False)\n",
       "        (bn1): BatchNormAct2d(\n",
       "          480, eps=1e-05, momentum=0.1, affine=True, track_running_stats=True\n",
       "          (drop): Identity()\n",
       "          (act): SiLU(inplace=True)\n",
       "        )\n",
       "        (conv_dw): Conv2d(480, 480, kernel_size=(3, 3), stride=(1, 1), padding=(1, 1), groups=480, bias=False)\n",
       "        (bn2): BatchNormAct2d(\n",
       "          480, eps=1e-05, momentum=0.1, affine=True, track_running_stats=True\n",
       "          (drop): Identity()\n",
       "          (act): SiLU(inplace=True)\n",
       "        )\n",
       "        (se): SqueezeExcite(\n",
       "          (conv_reduce): Conv2d(480, 20, kernel_size=(1, 1), stride=(1, 1))\n",
       "          (act1): SiLU(inplace=True)\n",
       "          (conv_expand): Conv2d(20, 480, kernel_size=(1, 1), stride=(1, 1))\n",
       "          (gate): Sigmoid()\n",
       "        )\n",
       "        (conv_pwl): Conv2d(480, 80, kernel_size=(1, 1), stride=(1, 1), bias=False)\n",
       "        (bn3): BatchNormAct2d(\n",
       "          80, eps=1e-05, momentum=0.1, affine=True, track_running_stats=True\n",
       "          (drop): Identity()\n",
       "          (act): Identity()\n",
       "        )\n",
       "        (drop_path): Identity()\n",
       "      )\n",
       "      (2): InvertedResidual(\n",
       "        (conv_pw): Conv2d(80, 480, kernel_size=(1, 1), stride=(1, 1), bias=False)\n",
       "        (bn1): BatchNormAct2d(\n",
       "          480, eps=1e-05, momentum=0.1, affine=True, track_running_stats=True\n",
       "          (drop): Identity()\n",
       "          (act): SiLU(inplace=True)\n",
       "        )\n",
       "        (conv_dw): Conv2d(480, 480, kernel_size=(3, 3), stride=(1, 1), padding=(1, 1), groups=480, bias=False)\n",
       "        (bn2): BatchNormAct2d(\n",
       "          480, eps=1e-05, momentum=0.1, affine=True, track_running_stats=True\n",
       "          (drop): Identity()\n",
       "          (act): SiLU(inplace=True)\n",
       "        )\n",
       "        (se): SqueezeExcite(\n",
       "          (conv_reduce): Conv2d(480, 20, kernel_size=(1, 1), stride=(1, 1))\n",
       "          (act1): SiLU(inplace=True)\n",
       "          (conv_expand): Conv2d(20, 480, kernel_size=(1, 1), stride=(1, 1))\n",
       "          (gate): Sigmoid()\n",
       "        )\n",
       "        (conv_pwl): Conv2d(480, 80, kernel_size=(1, 1), stride=(1, 1), bias=False)\n",
       "        (bn3): BatchNormAct2d(\n",
       "          80, eps=1e-05, momentum=0.1, affine=True, track_running_stats=True\n",
       "          (drop): Identity()\n",
       "          (act): Identity()\n",
       "        )\n",
       "        (drop_path): Identity()\n",
       "      )\n",
       "      (3): InvertedResidual(\n",
       "        (conv_pw): Conv2d(80, 480, kernel_size=(1, 1), stride=(1, 1), bias=False)\n",
       "        (bn1): BatchNormAct2d(\n",
       "          480, eps=1e-05, momentum=0.1, affine=True, track_running_stats=True\n",
       "          (drop): Identity()\n",
       "          (act): SiLU(inplace=True)\n",
       "        )\n",
       "        (conv_dw): Conv2d(480, 480, kernel_size=(3, 3), stride=(1, 1), padding=(1, 1), groups=480, bias=False)\n",
       "        (bn2): BatchNormAct2d(\n",
       "          480, eps=1e-05, momentum=0.1, affine=True, track_running_stats=True\n",
       "          (drop): Identity()\n",
       "          (act): SiLU(inplace=True)\n",
       "        )\n",
       "        (se): SqueezeExcite(\n",
       "          (conv_reduce): Conv2d(480, 20, kernel_size=(1, 1), stride=(1, 1))\n",
       "          (act1): SiLU(inplace=True)\n",
       "          (conv_expand): Conv2d(20, 480, kernel_size=(1, 1), stride=(1, 1))\n",
       "          (gate): Sigmoid()\n",
       "        )\n",
       "        (conv_pwl): Conv2d(480, 80, kernel_size=(1, 1), stride=(1, 1), bias=False)\n",
       "        (bn3): BatchNormAct2d(\n",
       "          80, eps=1e-05, momentum=0.1, affine=True, track_running_stats=True\n",
       "          (drop): Identity()\n",
       "          (act): Identity()\n",
       "        )\n",
       "        (drop_path): Identity()\n",
       "      )\n",
       "    )\n",
       "    (4): Sequential(\n",
       "      (0): InvertedResidual(\n",
       "        (conv_pw): Conv2d(80, 480, kernel_size=(1, 1), stride=(1, 1), bias=False)\n",
       "        (bn1): BatchNormAct2d(\n",
       "          480, eps=1e-05, momentum=0.1, affine=True, track_running_stats=True\n",
       "          (drop): Identity()\n",
       "          (act): SiLU(inplace=True)\n",
       "        )\n",
       "        (conv_dw): Conv2d(480, 480, kernel_size=(5, 5), stride=(1, 1), padding=(2, 2), groups=480, bias=False)\n",
       "        (bn2): BatchNormAct2d(\n",
       "          480, eps=1e-05, momentum=0.1, affine=True, track_running_stats=True\n",
       "          (drop): Identity()\n",
       "          (act): SiLU(inplace=True)\n",
       "        )\n",
       "        (se): SqueezeExcite(\n",
       "          (conv_reduce): Conv2d(480, 20, kernel_size=(1, 1), stride=(1, 1))\n",
       "          (act1): SiLU(inplace=True)\n",
       "          (conv_expand): Conv2d(20, 480, kernel_size=(1, 1), stride=(1, 1))\n",
       "          (gate): Sigmoid()\n",
       "        )\n",
       "        (conv_pwl): Conv2d(480, 112, kernel_size=(1, 1), stride=(1, 1), bias=False)\n",
       "        (bn3): BatchNormAct2d(\n",
       "          112, eps=1e-05, momentum=0.1, affine=True, track_running_stats=True\n",
       "          (drop): Identity()\n",
       "          (act): Identity()\n",
       "        )\n",
       "        (drop_path): Identity()\n",
       "      )\n",
       "      (1): InvertedResidual(\n",
       "        (conv_pw): Conv2d(112, 672, kernel_size=(1, 1), stride=(1, 1), bias=False)\n",
       "        (bn1): BatchNormAct2d(\n",
       "          672, eps=1e-05, momentum=0.1, affine=True, track_running_stats=True\n",
       "          (drop): Identity()\n",
       "          (act): SiLU(inplace=True)\n",
       "        )\n",
       "        (conv_dw): Conv2d(672, 672, kernel_size=(5, 5), stride=(1, 1), padding=(2, 2), groups=672, bias=False)\n",
       "        (bn2): BatchNormAct2d(\n",
       "          672, eps=1e-05, momentum=0.1, affine=True, track_running_stats=True\n",
       "          (drop): Identity()\n",
       "          (act): SiLU(inplace=True)\n",
       "        )\n",
       "        (se): SqueezeExcite(\n",
       "          (conv_reduce): Conv2d(672, 28, kernel_size=(1, 1), stride=(1, 1))\n",
       "          (act1): SiLU(inplace=True)\n",
       "          (conv_expand): Conv2d(28, 672, kernel_size=(1, 1), stride=(1, 1))\n",
       "          (gate): Sigmoid()\n",
       "        )\n",
       "        (conv_pwl): Conv2d(672, 112, kernel_size=(1, 1), stride=(1, 1), bias=False)\n",
       "        (bn3): BatchNormAct2d(\n",
       "          112, eps=1e-05, momentum=0.1, affine=True, track_running_stats=True\n",
       "          (drop): Identity()\n",
       "          (act): Identity()\n",
       "        )\n",
       "        (drop_path): Identity()\n",
       "      )\n",
       "      (2): InvertedResidual(\n",
       "        (conv_pw): Conv2d(112, 672, kernel_size=(1, 1), stride=(1, 1), bias=False)\n",
       "        (bn1): BatchNormAct2d(\n",
       "          672, eps=1e-05, momentum=0.1, affine=True, track_running_stats=True\n",
       "          (drop): Identity()\n",
       "          (act): SiLU(inplace=True)\n",
       "        )\n",
       "        (conv_dw): Conv2d(672, 672, kernel_size=(5, 5), stride=(1, 1), padding=(2, 2), groups=672, bias=False)\n",
       "        (bn2): BatchNormAct2d(\n",
       "          672, eps=1e-05, momentum=0.1, affine=True, track_running_stats=True\n",
       "          (drop): Identity()\n",
       "          (act): SiLU(inplace=True)\n",
       "        )\n",
       "        (se): SqueezeExcite(\n",
       "          (conv_reduce): Conv2d(672, 28, kernel_size=(1, 1), stride=(1, 1))\n",
       "          (act1): SiLU(inplace=True)\n",
       "          (conv_expand): Conv2d(28, 672, kernel_size=(1, 1), stride=(1, 1))\n",
       "          (gate): Sigmoid()\n",
       "        )\n",
       "        (conv_pwl): Conv2d(672, 112, kernel_size=(1, 1), stride=(1, 1), bias=False)\n",
       "        (bn3): BatchNormAct2d(\n",
       "          112, eps=1e-05, momentum=0.1, affine=True, track_running_stats=True\n",
       "          (drop): Identity()\n",
       "          (act): Identity()\n",
       "        )\n",
       "        (drop_path): Identity()\n",
       "      )\n",
       "      (3): InvertedResidual(\n",
       "        (conv_pw): Conv2d(112, 672, kernel_size=(1, 1), stride=(1, 1), bias=False)\n",
       "        (bn1): BatchNormAct2d(\n",
       "          672, eps=1e-05, momentum=0.1, affine=True, track_running_stats=True\n",
       "          (drop): Identity()\n",
       "          (act): SiLU(inplace=True)\n",
       "        )\n",
       "        (conv_dw): Conv2d(672, 672, kernel_size=(5, 5), stride=(1, 1), padding=(2, 2), groups=672, bias=False)\n",
       "        (bn2): BatchNormAct2d(\n",
       "          672, eps=1e-05, momentum=0.1, affine=True, track_running_stats=True\n",
       "          (drop): Identity()\n",
       "          (act): SiLU(inplace=True)\n",
       "        )\n",
       "        (se): SqueezeExcite(\n",
       "          (conv_reduce): Conv2d(672, 28, kernel_size=(1, 1), stride=(1, 1))\n",
       "          (act1): SiLU(inplace=True)\n",
       "          (conv_expand): Conv2d(28, 672, kernel_size=(1, 1), stride=(1, 1))\n",
       "          (gate): Sigmoid()\n",
       "        )\n",
       "        (conv_pwl): Conv2d(672, 112, kernel_size=(1, 1), stride=(1, 1), bias=False)\n",
       "        (bn3): BatchNormAct2d(\n",
       "          112, eps=1e-05, momentum=0.1, affine=True, track_running_stats=True\n",
       "          (drop): Identity()\n",
       "          (act): Identity()\n",
       "        )\n",
       "        (drop_path): Identity()\n",
       "      )\n",
       "    )\n",
       "    (5): Sequential(\n",
       "      (0): InvertedResidual(\n",
       "        (conv_pw): Conv2d(112, 672, kernel_size=(1, 1), stride=(1, 1), bias=False)\n",
       "        (bn1): BatchNormAct2d(\n",
       "          672, eps=1e-05, momentum=0.1, affine=True, track_running_stats=True\n",
       "          (drop): Identity()\n",
       "          (act): SiLU(inplace=True)\n",
       "        )\n",
       "        (conv_dw): Conv2d(672, 672, kernel_size=(5, 5), stride=(2, 2), padding=(2, 2), groups=672, bias=False)\n",
       "        (bn2): BatchNormAct2d(\n",
       "          672, eps=1e-05, momentum=0.1, affine=True, track_running_stats=True\n",
       "          (drop): Identity()\n",
       "          (act): SiLU(inplace=True)\n",
       "        )\n",
       "        (se): SqueezeExcite(\n",
       "          (conv_reduce): Conv2d(672, 28, kernel_size=(1, 1), stride=(1, 1))\n",
       "          (act1): SiLU(inplace=True)\n",
       "          (conv_expand): Conv2d(28, 672, kernel_size=(1, 1), stride=(1, 1))\n",
       "          (gate): Sigmoid()\n",
       "        )\n",
       "        (conv_pwl): Conv2d(672, 192, kernel_size=(1, 1), stride=(1, 1), bias=False)\n",
       "        (bn3): BatchNormAct2d(\n",
       "          192, eps=1e-05, momentum=0.1, affine=True, track_running_stats=True\n",
       "          (drop): Identity()\n",
       "          (act): Identity()\n",
       "        )\n",
       "        (drop_path): Identity()\n",
       "      )\n",
       "      (1): InvertedResidual(\n",
       "        (conv_pw): Conv2d(192, 1152, kernel_size=(1, 1), stride=(1, 1), bias=False)\n",
       "        (bn1): BatchNormAct2d(\n",
       "          1152, eps=1e-05, momentum=0.1, affine=True, track_running_stats=True\n",
       "          (drop): Identity()\n",
       "          (act): SiLU(inplace=True)\n",
       "        )\n",
       "        (conv_dw): Conv2d(1152, 1152, kernel_size=(5, 5), stride=(1, 1), padding=(2, 2), groups=1152, bias=False)\n",
       "        (bn2): BatchNormAct2d(\n",
       "          1152, eps=1e-05, momentum=0.1, affine=True, track_running_stats=True\n",
       "          (drop): Identity()\n",
       "          (act): SiLU(inplace=True)\n",
       "        )\n",
       "        (se): SqueezeExcite(\n",
       "          (conv_reduce): Conv2d(1152, 48, kernel_size=(1, 1), stride=(1, 1))\n",
       "          (act1): SiLU(inplace=True)\n",
       "          (conv_expand): Conv2d(48, 1152, kernel_size=(1, 1), stride=(1, 1))\n",
       "          (gate): Sigmoid()\n",
       "        )\n",
       "        (conv_pwl): Conv2d(1152, 192, kernel_size=(1, 1), stride=(1, 1), bias=False)\n",
       "        (bn3): BatchNormAct2d(\n",
       "          192, eps=1e-05, momentum=0.1, affine=True, track_running_stats=True\n",
       "          (drop): Identity()\n",
       "          (act): Identity()\n",
       "        )\n",
       "        (drop_path): Identity()\n",
       "      )\n",
       "      (2): InvertedResidual(\n",
       "        (conv_pw): Conv2d(192, 1152, kernel_size=(1, 1), stride=(1, 1), bias=False)\n",
       "        (bn1): BatchNormAct2d(\n",
       "          1152, eps=1e-05, momentum=0.1, affine=True, track_running_stats=True\n",
       "          (drop): Identity()\n",
       "          (act): SiLU(inplace=True)\n",
       "        )\n",
       "        (conv_dw): Conv2d(1152, 1152, kernel_size=(5, 5), stride=(1, 1), padding=(2, 2), groups=1152, bias=False)\n",
       "        (bn2): BatchNormAct2d(\n",
       "          1152, eps=1e-05, momentum=0.1, affine=True, track_running_stats=True\n",
       "          (drop): Identity()\n",
       "          (act): SiLU(inplace=True)\n",
       "        )\n",
       "        (se): SqueezeExcite(\n",
       "          (conv_reduce): Conv2d(1152, 48, kernel_size=(1, 1), stride=(1, 1))\n",
       "          (act1): SiLU(inplace=True)\n",
       "          (conv_expand): Conv2d(48, 1152, kernel_size=(1, 1), stride=(1, 1))\n",
       "          (gate): Sigmoid()\n",
       "        )\n",
       "        (conv_pwl): Conv2d(1152, 192, kernel_size=(1, 1), stride=(1, 1), bias=False)\n",
       "        (bn3): BatchNormAct2d(\n",
       "          192, eps=1e-05, momentum=0.1, affine=True, track_running_stats=True\n",
       "          (drop): Identity()\n",
       "          (act): Identity()\n",
       "        )\n",
       "        (drop_path): Identity()\n",
       "      )\n",
       "      (3): InvertedResidual(\n",
       "        (conv_pw): Conv2d(192, 1152, kernel_size=(1, 1), stride=(1, 1), bias=False)\n",
       "        (bn1): BatchNormAct2d(\n",
       "          1152, eps=1e-05, momentum=0.1, affine=True, track_running_stats=True\n",
       "          (drop): Identity()\n",
       "          (act): SiLU(inplace=True)\n",
       "        )\n",
       "        (conv_dw): Conv2d(1152, 1152, kernel_size=(5, 5), stride=(1, 1), padding=(2, 2), groups=1152, bias=False)\n",
       "        (bn2): BatchNormAct2d(\n",
       "          1152, eps=1e-05, momentum=0.1, affine=True, track_running_stats=True\n",
       "          (drop): Identity()\n",
       "          (act): SiLU(inplace=True)\n",
       "        )\n",
       "        (se): SqueezeExcite(\n",
       "          (conv_reduce): Conv2d(1152, 48, kernel_size=(1, 1), stride=(1, 1))\n",
       "          (act1): SiLU(inplace=True)\n",
       "          (conv_expand): Conv2d(48, 1152, kernel_size=(1, 1), stride=(1, 1))\n",
       "          (gate): Sigmoid()\n",
       "        )\n",
       "        (conv_pwl): Conv2d(1152, 192, kernel_size=(1, 1), stride=(1, 1), bias=False)\n",
       "        (bn3): BatchNormAct2d(\n",
       "          192, eps=1e-05, momentum=0.1, affine=True, track_running_stats=True\n",
       "          (drop): Identity()\n",
       "          (act): Identity()\n",
       "        )\n",
       "        (drop_path): Identity()\n",
       "      )\n",
       "      (4): InvertedResidual(\n",
       "        (conv_pw): Conv2d(192, 1152, kernel_size=(1, 1), stride=(1, 1), bias=False)\n",
       "        (bn1): BatchNormAct2d(\n",
       "          1152, eps=1e-05, momentum=0.1, affine=True, track_running_stats=True\n",
       "          (drop): Identity()\n",
       "          (act): SiLU(inplace=True)\n",
       "        )\n",
       "        (conv_dw): Conv2d(1152, 1152, kernel_size=(5, 5), stride=(1, 1), padding=(2, 2), groups=1152, bias=False)\n",
       "        (bn2): BatchNormAct2d(\n",
       "          1152, eps=1e-05, momentum=0.1, affine=True, track_running_stats=True\n",
       "          (drop): Identity()\n",
       "          (act): SiLU(inplace=True)\n",
       "        )\n",
       "        (se): SqueezeExcite(\n",
       "          (conv_reduce): Conv2d(1152, 48, kernel_size=(1, 1), stride=(1, 1))\n",
       "          (act1): SiLU(inplace=True)\n",
       "          (conv_expand): Conv2d(48, 1152, kernel_size=(1, 1), stride=(1, 1))\n",
       "          (gate): Sigmoid()\n",
       "        )\n",
       "        (conv_pwl): Conv2d(1152, 192, kernel_size=(1, 1), stride=(1, 1), bias=False)\n",
       "        (bn3): BatchNormAct2d(\n",
       "          192, eps=1e-05, momentum=0.1, affine=True, track_running_stats=True\n",
       "          (drop): Identity()\n",
       "          (act): Identity()\n",
       "        )\n",
       "        (drop_path): Identity()\n",
       "      )\n",
       "    )\n",
       "    (6): Sequential(\n",
       "      (0): InvertedResidual(\n",
       "        (conv_pw): Conv2d(192, 1152, kernel_size=(1, 1), stride=(1, 1), bias=False)\n",
       "        (bn1): BatchNormAct2d(\n",
       "          1152, eps=1e-05, momentum=0.1, affine=True, track_running_stats=True\n",
       "          (drop): Identity()\n",
       "          (act): SiLU(inplace=True)\n",
       "        )\n",
       "        (conv_dw): Conv2d(1152, 1152, kernel_size=(3, 3), stride=(1, 1), padding=(1, 1), groups=1152, bias=False)\n",
       "        (bn2): BatchNormAct2d(\n",
       "          1152, eps=1e-05, momentum=0.1, affine=True, track_running_stats=True\n",
       "          (drop): Identity()\n",
       "          (act): SiLU(inplace=True)\n",
       "        )\n",
       "        (se): SqueezeExcite(\n",
       "          (conv_reduce): Conv2d(1152, 48, kernel_size=(1, 1), stride=(1, 1))\n",
       "          (act1): SiLU(inplace=True)\n",
       "          (conv_expand): Conv2d(48, 1152, kernel_size=(1, 1), stride=(1, 1))\n",
       "          (gate): Sigmoid()\n",
       "        )\n",
       "        (conv_pwl): Conv2d(1152, 320, kernel_size=(1, 1), stride=(1, 1), bias=False)\n",
       "        (bn3): BatchNormAct2d(\n",
       "          320, eps=1e-05, momentum=0.1, affine=True, track_running_stats=True\n",
       "          (drop): Identity()\n",
       "          (act): Identity()\n",
       "        )\n",
       "        (drop_path): Identity()\n",
       "      )\n",
       "      (1): InvertedResidual(\n",
       "        (conv_pw): Conv2d(320, 1920, kernel_size=(1, 1), stride=(1, 1), bias=False)\n",
       "        (bn1): BatchNormAct2d(\n",
       "          1920, eps=1e-05, momentum=0.1, affine=True, track_running_stats=True\n",
       "          (drop): Identity()\n",
       "          (act): SiLU(inplace=True)\n",
       "        )\n",
       "        (conv_dw): Conv2d(1920, 1920, kernel_size=(3, 3), stride=(1, 1), padding=(1, 1), groups=1920, bias=False)\n",
       "        (bn2): BatchNormAct2d(\n",
       "          1920, eps=1e-05, momentum=0.1, affine=True, track_running_stats=True\n",
       "          (drop): Identity()\n",
       "          (act): SiLU(inplace=True)\n",
       "        )\n",
       "        (se): SqueezeExcite(\n",
       "          (conv_reduce): Conv2d(1920, 80, kernel_size=(1, 1), stride=(1, 1))\n",
       "          (act1): SiLU(inplace=True)\n",
       "          (conv_expand): Conv2d(80, 1920, kernel_size=(1, 1), stride=(1, 1))\n",
       "          (gate): Sigmoid()\n",
       "        )\n",
       "        (conv_pwl): Conv2d(1920, 320, kernel_size=(1, 1), stride=(1, 1), bias=False)\n",
       "        (bn3): BatchNormAct2d(\n",
       "          320, eps=1e-05, momentum=0.1, affine=True, track_running_stats=True\n",
       "          (drop): Identity()\n",
       "          (act): Identity()\n",
       "        )\n",
       "        (drop_path): Identity()\n",
       "      )\n",
       "    )\n",
       "  )\n",
       "  (conv_head): Conv2d(320, 1280, kernel_size=(1, 1), stride=(1, 1), bias=False)\n",
       "  (bn2): BatchNormAct2d(\n",
       "    1280, eps=1e-05, momentum=0.1, affine=True, track_running_stats=True\n",
       "    (drop): Identity()\n",
       "    (act): SiLU(inplace=True)\n",
       "  )\n",
       "  (global_pool): SelectAdaptivePool2d(pool_type=avg, flatten=Flatten(start_dim=1, end_dim=-1))\n",
       "  (classifier): Linear(in_features=1280, out_features=1000, bias=True)\n",
       ")"
      ]
     },
     "execution_count": 6,
     "metadata": {},
     "output_type": "execute_result"
    }
   ],
   "source": [
    "import timm\n",
    "\n",
    "model = timm.create_model('efficientnet_b1', pretrained=True)\n",
    "model.eval()"
   ]
  },
  {
   "cell_type": "code",
   "execution_count": 7,
   "metadata": {},
   "outputs": [
    {
     "ename": "OSError",
     "evalue": "Incorrect path_or_model_id: 'EfficientNet(\n  (conv_stem): Conv2d(3, 32, kernel_size=(3, 3), stride=(2, 2), padding=(1, 1), bias=False)\n  (bn1): BatchNormAct2d(\n    32, eps=1e-05, momentum=0.1, affine=True, track_running_stats=True\n    (drop): Identity()\n    (act): SiLU(inplace=True)\n  )\n  (blocks): Sequential(\n    (0): Sequential(\n      (0): DepthwiseSeparableConv(\n        (conv_dw): Conv2d(32, 32, kernel_size=(3, 3), stride=(1, 1), padding=(1, 1), groups=32, bias=False)\n        (bn1): BatchNormAct2d(\n          32, eps=1e-05, momentum=0.1, affine=True, track_running_stats=True\n          (drop): Identity()\n          (act): SiLU(inplace=True)\n        )\n        (se): SqueezeExcite(\n          (conv_reduce): Conv2d(32, 8, kernel_size=(1, 1), stride=(1, 1))\n          (act1): SiLU(inplace=True)\n          (conv_expand): Conv2d(8, 32, kernel_size=(1, 1), stride=(1, 1))\n          (gate): Sigmoid()\n        )\n        (conv_pw): Conv2d(32, 16, kernel_size=(1, 1), stride=(1, 1), bias=False)\n        (bn2): BatchNormAct2d(\n          16, eps=1e-05, momentum=0.1, affine=True, track_running_stats=True\n          (drop): Identity()\n          (act): Identity()\n        )\n        (drop_path): Identity()\n      )\n      (1): DepthwiseSeparableConv(\n        (conv_dw): Conv2d(16, 16, kernel_size=(3, 3), stride=(1, 1), padding=(1, 1), groups=16, bias=False)\n        (bn1): BatchNormAct2d(\n          16, eps=1e-05, momentum=0.1, affine=True, track_running_stats=True\n          (drop): Identity()\n          (act): SiLU(inplace=True)\n        )\n        (se): SqueezeExcite(\n          (conv_reduce): Conv2d(16, 4, kernel_size=(1, 1), stride=(1, 1))\n          (act1): SiLU(inplace=True)\n          (conv_expand): Conv2d(4, 16, kernel_size=(1, 1), stride=(1, 1))\n          (gate): Sigmoid()\n        )\n        (conv_pw): Conv2d(16, 16, kernel_size=(1, 1), stride=(1, 1), bias=False)\n        (bn2): BatchNormAct2d(\n          16, eps=1e-05, momentum=0.1, affine=True, track_running_stats=True\n          (drop): Identity()\n          (act): Identity()\n        )\n        (drop_path): Identity()\n      )\n    )\n    (1): Sequential(\n      (0): InvertedResidual(\n        (conv_pw): Conv2d(16, 96, kernel_size=(1, 1), stride=(1, 1), bias=False)\n        (bn1): BatchNormAct2d(\n          96, eps=1e-05, momentum=0.1, affine=True, track_running_stats=True\n          (drop): Identity()\n          (act): SiLU(inplace=True)\n        )\n        (conv_dw): Conv2d(96, 96, kernel_size=(3, 3), stride=(2, 2), padding=(1, 1), groups=96, bias=False)\n        (bn2): BatchNormAct2d(\n          96, eps=1e-05, momentum=0.1, affine=True, track_running_stats=True\n          (drop): Identity()\n          (act): SiLU(inplace=True)\n        )\n        (se): SqueezeExcite(\n          (conv_reduce): Conv2d(96, 4, kernel_size=(1, 1), stride=(1, 1))\n          (act1): SiLU(inplace=True)\n          (conv_expand): Conv2d(4, 96, kernel_size=(1, 1), stride=(1, 1))\n          (gate): Sigmoid()\n        )\n        (conv_pwl): Conv2d(96, 24, kernel_size=(1, 1), stride=(1, 1), bias=False)\n        (bn3): BatchNormAct2d(\n          24, eps=1e-05, momentum=0.1, affine=True, track_running_stats=True\n          (drop): Identity()\n          (act): Identity()\n        )\n        (drop_path): Identity()\n      )\n      (1): InvertedResidual(\n        (conv_pw): Conv2d(24, 144, kernel_size=(1, 1), stride=(1, 1), bias=False)\n        (bn1): BatchNormAct2d(\n          144, eps=1e-05, momentum=0.1, affine=True, track_running_stats=True\n          (drop): Identity()\n          (act): SiLU(inplace=True)\n        )\n        (conv_dw): Conv2d(144, 144, kernel_size=(3, 3), stride=(1, 1), padding=(1, 1), groups=144, bias=False)\n        (bn2): BatchNormAct2d(\n          144, eps=1e-05, momentum=0.1, affine=True, track_running_stats=True\n          (drop): Identity()\n          (act): SiLU(inplace=True)\n        )\n        (se): SqueezeExcite(\n          (conv_reduce): Conv2d(144, 6, kernel_size=(1, 1), stride=(1, 1))\n          (act1): SiLU(inplace=True)\n          (conv_expand): Conv2d(6, 144, kernel_size=(1, 1), stride=(1, 1))\n          (gate): Sigmoid()\n        )\n        (conv_pwl): Conv2d(144, 24, kernel_size=(1, 1), stride=(1, 1), bias=False)\n        (bn3): BatchNormAct2d(\n          24, eps=1e-05, momentum=0.1, affine=True, track_running_stats=True\n          (drop): Identity()\n          (act): Identity()\n        )\n        (drop_path): Identity()\n      )\n      (2): InvertedResidual(\n        (conv_pw): Conv2d(24, 144, kernel_size=(1, 1), stride=(1, 1), bias=False)\n        (bn1): BatchNormAct2d(\n          144, eps=1e-05, momentum=0.1, affine=True, track_running_stats=True\n          (drop): Identity()\n          (act): SiLU(inplace=True)\n        )\n        (conv_dw): Conv2d(144, 144, kernel_size=(3, 3), stride=(1, 1), padding=(1, 1), groups=144, bias=False)\n        (bn2): BatchNormAct2d(\n          144, eps=1e-05, momentum=0.1, affine=True, track_running_stats=True\n          (drop): Identity()\n          (act): SiLU(inplace=True)\n        )\n        (se): SqueezeExcite(\n          (conv_reduce): Conv2d(144, 6, kernel_size=(1, 1), stride=(1, 1))\n          (act1): SiLU(inplace=True)\n          (conv_expand): Conv2d(6, 144, kernel_size=(1, 1), stride=(1, 1))\n          (gate): Sigmoid()\n        )\n        (conv_pwl): Conv2d(144, 24, kernel_size=(1, 1), stride=(1, 1), bias=False)\n        (bn3): BatchNormAct2d(\n          24, eps=1e-05, momentum=0.1, affine=True, track_running_stats=True\n          (drop): Identity()\n          (act): Identity()\n        )\n        (drop_path): Identity()\n      )\n    )\n    (2): Sequential(\n      (0): InvertedResidual(\n        (conv_pw): Conv2d(24, 144, kernel_size=(1, 1), stride=(1, 1), bias=False)\n        (bn1): BatchNormAct2d(\n          144, eps=1e-05, momentum=0.1, affine=True, track_running_stats=True\n          (drop): Identity()\n          (act): SiLU(inplace=True)\n        )\n        (conv_dw): Conv2d(144, 144, kernel_size=(5, 5), stride=(2, 2), padding=(2, 2), groups=144, bias=False)\n        (bn2): BatchNormAct2d(\n          144, eps=1e-05, momentum=0.1, affine=True, track_running_stats=True\n          (drop): Identity()\n          (act): SiLU(inplace=True)\n        )\n        (se): SqueezeExcite(\n          (conv_reduce): Conv2d(144, 6, kernel_size=(1, 1), stride=(1, 1))\n          (act1): SiLU(inplace=True)\n          (conv_expand): Conv2d(6, 144, kernel_size=(1, 1), stride=(1, 1))\n          (gate): Sigmoid()\n        )\n        (conv_pwl): Conv2d(144, 40, kernel_size=(1, 1), stride=(1, 1), bias=False)\n        (bn3): BatchNormAct2d(\n          40, eps=1e-05, momentum=0.1, affine=True, track_running_stats=True\n          (drop): Identity()\n          (act): Identity()\n        )\n        (drop_path): Identity()\n      )\n      (1): InvertedResidual(\n        (conv_pw): Conv2d(40, 240, kernel_size=(1, 1), stride=(1, 1), bias=False)\n        (bn1): BatchNormAct2d(\n          240, eps=1e-05, momentum=0.1, affine=True, track_running_stats=True\n          (drop): Identity()\n          (act): SiLU(inplace=True)\n        )\n        (conv_dw): Conv2d(240, 240, kernel_size=(5, 5), stride=(1, 1), padding=(2, 2), groups=240, bias=False)\n        (bn2): BatchNormAct2d(\n          240, eps=1e-05, momentum=0.1, affine=True, track_running_stats=True\n          (drop): Identity()\n          (act): SiLU(inplace=True)\n        )\n        (se): SqueezeExcite(\n          (conv_reduce): Conv2d(240, 10, kernel_size=(1, 1), stride=(1, 1))\n          (act1): SiLU(inplace=True)\n          (conv_expand): Conv2d(10, 240, kernel_size=(1, 1), stride=(1, 1))\n          (gate): Sigmoid()\n        )\n        (conv_pwl): Conv2d(240, 40, kernel_size=(1, 1), stride=(1, 1), bias=False)\n        (bn3): BatchNormAct2d(\n          40, eps=1e-05, momentum=0.1, affine=True, track_running_stats=True\n          (drop): Identity()\n          (act): Identity()\n        )\n        (drop_path): Identity()\n      )\n      (2): InvertedResidual(\n        (conv_pw): Conv2d(40, 240, kernel_size=(1, 1), stride=(1, 1), bias=False)\n        (bn1): BatchNormAct2d(\n          240, eps=1e-05, momentum=0.1, affine=True, track_running_stats=True\n          (drop): Identity()\n          (act): SiLU(inplace=True)\n        )\n        (conv_dw): Conv2d(240, 240, kernel_size=(5, 5), stride=(1, 1), padding=(2, 2), groups=240, bias=False)\n        (bn2): BatchNormAct2d(\n          240, eps=1e-05, momentum=0.1, affine=True, track_running_stats=True\n          (drop): Identity()\n          (act): SiLU(inplace=True)\n        )\n        (se): SqueezeExcite(\n          (conv_reduce): Conv2d(240, 10, kernel_size=(1, 1), stride=(1, 1))\n          (act1): SiLU(inplace=True)\n          (conv_expand): Conv2d(10, 240, kernel_size=(1, 1), stride=(1, 1))\n          (gate): Sigmoid()\n        )\n        (conv_pwl): Conv2d(240, 40, kernel_size=(1, 1), stride=(1, 1), bias=False)\n        (bn3): BatchNormAct2d(\n          40, eps=1e-05, momentum=0.1, affine=True, track_running_stats=True\n          (drop): Identity()\n          (act): Identity()\n        )\n        (drop_path): Identity()\n      )\n    )\n    (3): Sequential(\n      (0): InvertedResidual(\n        (conv_pw): Conv2d(40, 240, kernel_size=(1, 1), stride=(1, 1), bias=False)\n        (bn1): BatchNormAct2d(\n          240, eps=1e-05, momentum=0.1, affine=True, track_running_stats=True\n          (drop): Identity()\n          (act): SiLU(inplace=True)\n        )\n        (conv_dw): Conv2d(240, 240, kernel_size=(3, 3), stride=(2, 2), padding=(1, 1), groups=240, bias=False)\n        (bn2): BatchNormAct2d(\n          240, eps=1e-05, momentum=0.1, affine=True, track_running_stats=True\n          (drop): Identity()\n          (act): SiLU(inplace=True)\n        )\n        (se): SqueezeExcite(\n          (conv_reduce): Conv2d(240, 10, kernel_size=(1, 1), stride=(1, 1))\n          (act1): SiLU(inplace=True)\n          (conv_expand): Conv2d(10, 240, kernel_size=(1, 1), stride=(1, 1))\n          (gate): Sigmoid()\n        )\n        (conv_pwl): Conv2d(240, 80, kernel_size=(1, 1), stride=(1, 1), bias=False)\n        (bn3): BatchNormAct2d(\n          80, eps=1e-05, momentum=0.1, affine=True, track_running_stats=True\n          (drop): Identity()\n          (act): Identity()\n        )\n        (drop_path): Identity()\n      )\n      (1): InvertedResidual(\n        (conv_pw): Conv2d(80, 480, kernel_size=(1, 1), stride=(1, 1), bias=False)\n        (bn1): BatchNormAct2d(\n          480, eps=1e-05, momentum=0.1, affine=True, track_running_stats=True\n          (drop): Identity()\n          (act): SiLU(inplace=True)\n        )\n        (conv_dw): Conv2d(480, 480, kernel_size=(3, 3), stride=(1, 1), padding=(1, 1), groups=480, bias=False)\n        (bn2): BatchNormAct2d(\n          480, eps=1e-05, momentum=0.1, affine=True, track_running_stats=True\n          (drop): Identity()\n          (act): SiLU(inplace=True)\n        )\n        (se): SqueezeExcite(\n          (conv_reduce): Conv2d(480, 20, kernel_size=(1, 1), stride=(1, 1))\n          (act1): SiLU(inplace=True)\n          (conv_expand): Conv2d(20, 480, kernel_size=(1, 1), stride=(1, 1))\n          (gate): Sigmoid()\n        )\n        (conv_pwl): Conv2d(480, 80, kernel_size=(1, 1), stride=(1, 1), bias=False)\n        (bn3): BatchNormAct2d(\n          80, eps=1e-05, momentum=0.1, affine=True, track_running_stats=True\n          (drop): Identity()\n          (act): Identity()\n        )\n        (drop_path): Identity()\n      )\n      (2): InvertedResidual(\n        (conv_pw): Conv2d(80, 480, kernel_size=(1, 1), stride=(1, 1), bias=False)\n        (bn1): BatchNormAct2d(\n          480, eps=1e-05, momentum=0.1, affine=True, track_running_stats=True\n          (drop): Identity()\n          (act): SiLU(inplace=True)\n        )\n        (conv_dw): Conv2d(480, 480, kernel_size=(3, 3), stride=(1, 1), padding=(1, 1), groups=480, bias=False)\n        (bn2): BatchNormAct2d(\n          480, eps=1e-05, momentum=0.1, affine=True, track_running_stats=True\n          (drop): Identity()\n          (act): SiLU(inplace=True)\n        )\n        (se): SqueezeExcite(\n          (conv_reduce): Conv2d(480, 20, kernel_size=(1, 1), stride=(1, 1))\n          (act1): SiLU(inplace=True)\n          (conv_expand): Conv2d(20, 480, kernel_size=(1, 1), stride=(1, 1))\n          (gate): Sigmoid()\n        )\n        (conv_pwl): Conv2d(480, 80, kernel_size=(1, 1), stride=(1, 1), bias=False)\n        (bn3): BatchNormAct2d(\n          80, eps=1e-05, momentum=0.1, affine=True, track_running_stats=True\n          (drop): Identity()\n          (act): Identity()\n        )\n        (drop_path): Identity()\n      )\n      (3): InvertedResidual(\n        (conv_pw): Conv2d(80, 480, kernel_size=(1, 1), stride=(1, 1), bias=False)\n        (bn1): BatchNormAct2d(\n          480, eps=1e-05, momentum=0.1, affine=True, track_running_stats=True\n          (drop): Identity()\n          (act): SiLU(inplace=True)\n        )\n        (conv_dw): Conv2d(480, 480, kernel_size=(3, 3), stride=(1, 1), padding=(1, 1), groups=480, bias=False)\n        (bn2): BatchNormAct2d(\n          480, eps=1e-05, momentum=0.1, affine=True, track_running_stats=True\n          (drop): Identity()\n          (act): SiLU(inplace=True)\n        )\n        (se): SqueezeExcite(\n          (conv_reduce): Conv2d(480, 20, kernel_size=(1, 1), stride=(1, 1))\n          (act1): SiLU(inplace=True)\n          (conv_expand): Conv2d(20, 480, kernel_size=(1, 1), stride=(1, 1))\n          (gate): Sigmoid()\n        )\n        (conv_pwl): Conv2d(480, 80, kernel_size=(1, 1), stride=(1, 1), bias=False)\n        (bn3): BatchNormAct2d(\n          80, eps=1e-05, momentum=0.1, affine=True, track_running_stats=True\n          (drop): Identity()\n          (act): Identity()\n        )\n        (drop_path): Identity()\n      )\n    )\n    (4): Sequential(\n      (0): InvertedResidual(\n        (conv_pw): Conv2d(80, 480, kernel_size=(1, 1), stride=(1, 1), bias=False)\n        (bn1): BatchNormAct2d(\n          480, eps=1e-05, momentum=0.1, affine=True, track_running_stats=True\n          (drop): Identity()\n          (act): SiLU(inplace=True)\n        )\n        (conv_dw): Conv2d(480, 480, kernel_size=(5, 5), stride=(1, 1), padding=(2, 2), groups=480, bias=False)\n        (bn2): BatchNormAct2d(\n          480, eps=1e-05, momentum=0.1, affine=True, track_running_stats=True\n          (drop): Identity()\n          (act): SiLU(inplace=True)\n        )\n        (se): SqueezeExcite(\n          (conv_reduce): Conv2d(480, 20, kernel_size=(1, 1), stride=(1, 1))\n          (act1): SiLU(inplace=True)\n          (conv_expand): Conv2d(20, 480, kernel_size=(1, 1), stride=(1, 1))\n          (gate): Sigmoid()\n        )\n        (conv_pwl): Conv2d(480, 112, kernel_size=(1, 1), stride=(1, 1), bias=False)\n        (bn3): BatchNormAct2d(\n          112, eps=1e-05, momentum=0.1, affine=True, track_running_stats=True\n          (drop): Identity()\n          (act): Identity()\n        )\n        (drop_path): Identity()\n      )\n      (1): InvertedResidual(\n        (conv_pw): Conv2d(112, 672, kernel_size=(1, 1), stride=(1, 1), bias=False)\n        (bn1): BatchNormAct2d(\n          672, eps=1e-05, momentum=0.1, affine=True, track_running_stats=True\n          (drop): Identity()\n          (act): SiLU(inplace=True)\n        )\n        (conv_dw): Conv2d(672, 672, kernel_size=(5, 5), stride=(1, 1), padding=(2, 2), groups=672, bias=False)\n        (bn2): BatchNormAct2d(\n          672, eps=1e-05, momentum=0.1, affine=True, track_running_stats=True\n          (drop): Identity()\n          (act): SiLU(inplace=True)\n        )\n        (se): SqueezeExcite(\n          (conv_reduce): Conv2d(672, 28, kernel_size=(1, 1), stride=(1, 1))\n          (act1): SiLU(inplace=True)\n          (conv_expand): Conv2d(28, 672, kernel_size=(1, 1), stride=(1, 1))\n          (gate): Sigmoid()\n        )\n        (conv_pwl): Conv2d(672, 112, kernel_size=(1, 1), stride=(1, 1), bias=False)\n        (bn3): BatchNormAct2d(\n          112, eps=1e-05, momentum=0.1, affine=True, track_running_stats=True\n          (drop): Identity()\n          (act): Identity()\n        )\n        (drop_path): Identity()\n      )\n      (2): InvertedResidual(\n        (conv_pw): Conv2d(112, 672, kernel_size=(1, 1), stride=(1, 1), bias=False)\n        (bn1): BatchNormAct2d(\n          672, eps=1e-05, momentum=0.1, affine=True, track_running_stats=True\n          (drop): Identity()\n          (act): SiLU(inplace=True)\n        )\n        (conv_dw): Conv2d(672, 672, kernel_size=(5, 5), stride=(1, 1), padding=(2, 2), groups=672, bias=False)\n        (bn2): BatchNormAct2d(\n          672, eps=1e-05, momentum=0.1, affine=True, track_running_stats=True\n          (drop): Identity()\n          (act): SiLU(inplace=True)\n        )\n        (se): SqueezeExcite(\n          (conv_reduce): Conv2d(672, 28, kernel_size=(1, 1), stride=(1, 1))\n          (act1): SiLU(inplace=True)\n          (conv_expand): Conv2d(28, 672, kernel_size=(1, 1), stride=(1, 1))\n          (gate): Sigmoid()\n        )\n        (conv_pwl): Conv2d(672, 112, kernel_size=(1, 1), stride=(1, 1), bias=False)\n        (bn3): BatchNormAct2d(\n          112, eps=1e-05, momentum=0.1, affine=True, track_running_stats=True\n          (drop): Identity()\n          (act): Identity()\n        )\n        (drop_path): Identity()\n      )\n      (3): InvertedResidual(\n        (conv_pw): Conv2d(112, 672, kernel_size=(1, 1), stride=(1, 1), bias=False)\n        (bn1): BatchNormAct2d(\n          672, eps=1e-05, momentum=0.1, affine=True, track_running_stats=True\n          (drop): Identity()\n          (act): SiLU(inplace=True)\n        )\n        (conv_dw): Conv2d(672, 672, kernel_size=(5, 5), stride=(1, 1), padding=(2, 2), groups=672, bias=False)\n        (bn2): BatchNormAct2d(\n          672, eps=1e-05, momentum=0.1, affine=True, track_running_stats=True\n          (drop): Identity()\n          (act): SiLU(inplace=True)\n        )\n        (se): SqueezeExcite(\n          (conv_reduce): Conv2d(672, 28, kernel_size=(1, 1), stride=(1, 1))\n          (act1): SiLU(inplace=True)\n          (conv_expand): Conv2d(28, 672, kernel_size=(1, 1), stride=(1, 1))\n          (gate): Sigmoid()\n        )\n        (conv_pwl): Conv2d(672, 112, kernel_size=(1, 1), stride=(1, 1), bias=False)\n        (bn3): BatchNormAct2d(\n          112, eps=1e-05, momentum=0.1, affine=True, track_running_stats=True\n          (drop): Identity()\n          (act): Identity()\n        )\n        (drop_path): Identity()\n      )\n    )\n    (5): Sequential(\n      (0): InvertedResidual(\n        (conv_pw): Conv2d(112, 672, kernel_size=(1, 1), stride=(1, 1), bias=False)\n        (bn1): BatchNormAct2d(\n          672, eps=1e-05, momentum=0.1, affine=True, track_running_stats=True\n          (drop): Identity()\n          (act): SiLU(inplace=True)\n        )\n        (conv_dw): Conv2d(672, 672, kernel_size=(5, 5), stride=(2, 2), padding=(2, 2), groups=672, bias=False)\n        (bn2): BatchNormAct2d(\n          672, eps=1e-05, momentum=0.1, affine=True, track_running_stats=True\n          (drop): Identity()\n          (act): SiLU(inplace=True)\n        )\n        (se): SqueezeExcite(\n          (conv_reduce): Conv2d(672, 28, kernel_size=(1, 1), stride=(1, 1))\n          (act1): SiLU(inplace=True)\n          (conv_expand): Conv2d(28, 672, kernel_size=(1, 1), stride=(1, 1))\n          (gate): Sigmoid()\n        )\n        (conv_pwl): Conv2d(672, 192, kernel_size=(1, 1), stride=(1, 1), bias=False)\n        (bn3): BatchNormAct2d(\n          192, eps=1e-05, momentum=0.1, affine=True, track_running_stats=True\n          (drop): Identity()\n          (act): Identity()\n        )\n        (drop_path): Identity()\n      )\n      (1): InvertedResidual(\n        (conv_pw): Conv2d(192, 1152, kernel_size=(1, 1), stride=(1, 1), bias=False)\n        (bn1): BatchNormAct2d(\n          1152, eps=1e-05, momentum=0.1, affine=True, track_running_stats=True\n          (drop): Identity()\n          (act): SiLU(inplace=True)\n        )\n        (conv_dw): Conv2d(1152, 1152, kernel_size=(5, 5), stride=(1, 1), padding=(2, 2), groups=1152, bias=False)\n        (bn2): BatchNormAct2d(\n          1152, eps=1e-05, momentum=0.1, affine=True, track_running_stats=True\n          (drop): Identity()\n          (act): SiLU(inplace=True)\n        )\n        (se): SqueezeExcite(\n          (conv_reduce): Conv2d(1152, 48, kernel_size=(1, 1), stride=(1, 1))\n          (act1): SiLU(inplace=True)\n          (conv_expand): Conv2d(48, 1152, kernel_size=(1, 1), stride=(1, 1))\n          (gate): Sigmoid()\n        )\n        (conv_pwl): Conv2d(1152, 192, kernel_size=(1, 1), stride=(1, 1), bias=False)\n        (bn3): BatchNormAct2d(\n          192, eps=1e-05, momentum=0.1, affine=True, track_running_stats=True\n          (drop): Identity()\n          (act): Identity()\n        )\n        (drop_path): Identity()\n      )\n      (2): InvertedResidual(\n        (conv_pw): Conv2d(192, 1152, kernel_size=(1, 1), stride=(1, 1), bias=False)\n        (bn1): BatchNormAct2d(\n          1152, eps=1e-05, momentum=0.1, affine=True, track_running_stats=True\n          (drop): Identity()\n          (act): SiLU(inplace=True)\n        )\n        (conv_dw): Conv2d(1152, 1152, kernel_size=(5, 5), stride=(1, 1), padding=(2, 2), groups=1152, bias=False)\n        (bn2): BatchNormAct2d(\n          1152, eps=1e-05, momentum=0.1, affine=True, track_running_stats=True\n          (drop): Identity()\n          (act): SiLU(inplace=True)\n        )\n        (se): SqueezeExcite(\n          (conv_reduce): Conv2d(1152, 48, kernel_size=(1, 1), stride=(1, 1))\n          (act1): SiLU(inplace=True)\n          (conv_expand): Conv2d(48, 1152, kernel_size=(1, 1), stride=(1, 1))\n          (gate): Sigmoid()\n        )\n        (conv_pwl): Conv2d(1152, 192, kernel_size=(1, 1), stride=(1, 1), bias=False)\n        (bn3): BatchNormAct2d(\n          192, eps=1e-05, momentum=0.1, affine=True, track_running_stats=True\n          (drop): Identity()\n          (act): Identity()\n        )\n        (drop_path): Identity()\n      )\n      (3): InvertedResidual(\n        (conv_pw): Conv2d(192, 1152, kernel_size=(1, 1), stride=(1, 1), bias=False)\n        (bn1): BatchNormAct2d(\n          1152, eps=1e-05, momentum=0.1, affine=True, track_running_stats=True\n          (drop): Identity()\n          (act): SiLU(inplace=True)\n        )\n        (conv_dw): Conv2d(1152, 1152, kernel_size=(5, 5), stride=(1, 1), padding=(2, 2), groups=1152, bias=False)\n        (bn2): BatchNormAct2d(\n          1152, eps=1e-05, momentum=0.1, affine=True, track_running_stats=True\n          (drop): Identity()\n          (act): SiLU(inplace=True)\n        )\n        (se): SqueezeExcite(\n          (conv_reduce): Conv2d(1152, 48, kernel_size=(1, 1), stride=(1, 1))\n          (act1): SiLU(inplace=True)\n          (conv_expand): Conv2d(48, 1152, kernel_size=(1, 1), stride=(1, 1))\n          (gate): Sigmoid()\n        )\n        (conv_pwl): Conv2d(1152, 192, kernel_size=(1, 1), stride=(1, 1), bias=False)\n        (bn3): BatchNormAct2d(\n          192, eps=1e-05, momentum=0.1, affine=True, track_running_stats=True\n          (drop): Identity()\n          (act): Identity()\n        )\n        (drop_path): Identity()\n      )\n      (4): InvertedResidual(\n        (conv_pw): Conv2d(192, 1152, kernel_size=(1, 1), stride=(1, 1), bias=False)\n        (bn1): BatchNormAct2d(\n          1152, eps=1e-05, momentum=0.1, affine=True, track_running_stats=True\n          (drop): Identity()\n          (act): SiLU(inplace=True)\n        )\n        (conv_dw): Conv2d(1152, 1152, kernel_size=(5, 5), stride=(1, 1), padding=(2, 2), groups=1152, bias=False)\n        (bn2): BatchNormAct2d(\n          1152, eps=1e-05, momentum=0.1, affine=True, track_running_stats=True\n          (drop): Identity()\n          (act): SiLU(inplace=True)\n        )\n        (se): SqueezeExcite(\n          (conv_reduce): Conv2d(1152, 48, kernel_size=(1, 1), stride=(1, 1))\n          (act1): SiLU(inplace=True)\n          (conv_expand): Conv2d(48, 1152, kernel_size=(1, 1), stride=(1, 1))\n          (gate): Sigmoid()\n        )\n        (conv_pwl): Conv2d(1152, 192, kernel_size=(1, 1), stride=(1, 1), bias=False)\n        (bn3): BatchNormAct2d(\n          192, eps=1e-05, momentum=0.1, affine=True, track_running_stats=True\n          (drop): Identity()\n          (act): Identity()\n        )\n        (drop_path): Identity()\n      )\n    )\n    (6): Sequential(\n      (0): InvertedResidual(\n        (conv_pw): Conv2d(192, 1152, kernel_size=(1, 1), stride=(1, 1), bias=False)\n        (bn1): BatchNormAct2d(\n          1152, eps=1e-05, momentum=0.1, affine=True, track_running_stats=True\n          (drop): Identity()\n          (act): SiLU(inplace=True)\n        )\n        (conv_dw): Conv2d(1152, 1152, kernel_size=(3, 3), stride=(1, 1), padding=(1, 1), groups=1152, bias=False)\n        (bn2): BatchNormAct2d(\n          1152, eps=1e-05, momentum=0.1, affine=True, track_running_stats=True\n          (drop): Identity()\n          (act): SiLU(inplace=True)\n        )\n        (se): SqueezeExcite(\n          (conv_reduce): Conv2d(1152, 48, kernel_size=(1, 1), stride=(1, 1))\n          (act1): SiLU(inplace=True)\n          (conv_expand): Conv2d(48, 1152, kernel_size=(1, 1), stride=(1, 1))\n          (gate): Sigmoid()\n        )\n        (conv_pwl): Conv2d(1152, 320, kernel_size=(1, 1), stride=(1, 1), bias=False)\n        (bn3): BatchNormAct2d(\n          320, eps=1e-05, momentum=0.1, affine=True, track_running_stats=True\n          (drop): Identity()\n          (act): Identity()\n        )\n        (drop_path): Identity()\n      )\n      (1): InvertedResidual(\n        (conv_pw): Conv2d(320, 1920, kernel_size=(1, 1), stride=(1, 1), bias=False)\n        (bn1): BatchNormAct2d(\n          1920, eps=1e-05, momentum=0.1, affine=True, track_running_stats=True\n          (drop): Identity()\n          (act): SiLU(inplace=True)\n        )\n        (conv_dw): Conv2d(1920, 1920, kernel_size=(3, 3), stride=(1, 1), padding=(1, 1), groups=1920, bias=False)\n        (bn2): BatchNormAct2d(\n          1920, eps=1e-05, momentum=0.1, affine=True, track_running_stats=True\n          (drop): Identity()\n          (act): SiLU(inplace=True)\n        )\n        (se): SqueezeExcite(\n          (conv_reduce): Conv2d(1920, 80, kernel_size=(1, 1), stride=(1, 1))\n          (act1): SiLU(inplace=True)\n          (conv_expand): Conv2d(80, 1920, kernel_size=(1, 1), stride=(1, 1))\n          (gate): Sigmoid()\n        )\n        (conv_pwl): Conv2d(1920, 320, kernel_size=(1, 1), stride=(1, 1), bias=False)\n        (bn3): BatchNormAct2d(\n          320, eps=1e-05, momentum=0.1, affine=True, track_running_stats=True\n          (drop): Identity()\n          (act): Identity()\n        )\n        (drop_path): Identity()\n      )\n    )\n  )\n  (conv_head): Conv2d(320, 1280, kernel_size=(1, 1), stride=(1, 1), bias=False)\n  (bn2): BatchNormAct2d(\n    1280, eps=1e-05, momentum=0.1, affine=True, track_running_stats=True\n    (drop): Identity()\n    (act): SiLU(inplace=True)\n  )\n  (global_pool): SelectAdaptivePool2d(pool_type=avg, flatten=Flatten(start_dim=1, end_dim=-1))\n  (classifier): Linear(in_features=1280, out_features=1000, bias=True)\n)'. Please provide either the path to a local folder or the repo_id of a model on the Hub.",
     "output_type": "error",
     "traceback": [
      "\u001b[1;31m---------------------------------------------------------------------------\u001b[0m",
      "\u001b[1;31mHFValidationError\u001b[0m                         Traceback (most recent call last)",
      "File \u001b[1;32m~\\AppData\\Local\\Programs\\Python\\Python310\\lib\\site-packages\\transformers\\utils\\hub.py:389\u001b[0m, in \u001b[0;36mcached_file\u001b[1;34m(path_or_repo_id, filename, cache_dir, force_download, resume_download, proxies, token, revision, local_files_only, subfolder, repo_type, user_agent, _raise_exceptions_for_missing_entries, _raise_exceptions_for_connection_errors, _commit_hash, **deprecated_kwargs)\u001b[0m\n\u001b[0;32m    387\u001b[0m \u001b[38;5;28;01mtry\u001b[39;00m:\n\u001b[0;32m    388\u001b[0m     \u001b[38;5;66;03m# Load from URL or cache if already cached\u001b[39;00m\n\u001b[1;32m--> 389\u001b[0m     resolved_file \u001b[38;5;241m=\u001b[39m \u001b[43mhf_hub_download\u001b[49m\u001b[43m(\u001b[49m\n\u001b[0;32m    390\u001b[0m \u001b[43m        \u001b[49m\u001b[43mpath_or_repo_id\u001b[49m\u001b[43m,\u001b[49m\n\u001b[0;32m    391\u001b[0m \u001b[43m        \u001b[49m\u001b[43mfilename\u001b[49m\u001b[43m,\u001b[49m\n\u001b[0;32m    392\u001b[0m \u001b[43m        \u001b[49m\u001b[43msubfolder\u001b[49m\u001b[38;5;241;43m=\u001b[39;49m\u001b[38;5;28;43;01mNone\u001b[39;49;00m\u001b[43m \u001b[49m\u001b[38;5;28;43;01mif\u001b[39;49;00m\u001b[43m \u001b[49m\u001b[38;5;28;43mlen\u001b[39;49m\u001b[43m(\u001b[49m\u001b[43msubfolder\u001b[49m\u001b[43m)\u001b[49m\u001b[43m \u001b[49m\u001b[38;5;241;43m==\u001b[39;49m\u001b[43m \u001b[49m\u001b[38;5;241;43m0\u001b[39;49m\u001b[43m \u001b[49m\u001b[38;5;28;43;01melse\u001b[39;49;00m\u001b[43m \u001b[49m\u001b[43msubfolder\u001b[49m\u001b[43m,\u001b[49m\n\u001b[0;32m    393\u001b[0m \u001b[43m        \u001b[49m\u001b[43mrepo_type\u001b[49m\u001b[38;5;241;43m=\u001b[39;49m\u001b[43mrepo_type\u001b[49m\u001b[43m,\u001b[49m\n\u001b[0;32m    394\u001b[0m \u001b[43m        \u001b[49m\u001b[43mrevision\u001b[49m\u001b[38;5;241;43m=\u001b[39;49m\u001b[43mrevision\u001b[49m\u001b[43m,\u001b[49m\n\u001b[0;32m    395\u001b[0m \u001b[43m        \u001b[49m\u001b[43mcache_dir\u001b[49m\u001b[38;5;241;43m=\u001b[39;49m\u001b[43mcache_dir\u001b[49m\u001b[43m,\u001b[49m\n\u001b[0;32m    396\u001b[0m \u001b[43m        \u001b[49m\u001b[43muser_agent\u001b[49m\u001b[38;5;241;43m=\u001b[39;49m\u001b[43muser_agent\u001b[49m\u001b[43m,\u001b[49m\n\u001b[0;32m    397\u001b[0m \u001b[43m        \u001b[49m\u001b[43mforce_download\u001b[49m\u001b[38;5;241;43m=\u001b[39;49m\u001b[43mforce_download\u001b[49m\u001b[43m,\u001b[49m\n\u001b[0;32m    398\u001b[0m \u001b[43m        \u001b[49m\u001b[43mproxies\u001b[49m\u001b[38;5;241;43m=\u001b[39;49m\u001b[43mproxies\u001b[49m\u001b[43m,\u001b[49m\n\u001b[0;32m    399\u001b[0m \u001b[43m        \u001b[49m\u001b[43mresume_download\u001b[49m\u001b[38;5;241;43m=\u001b[39;49m\u001b[43mresume_download\u001b[49m\u001b[43m,\u001b[49m\n\u001b[0;32m    400\u001b[0m \u001b[43m        \u001b[49m\u001b[43mtoken\u001b[49m\u001b[38;5;241;43m=\u001b[39;49m\u001b[43mtoken\u001b[49m\u001b[43m,\u001b[49m\n\u001b[0;32m    401\u001b[0m \u001b[43m        \u001b[49m\u001b[43mlocal_files_only\u001b[49m\u001b[38;5;241;43m=\u001b[39;49m\u001b[43mlocal_files_only\u001b[49m\u001b[43m,\u001b[49m\n\u001b[0;32m    402\u001b[0m \u001b[43m    \u001b[49m\u001b[43m)\u001b[49m\n\u001b[0;32m    403\u001b[0m \u001b[38;5;28;01mexcept\u001b[39;00m GatedRepoError \u001b[38;5;28;01mas\u001b[39;00m e:\n",
      "File \u001b[1;32m~\\AppData\\Local\\Programs\\Python\\Python310\\lib\\site-packages\\huggingface_hub\\utils\\_validators.py:110\u001b[0m, in \u001b[0;36mvalidate_hf_hub_args.<locals>._inner_fn\u001b[1;34m(*args, **kwargs)\u001b[0m\n\u001b[0;32m    109\u001b[0m \u001b[38;5;28;01mif\u001b[39;00m arg_name \u001b[38;5;129;01min\u001b[39;00m [\u001b[38;5;124m\"\u001b[39m\u001b[38;5;124mrepo_id\u001b[39m\u001b[38;5;124m\"\u001b[39m, \u001b[38;5;124m\"\u001b[39m\u001b[38;5;124mfrom_id\u001b[39m\u001b[38;5;124m\"\u001b[39m, \u001b[38;5;124m\"\u001b[39m\u001b[38;5;124mto_id\u001b[39m\u001b[38;5;124m\"\u001b[39m]:\n\u001b[1;32m--> 110\u001b[0m     \u001b[43mvalidate_repo_id\u001b[49m\u001b[43m(\u001b[49m\u001b[43marg_value\u001b[49m\u001b[43m)\u001b[49m\n\u001b[0;32m    112\u001b[0m \u001b[38;5;28;01melif\u001b[39;00m arg_name \u001b[38;5;241m==\u001b[39m \u001b[38;5;124m\"\u001b[39m\u001b[38;5;124mtoken\u001b[39m\u001b[38;5;124m\"\u001b[39m \u001b[38;5;129;01mand\u001b[39;00m arg_value \u001b[38;5;129;01mis\u001b[39;00m \u001b[38;5;129;01mnot\u001b[39;00m \u001b[38;5;28;01mNone\u001b[39;00m:\n",
      "File \u001b[1;32m~\\AppData\\Local\\Programs\\Python\\Python310\\lib\\site-packages\\huggingface_hub\\utils\\_validators.py:164\u001b[0m, in \u001b[0;36mvalidate_repo_id\u001b[1;34m(repo_id)\u001b[0m\n\u001b[0;32m    163\u001b[0m \u001b[38;5;28;01mif\u001b[39;00m \u001b[38;5;129;01mnot\u001b[39;00m REPO_ID_REGEX\u001b[38;5;241m.\u001b[39mmatch(repo_id):\n\u001b[1;32m--> 164\u001b[0m     \u001b[38;5;28;01mraise\u001b[39;00m HFValidationError(\n\u001b[0;32m    165\u001b[0m         \u001b[38;5;124m\"\u001b[39m\u001b[38;5;124mRepo id must use alphanumeric chars or \u001b[39m\u001b[38;5;124m'\u001b[39m\u001b[38;5;124m-\u001b[39m\u001b[38;5;124m'\u001b[39m\u001b[38;5;124m, \u001b[39m\u001b[38;5;124m'\u001b[39m\u001b[38;5;124m_\u001b[39m\u001b[38;5;124m'\u001b[39m\u001b[38;5;124m, \u001b[39m\u001b[38;5;124m'\u001b[39m\u001b[38;5;124m.\u001b[39m\u001b[38;5;124m'\u001b[39m\u001b[38;5;124m, \u001b[39m\u001b[38;5;124m'\u001b[39m\u001b[38;5;124m--\u001b[39m\u001b[38;5;124m'\u001b[39m\u001b[38;5;124m and \u001b[39m\u001b[38;5;124m'\u001b[39m\u001b[38;5;124m..\u001b[39m\u001b[38;5;124m'\u001b[39m\u001b[38;5;124m are\u001b[39m\u001b[38;5;124m\"\u001b[39m\n\u001b[0;32m    166\u001b[0m         \u001b[38;5;124m\"\u001b[39m\u001b[38;5;124m forbidden, \u001b[39m\u001b[38;5;124m'\u001b[39m\u001b[38;5;124m-\u001b[39m\u001b[38;5;124m'\u001b[39m\u001b[38;5;124m and \u001b[39m\u001b[38;5;124m'\u001b[39m\u001b[38;5;124m.\u001b[39m\u001b[38;5;124m'\u001b[39m\u001b[38;5;124m cannot start or end the name, max length is 96:\u001b[39m\u001b[38;5;124m\"\u001b[39m\n\u001b[0;32m    167\u001b[0m         \u001b[38;5;124mf\u001b[39m\u001b[38;5;124m\"\u001b[39m\u001b[38;5;124m \u001b[39m\u001b[38;5;124m'\u001b[39m\u001b[38;5;132;01m{\u001b[39;00mrepo_id\u001b[38;5;132;01m}\u001b[39;00m\u001b[38;5;124m'\u001b[39m\u001b[38;5;124m.\u001b[39m\u001b[38;5;124m\"\u001b[39m\n\u001b[0;32m    168\u001b[0m     )\n\u001b[0;32m    170\u001b[0m \u001b[38;5;28;01mif\u001b[39;00m \u001b[38;5;124m\"\u001b[39m\u001b[38;5;124m--\u001b[39m\u001b[38;5;124m\"\u001b[39m \u001b[38;5;129;01min\u001b[39;00m repo_id \u001b[38;5;129;01mor\u001b[39;00m \u001b[38;5;124m\"\u001b[39m\u001b[38;5;124m..\u001b[39m\u001b[38;5;124m\"\u001b[39m \u001b[38;5;129;01min\u001b[39;00m repo_id:\n",
      "\u001b[1;31mHFValidationError\u001b[0m: Repo id must use alphanumeric chars or '-', '_', '.', '--' and '..' are forbidden, '-' and '.' cannot start or end the name, max length is 96: 'EfficientNet(\n  (conv_stem): Conv2d(3, 32, kernel_size=(3, 3), stride=(2, 2), padding=(1, 1), bias=False)\n  (bn1): BatchNormAct2d(\n    32, eps=1e-05, momentum=0.1, affine=True, track_running_stats=True\n    (drop): Identity()\n    (act): SiLU(inplace=True)\n  )\n  (blocks): Sequential(\n    (0): Sequential(\n      (0): DepthwiseSeparableConv(\n        (conv_dw): Conv2d(32, 32, kernel_size=(3, 3), stride=(1, 1), padding=(1, 1), groups=32, bias=False)\n        (bn1): BatchNormAct2d(\n          32, eps=1e-05, momentum=0.1, affine=True, track_running_stats=True\n          (drop): Identity()\n          (act): SiLU(inplace=True)\n        )\n        (se): SqueezeExcite(\n          (conv_reduce): Conv2d(32, 8, kernel_size=(1, 1), stride=(1, 1))\n          (act1): SiLU(inplace=True)\n          (conv_expand): Conv2d(8, 32, kernel_size=(1, 1), stride=(1, 1))\n          (gate): Sigmoid()\n        )\n        (conv_pw): Conv2d(32, 16, kernel_size=(1, 1), stride=(1, 1), bias=False)\n        (bn2): BatchNormAct2d(\n          16, eps=1e-05, momentum=0.1, affine=True, track_running_stats=True\n          (drop): Identity()\n          (act): Identity()\n        )\n        (drop_path): Identity()\n      )\n      (1): DepthwiseSeparableConv(\n        (conv_dw): Conv2d(16, 16, kernel_size=(3, 3), stride=(1, 1), padding=(1, 1), groups=16, bias=False)\n        (bn1): BatchNormAct2d(\n          16, eps=1e-05, momentum=0.1, affine=True, track_running_stats=True\n          (drop): Identity()\n          (act): SiLU(inplace=True)\n        )\n        (se): SqueezeExcite(\n          (conv_reduce): Conv2d(16, 4, kernel_size=(1, 1), stride=(1, 1))\n          (act1): SiLU(inplace=True)\n          (conv_expand): Conv2d(4, 16, kernel_size=(1, 1), stride=(1, 1))\n          (gate): Sigmoid()\n        )\n        (conv_pw): Conv2d(16, 16, kernel_size=(1, 1), stride=(1, 1), bias=False)\n        (bn2): BatchNormAct2d(\n          16, eps=1e-05, momentum=0.1, affine=True, track_running_stats=True\n          (drop): Identity()\n          (act): Identity()\n        )\n        (drop_path): Identity()\n      )\n    )\n    (1): Sequential(\n      (0): InvertedResidual(\n        (conv_pw): Conv2d(16, 96, kernel_size=(1, 1), stride=(1, 1), bias=False)\n        (bn1): BatchNormAct2d(\n          96, eps=1e-05, momentum=0.1, affine=True, track_running_stats=True\n          (drop): Identity()\n          (act): SiLU(inplace=True)\n        )\n        (conv_dw): Conv2d(96, 96, kernel_size=(3, 3), stride=(2, 2), padding=(1, 1), groups=96, bias=False)\n        (bn2): BatchNormAct2d(\n          96, eps=1e-05, momentum=0.1, affine=True, track_running_stats=True\n          (drop): Identity()\n          (act): SiLU(inplace=True)\n        )\n        (se): SqueezeExcite(\n          (conv_reduce): Conv2d(96, 4, kernel_size=(1, 1), stride=(1, 1))\n          (act1): SiLU(inplace=True)\n          (conv_expand): Conv2d(4, 96, kernel_size=(1, 1), stride=(1, 1))\n          (gate): Sigmoid()\n        )\n        (conv_pwl): Conv2d(96, 24, kernel_size=(1, 1), stride=(1, 1), bias=False)\n        (bn3): BatchNormAct2d(\n          24, eps=1e-05, momentum=0.1, affine=True, track_running_stats=True\n          (drop): Identity()\n          (act): Identity()\n        )\n        (drop_path): Identity()\n      )\n      (1): InvertedResidual(\n        (conv_pw): Conv2d(24, 144, kernel_size=(1, 1), stride=(1, 1), bias=False)\n        (bn1): BatchNormAct2d(\n          144, eps=1e-05, momentum=0.1, affine=True, track_running_stats=True\n          (drop): Identity()\n          (act): SiLU(inplace=True)\n        )\n        (conv_dw): Conv2d(144, 144, kernel_size=(3, 3), stride=(1, 1), padding=(1, 1), groups=144, bias=False)\n        (bn2): BatchNormAct2d(\n          144, eps=1e-05, momentum=0.1, affine=True, track_running_stats=True\n          (drop): Identity()\n          (act): SiLU(inplace=True)\n        )\n        (se): SqueezeExcite(\n          (conv_reduce): Conv2d(144, 6, kernel_size=(1, 1), stride=(1, 1))\n          (act1): SiLU(inplace=True)\n          (conv_expand): Conv2d(6, 144, kernel_size=(1, 1), stride=(1, 1))\n          (gate): Sigmoid()\n        )\n        (conv_pwl): Conv2d(144, 24, kernel_size=(1, 1), stride=(1, 1), bias=False)\n        (bn3): BatchNormAct2d(\n          24, eps=1e-05, momentum=0.1, affine=True, track_running_stats=True\n          (drop): Identity()\n          (act): Identity()\n        )\n        (drop_path): Identity()\n      )\n      (2): InvertedResidual(\n        (conv_pw): Conv2d(24, 144, kernel_size=(1, 1), stride=(1, 1), bias=False)\n        (bn1): BatchNormAct2d(\n          144, eps=1e-05, momentum=0.1, affine=True, track_running_stats=True\n          (drop): Identity()\n          (act): SiLU(inplace=True)\n        )\n        (conv_dw): Conv2d(144, 144, kernel_size=(3, 3), stride=(1, 1), padding=(1, 1), groups=144, bias=False)\n        (bn2): BatchNormAct2d(\n          144, eps=1e-05, momentum=0.1, affine=True, track_running_stats=True\n          (drop): Identity()\n          (act): SiLU(inplace=True)\n        )\n        (se): SqueezeExcite(\n          (conv_reduce): Conv2d(144, 6, kernel_size=(1, 1), stride=(1, 1))\n          (act1): SiLU(inplace=True)\n          (conv_expand): Conv2d(6, 144, kernel_size=(1, 1), stride=(1, 1))\n          (gate): Sigmoid()\n        )\n        (conv_pwl): Conv2d(144, 24, kernel_size=(1, 1), stride=(1, 1), bias=False)\n        (bn3): BatchNormAct2d(\n          24, eps=1e-05, momentum=0.1, affine=True, track_running_stats=True\n          (drop): Identity()\n          (act): Identity()\n        )\n        (drop_path): Identity()\n      )\n    )\n    (2): Sequential(\n      (0): InvertedResidual(\n        (conv_pw): Conv2d(24, 144, kernel_size=(1, 1), stride=(1, 1), bias=False)\n        (bn1): BatchNormAct2d(\n          144, eps=1e-05, momentum=0.1, affine=True, track_running_stats=True\n          (drop): Identity()\n          (act): SiLU(inplace=True)\n        )\n        (conv_dw): Conv2d(144, 144, kernel_size=(5, 5), stride=(2, 2), padding=(2, 2), groups=144, bias=False)\n        (bn2): BatchNormAct2d(\n          144, eps=1e-05, momentum=0.1, affine=True, track_running_stats=True\n          (drop): Identity()\n          (act): SiLU(inplace=True)\n        )\n        (se): SqueezeExcite(\n          (conv_reduce): Conv2d(144, 6, kernel_size=(1, 1), stride=(1, 1))\n          (act1): SiLU(inplace=True)\n          (conv_expand): Conv2d(6, 144, kernel_size=(1, 1), stride=(1, 1))\n          (gate): Sigmoid()\n        )\n        (conv_pwl): Conv2d(144, 40, kernel_size=(1, 1), stride=(1, 1), bias=False)\n        (bn3): BatchNormAct2d(\n          40, eps=1e-05, momentum=0.1, affine=True, track_running_stats=True\n          (drop): Identity()\n          (act): Identity()\n        )\n        (drop_path): Identity()\n      )\n      (1): InvertedResidual(\n        (conv_pw): Conv2d(40, 240, kernel_size=(1, 1), stride=(1, 1), bias=False)\n        (bn1): BatchNormAct2d(\n          240, eps=1e-05, momentum=0.1, affine=True, track_running_stats=True\n          (drop): Identity()\n          (act): SiLU(inplace=True)\n        )\n        (conv_dw): Conv2d(240, 240, kernel_size=(5, 5), stride=(1, 1), padding=(2, 2), groups=240, bias=False)\n        (bn2): BatchNormAct2d(\n          240, eps=1e-05, momentum=0.1, affine=True, track_running_stats=True\n          (drop): Identity()\n          (act): SiLU(inplace=True)\n        )\n        (se): SqueezeExcite(\n          (conv_reduce): Conv2d(240, 10, kernel_size=(1, 1), stride=(1, 1))\n          (act1): SiLU(inplace=True)\n          (conv_expand): Conv2d(10, 240, kernel_size=(1, 1), stride=(1, 1))\n          (gate): Sigmoid()\n        )\n        (conv_pwl): Conv2d(240, 40, kernel_size=(1, 1), stride=(1, 1), bias=False)\n        (bn3): BatchNormAct2d(\n          40, eps=1e-05, momentum=0.1, affine=True, track_running_stats=True\n          (drop): Identity()\n          (act): Identity()\n        )\n        (drop_path): Identity()\n      )\n      (2): InvertedResidual(\n        (conv_pw): Conv2d(40, 240, kernel_size=(1, 1), stride=(1, 1), bias=False)\n        (bn1): BatchNormAct2d(\n          240, eps=1e-05, momentum=0.1, affine=True, track_running_stats=True\n          (drop): Identity()\n          (act): SiLU(inplace=True)\n        )\n        (conv_dw): Conv2d(240, 240, kernel_size=(5, 5), stride=(1, 1), padding=(2, 2), groups=240, bias=False)\n        (bn2): BatchNormAct2d(\n          240, eps=1e-05, momentum=0.1, affine=True, track_running_stats=True\n          (drop): Identity()\n          (act): SiLU(inplace=True)\n        )\n        (se): SqueezeExcite(\n          (conv_reduce): Conv2d(240, 10, kernel_size=(1, 1), stride=(1, 1))\n          (act1): SiLU(inplace=True)\n          (conv_expand): Conv2d(10, 240, kernel_size=(1, 1), stride=(1, 1))\n          (gate): Sigmoid()\n        )\n        (conv_pwl): Conv2d(240, 40, kernel_size=(1, 1), stride=(1, 1), bias=False)\n        (bn3): BatchNormAct2d(\n          40, eps=1e-05, momentum=0.1, affine=True, track_running_stats=True\n          (drop): Identity()\n          (act): Identity()\n        )\n        (drop_path): Identity()\n      )\n    )\n    (3): Sequential(\n      (0): InvertedResidual(\n        (conv_pw): Conv2d(40, 240, kernel_size=(1, 1), stride=(1, 1), bias=False)\n        (bn1): BatchNormAct2d(\n          240, eps=1e-05, momentum=0.1, affine=True, track_running_stats=True\n          (drop): Identity()\n          (act): SiLU(inplace=True)\n        )\n        (conv_dw): Conv2d(240, 240, kernel_size=(3, 3), stride=(2, 2), padding=(1, 1), groups=240, bias=False)\n        (bn2): BatchNormAct2d(\n          240, eps=1e-05, momentum=0.1, affine=True, track_running_stats=True\n          (drop): Identity()\n          (act): SiLU(inplace=True)\n        )\n        (se): SqueezeExcite(\n          (conv_reduce): Conv2d(240, 10, kernel_size=(1, 1), stride=(1, 1))\n          (act1): SiLU(inplace=True)\n          (conv_expand): Conv2d(10, 240, kernel_size=(1, 1), stride=(1, 1))\n          (gate): Sigmoid()\n        )\n        (conv_pwl): Conv2d(240, 80, kernel_size=(1, 1), stride=(1, 1), bias=False)\n        (bn3): BatchNormAct2d(\n          80, eps=1e-05, momentum=0.1, affine=True, track_running_stats=True\n          (drop): Identity()\n          (act): Identity()\n        )\n        (drop_path): Identity()\n      )\n      (1): InvertedResidual(\n        (conv_pw): Conv2d(80, 480, kernel_size=(1, 1), stride=(1, 1), bias=False)\n        (bn1): BatchNormAct2d(\n          480, eps=1e-05, momentum=0.1, affine=True, track_running_stats=True\n          (drop): Identity()\n          (act): SiLU(inplace=True)\n        )\n        (conv_dw): Conv2d(480, 480, kernel_size=(3, 3), stride=(1, 1), padding=(1, 1), groups=480, bias=False)\n        (bn2): BatchNormAct2d(\n          480, eps=1e-05, momentum=0.1, affine=True, track_running_stats=True\n          (drop): Identity()\n          (act): SiLU(inplace=True)\n        )\n        (se): SqueezeExcite(\n          (conv_reduce): Conv2d(480, 20, kernel_size=(1, 1), stride=(1, 1))\n          (act1): SiLU(inplace=True)\n          (conv_expand): Conv2d(20, 480, kernel_size=(1, 1), stride=(1, 1))\n          (gate): Sigmoid()\n        )\n        (conv_pwl): Conv2d(480, 80, kernel_size=(1, 1), stride=(1, 1), bias=False)\n        (bn3): BatchNormAct2d(\n          80, eps=1e-05, momentum=0.1, affine=True, track_running_stats=True\n          (drop): Identity()\n          (act): Identity()\n        )\n        (drop_path): Identity()\n      )\n      (2): InvertedResidual(\n        (conv_pw): Conv2d(80, 480, kernel_size=(1, 1), stride=(1, 1), bias=False)\n        (bn1): BatchNormAct2d(\n          480, eps=1e-05, momentum=0.1, affine=True, track_running_stats=True\n          (drop): Identity()\n          (act): SiLU(inplace=True)\n        )\n        (conv_dw): Conv2d(480, 480, kernel_size=(3, 3), stride=(1, 1), padding=(1, 1), groups=480, bias=False)\n        (bn2): BatchNormAct2d(\n          480, eps=1e-05, momentum=0.1, affine=True, track_running_stats=True\n          (drop): Identity()\n          (act): SiLU(inplace=True)\n        )\n        (se): SqueezeExcite(\n          (conv_reduce): Conv2d(480, 20, kernel_size=(1, 1), stride=(1, 1))\n          (act1): SiLU(inplace=True)\n          (conv_expand): Conv2d(20, 480, kernel_size=(1, 1), stride=(1, 1))\n          (gate): Sigmoid()\n        )\n        (conv_pwl): Conv2d(480, 80, kernel_size=(1, 1), stride=(1, 1), bias=False)\n        (bn3): BatchNormAct2d(\n          80, eps=1e-05, momentum=0.1, affine=True, track_running_stats=True\n          (drop): Identity()\n          (act): Identity()\n        )\n        (drop_path): Identity()\n      )\n      (3): InvertedResidual(\n        (conv_pw): Conv2d(80, 480, kernel_size=(1, 1), stride=(1, 1), bias=False)\n        (bn1): BatchNormAct2d(\n          480, eps=1e-05, momentum=0.1, affine=True, track_running_stats=True\n          (drop): Identity()\n          (act): SiLU(inplace=True)\n        )\n        (conv_dw): Conv2d(480, 480, kernel_size=(3, 3), stride=(1, 1), padding=(1, 1), groups=480, bias=False)\n        (bn2): BatchNormAct2d(\n          480, eps=1e-05, momentum=0.1, affine=True, track_running_stats=True\n          (drop): Identity()\n          (act): SiLU(inplace=True)\n        )\n        (se): SqueezeExcite(\n          (conv_reduce): Conv2d(480, 20, kernel_size=(1, 1), stride=(1, 1))\n          (act1): SiLU(inplace=True)\n          (conv_expand): Conv2d(20, 480, kernel_size=(1, 1), stride=(1, 1))\n          (gate): Sigmoid()\n        )\n        (conv_pwl): Conv2d(480, 80, kernel_size=(1, 1), stride=(1, 1), bias=False)\n        (bn3): BatchNormAct2d(\n          80, eps=1e-05, momentum=0.1, affine=True, track_running_stats=True\n          (drop): Identity()\n          (act): Identity()\n        )\n        (drop_path): Identity()\n      )\n    )\n    (4): Sequential(\n      (0): InvertedResidual(\n        (conv_pw): Conv2d(80, 480, kernel_size=(1, 1), stride=(1, 1), bias=False)\n        (bn1): BatchNormAct2d(\n          480, eps=1e-05, momentum=0.1, affine=True, track_running_stats=True\n          (drop): Identity()\n          (act): SiLU(inplace=True)\n        )\n        (conv_dw): Conv2d(480, 480, kernel_size=(5, 5), stride=(1, 1), padding=(2, 2), groups=480, bias=False)\n        (bn2): BatchNormAct2d(\n          480, eps=1e-05, momentum=0.1, affine=True, track_running_stats=True\n          (drop): Identity()\n          (act): SiLU(inplace=True)\n        )\n        (se): SqueezeExcite(\n          (conv_reduce): Conv2d(480, 20, kernel_size=(1, 1), stride=(1, 1))\n          (act1): SiLU(inplace=True)\n          (conv_expand): Conv2d(20, 480, kernel_size=(1, 1), stride=(1, 1))\n          (gate): Sigmoid()\n        )\n        (conv_pwl): Conv2d(480, 112, kernel_size=(1, 1), stride=(1, 1), bias=False)\n        (bn3): BatchNormAct2d(\n          112, eps=1e-05, momentum=0.1, affine=True, track_running_stats=True\n          (drop): Identity()\n          (act): Identity()\n        )\n        (drop_path): Identity()\n      )\n      (1): InvertedResidual(\n        (conv_pw): Conv2d(112, 672, kernel_size=(1, 1), stride=(1, 1), bias=False)\n        (bn1): BatchNormAct2d(\n          672, eps=1e-05, momentum=0.1, affine=True, track_running_stats=True\n          (drop): Identity()\n          (act): SiLU(inplace=True)\n        )\n        (conv_dw): Conv2d(672, 672, kernel_size=(5, 5), stride=(1, 1), padding=(2, 2), groups=672, bias=False)\n        (bn2): BatchNormAct2d(\n          672, eps=1e-05, momentum=0.1, affine=True, track_running_stats=True\n          (drop): Identity()\n          (act): SiLU(inplace=True)\n        )\n        (se): SqueezeExcite(\n          (conv_reduce): Conv2d(672, 28, kernel_size=(1, 1), stride=(1, 1))\n          (act1): SiLU(inplace=True)\n          (conv_expand): Conv2d(28, 672, kernel_size=(1, 1), stride=(1, 1))\n          (gate): Sigmoid()\n        )\n        (conv_pwl): Conv2d(672, 112, kernel_size=(1, 1), stride=(1, 1), bias=False)\n        (bn3): BatchNormAct2d(\n          112, eps=1e-05, momentum=0.1, affine=True, track_running_stats=True\n          (drop): Identity()\n          (act): Identity()\n        )\n        (drop_path): Identity()\n      )\n      (2): InvertedResidual(\n        (conv_pw): Conv2d(112, 672, kernel_size=(1, 1), stride=(1, 1), bias=False)\n        (bn1): BatchNormAct2d(\n          672, eps=1e-05, momentum=0.1, affine=True, track_running_stats=True\n          (drop): Identity()\n          (act): SiLU(inplace=True)\n        )\n        (conv_dw): Conv2d(672, 672, kernel_size=(5, 5), stride=(1, 1), padding=(2, 2), groups=672, bias=False)\n        (bn2): BatchNormAct2d(\n          672, eps=1e-05, momentum=0.1, affine=True, track_running_stats=True\n          (drop): Identity()\n          (act): SiLU(inplace=True)\n        )\n        (se): SqueezeExcite(\n          (conv_reduce): Conv2d(672, 28, kernel_size=(1, 1), stride=(1, 1))\n          (act1): SiLU(inplace=True)\n          (conv_expand): Conv2d(28, 672, kernel_size=(1, 1), stride=(1, 1))\n          (gate): Sigmoid()\n        )\n        (conv_pwl): Conv2d(672, 112, kernel_size=(1, 1), stride=(1, 1), bias=False)\n        (bn3): BatchNormAct2d(\n          112, eps=1e-05, momentum=0.1, affine=True, track_running_stats=True\n          (drop): Identity()\n          (act): Identity()\n        )\n        (drop_path): Identity()\n      )\n      (3): InvertedResidual(\n        (conv_pw): Conv2d(112, 672, kernel_size=(1, 1), stride=(1, 1), bias=False)\n        (bn1): BatchNormAct2d(\n          672, eps=1e-05, momentum=0.1, affine=True, track_running_stats=True\n          (drop): Identity()\n          (act): SiLU(inplace=True)\n        )\n        (conv_dw): Conv2d(672, 672, kernel_size=(5, 5), stride=(1, 1), padding=(2, 2), groups=672, bias=False)\n        (bn2): BatchNormAct2d(\n          672, eps=1e-05, momentum=0.1, affine=True, track_running_stats=True\n          (drop): Identity()\n          (act): SiLU(inplace=True)\n        )\n        (se): SqueezeExcite(\n          (conv_reduce): Conv2d(672, 28, kernel_size=(1, 1), stride=(1, 1))\n          (act1): SiLU(inplace=True)\n          (conv_expand): Conv2d(28, 672, kernel_size=(1, 1), stride=(1, 1))\n          (gate): Sigmoid()\n        )\n        (conv_pwl): Conv2d(672, 112, kernel_size=(1, 1), stride=(1, 1), bias=False)\n        (bn3): BatchNormAct2d(\n          112, eps=1e-05, momentum=0.1, affine=True, track_running_stats=True\n          (drop): Identity()\n          (act): Identity()\n        )\n        (drop_path): Identity()\n      )\n    )\n    (5): Sequential(\n      (0): InvertedResidual(\n        (conv_pw): Conv2d(112, 672, kernel_size=(1, 1), stride=(1, 1), bias=False)\n        (bn1): BatchNormAct2d(\n          672, eps=1e-05, momentum=0.1, affine=True, track_running_stats=True\n          (drop): Identity()\n          (act): SiLU(inplace=True)\n        )\n        (conv_dw): Conv2d(672, 672, kernel_size=(5, 5), stride=(2, 2), padding=(2, 2), groups=672, bias=False)\n        (bn2): BatchNormAct2d(\n          672, eps=1e-05, momentum=0.1, affine=True, track_running_stats=True\n          (drop): Identity()\n          (act): SiLU(inplace=True)\n        )\n        (se): SqueezeExcite(\n          (conv_reduce): Conv2d(672, 28, kernel_size=(1, 1), stride=(1, 1))\n          (act1): SiLU(inplace=True)\n          (conv_expand): Conv2d(28, 672, kernel_size=(1, 1), stride=(1, 1))\n          (gate): Sigmoid()\n        )\n        (conv_pwl): Conv2d(672, 192, kernel_size=(1, 1), stride=(1, 1), bias=False)\n        (bn3): BatchNormAct2d(\n          192, eps=1e-05, momentum=0.1, affine=True, track_running_stats=True\n          (drop): Identity()\n          (act): Identity()\n        )\n        (drop_path): Identity()\n      )\n      (1): InvertedResidual(\n        (conv_pw): Conv2d(192, 1152, kernel_size=(1, 1), stride=(1, 1), bias=False)\n        (bn1): BatchNormAct2d(\n          1152, eps=1e-05, momentum=0.1, affine=True, track_running_stats=True\n          (drop): Identity()\n          (act): SiLU(inplace=True)\n        )\n        (conv_dw): Conv2d(1152, 1152, kernel_size=(5, 5), stride=(1, 1), padding=(2, 2), groups=1152, bias=False)\n        (bn2): BatchNormAct2d(\n          1152, eps=1e-05, momentum=0.1, affine=True, track_running_stats=True\n          (drop): Identity()\n          (act): SiLU(inplace=True)\n        )\n        (se): SqueezeExcite(\n          (conv_reduce): Conv2d(1152, 48, kernel_size=(1, 1), stride=(1, 1))\n          (act1): SiLU(inplace=True)\n          (conv_expand): Conv2d(48, 1152, kernel_size=(1, 1), stride=(1, 1))\n          (gate): Sigmoid()\n        )\n        (conv_pwl): Conv2d(1152, 192, kernel_size=(1, 1), stride=(1, 1), bias=False)\n        (bn3): BatchNormAct2d(\n          192, eps=1e-05, momentum=0.1, affine=True, track_running_stats=True\n          (drop): Identity()\n          (act): Identity()\n        )\n        (drop_path): Identity()\n      )\n      (2): InvertedResidual(\n        (conv_pw): Conv2d(192, 1152, kernel_size=(1, 1), stride=(1, 1), bias=False)\n        (bn1): BatchNormAct2d(\n          1152, eps=1e-05, momentum=0.1, affine=True, track_running_stats=True\n          (drop): Identity()\n          (act): SiLU(inplace=True)\n        )\n        (conv_dw): Conv2d(1152, 1152, kernel_size=(5, 5), stride=(1, 1), padding=(2, 2), groups=1152, bias=False)\n        (bn2): BatchNormAct2d(\n          1152, eps=1e-05, momentum=0.1, affine=True, track_running_stats=True\n          (drop): Identity()\n          (act): SiLU(inplace=True)\n        )\n        (se): SqueezeExcite(\n          (conv_reduce): Conv2d(1152, 48, kernel_size=(1, 1), stride=(1, 1))\n          (act1): SiLU(inplace=True)\n          (conv_expand): Conv2d(48, 1152, kernel_size=(1, 1), stride=(1, 1))\n          (gate): Sigmoid()\n        )\n        (conv_pwl): Conv2d(1152, 192, kernel_size=(1, 1), stride=(1, 1), bias=False)\n        (bn3): BatchNormAct2d(\n          192, eps=1e-05, momentum=0.1, affine=True, track_running_stats=True\n          (drop): Identity()\n          (act): Identity()\n        )\n        (drop_path): Identity()\n      )\n      (3): InvertedResidual(\n        (conv_pw): Conv2d(192, 1152, kernel_size=(1, 1), stride=(1, 1), bias=False)\n        (bn1): BatchNormAct2d(\n          1152, eps=1e-05, momentum=0.1, affine=True, track_running_stats=True\n          (drop): Identity()\n          (act): SiLU(inplace=True)\n        )\n        (conv_dw): Conv2d(1152, 1152, kernel_size=(5, 5), stride=(1, 1), padding=(2, 2), groups=1152, bias=False)\n        (bn2): BatchNormAct2d(\n          1152, eps=1e-05, momentum=0.1, affine=True, track_running_stats=True\n          (drop): Identity()\n          (act): SiLU(inplace=True)\n        )\n        (se): SqueezeExcite(\n          (conv_reduce): Conv2d(1152, 48, kernel_size=(1, 1), stride=(1, 1))\n          (act1): SiLU(inplace=True)\n          (conv_expand): Conv2d(48, 1152, kernel_size=(1, 1), stride=(1, 1))\n          (gate): Sigmoid()\n        )\n        (conv_pwl): Conv2d(1152, 192, kernel_size=(1, 1), stride=(1, 1), bias=False)\n        (bn3): BatchNormAct2d(\n          192, eps=1e-05, momentum=0.1, affine=True, track_running_stats=True\n          (drop): Identity()\n          (act): Identity()\n        )\n        (drop_path): Identity()\n      )\n      (4): InvertedResidual(\n        (conv_pw): Conv2d(192, 1152, kernel_size=(1, 1), stride=(1, 1), bias=False)\n        (bn1): BatchNormAct2d(\n          1152, eps=1e-05, momentum=0.1, affine=True, track_running_stats=True\n          (drop): Identity()\n          (act): SiLU(inplace=True)\n        )\n        (conv_dw): Conv2d(1152, 1152, kernel_size=(5, 5), stride=(1, 1), padding=(2, 2), groups=1152, bias=False)\n        (bn2): BatchNormAct2d(\n          1152, eps=1e-05, momentum=0.1, affine=True, track_running_stats=True\n          (drop): Identity()\n          (act): SiLU(inplace=True)\n        )\n        (se): SqueezeExcite(\n          (conv_reduce): Conv2d(1152, 48, kernel_size=(1, 1), stride=(1, 1))\n          (act1): SiLU(inplace=True)\n          (conv_expand): Conv2d(48, 1152, kernel_size=(1, 1), stride=(1, 1))\n          (gate): Sigmoid()\n        )\n        (conv_pwl): Conv2d(1152, 192, kernel_size=(1, 1), stride=(1, 1), bias=False)\n        (bn3): BatchNormAct2d(\n          192, eps=1e-05, momentum=0.1, affine=True, track_running_stats=True\n          (drop): Identity()\n          (act): Identity()\n        )\n        (drop_path): Identity()\n      )\n    )\n    (6): Sequential(\n      (0): InvertedResidual(\n        (conv_pw): Conv2d(192, 1152, kernel_size=(1, 1), stride=(1, 1), bias=False)\n        (bn1): BatchNormAct2d(\n          1152, eps=1e-05, momentum=0.1, affine=True, track_running_stats=True\n          (drop): Identity()\n          (act): SiLU(inplace=True)\n        )\n        (conv_dw): Conv2d(1152, 1152, kernel_size=(3, 3), stride=(1, 1), padding=(1, 1), groups=1152, bias=False)\n        (bn2): BatchNormAct2d(\n          1152, eps=1e-05, momentum=0.1, affine=True, track_running_stats=True\n          (drop): Identity()\n          (act): SiLU(inplace=True)\n        )\n        (se): SqueezeExcite(\n          (conv_reduce): Conv2d(1152, 48, kernel_size=(1, 1), stride=(1, 1))\n          (act1): SiLU(inplace=True)\n          (conv_expand): Conv2d(48, 1152, kernel_size=(1, 1), stride=(1, 1))\n          (gate): Sigmoid()\n        )\n        (conv_pwl): Conv2d(1152, 320, kernel_size=(1, 1), stride=(1, 1), bias=False)\n        (bn3): BatchNormAct2d(\n          320, eps=1e-05, momentum=0.1, affine=True, track_running_stats=True\n          (drop): Identity()\n          (act): Identity()\n        )\n        (drop_path): Identity()\n      )\n      (1): InvertedResidual(\n        (conv_pw): Conv2d(320, 1920, kernel_size=(1, 1), stride=(1, 1), bias=False)\n        (bn1): BatchNormAct2d(\n          1920, eps=1e-05, momentum=0.1, affine=True, track_running_stats=True\n          (drop): Identity()\n          (act): SiLU(inplace=True)\n        )\n        (conv_dw): Conv2d(1920, 1920, kernel_size=(3, 3), stride=(1, 1), padding=(1, 1), groups=1920, bias=False)\n        (bn2): BatchNormAct2d(\n          1920, eps=1e-05, momentum=0.1, affine=True, track_running_stats=True\n          (drop): Identity()\n          (act): SiLU(inplace=True)\n        )\n        (se): SqueezeExcite(\n          (conv_reduce): Conv2d(1920, 80, kernel_size=(1, 1), stride=(1, 1))\n          (act1): SiLU(inplace=True)\n          (conv_expand): Conv2d(80, 1920, kernel_size=(1, 1), stride=(1, 1))\n          (gate): Sigmoid()\n        )\n        (conv_pwl): Conv2d(1920, 320, kernel_size=(1, 1), stride=(1, 1), bias=False)\n        (bn3): BatchNormAct2d(\n          320, eps=1e-05, momentum=0.1, affine=True, track_running_stats=True\n          (drop): Identity()\n          (act): Identity()\n        )\n        (drop_path): Identity()\n      )\n    )\n  )\n  (conv_head): Conv2d(320, 1280, kernel_size=(1, 1), stride=(1, 1), bias=False)\n  (bn2): BatchNormAct2d(\n    1280, eps=1e-05, momentum=0.1, affine=True, track_running_stats=True\n    (drop): Identity()\n    (act): SiLU(inplace=True)\n  )\n  (global_pool): SelectAdaptivePool2d(pool_type=avg, flatten=Flatten(start_dim=1, end_dim=-1))\n  (classifier): Linear(in_features=1280, out_features=1000, bias=True)\n)'.",
      "\nThe above exception was the direct cause of the following exception:\n",
      "\u001b[1;31mOSError\u001b[0m                                   Traceback (most recent call last)",
      "Cell \u001b[1;32mIn[7], line 1\u001b[0m\n\u001b[1;32m----> 1\u001b[0m extractor \u001b[38;5;241m=\u001b[39m \u001b[43mAutoFeatureExtractor\u001b[49m\u001b[38;5;241;43m.\u001b[39;49m\u001b[43mfrom_pretrained\u001b[49m\u001b[43m(\u001b[49m\u001b[43mmodel\u001b[49m\u001b[43m)\u001b[49m\n",
      "File \u001b[1;32m~\\AppData\\Local\\Programs\\Python\\Python310\\lib\\site-packages\\transformers\\models\\auto\\feature_extraction_auto.py:342\u001b[0m, in \u001b[0;36mAutoFeatureExtractor.from_pretrained\u001b[1;34m(cls, pretrained_model_name_or_path, **kwargs)\u001b[0m\n\u001b[0;32m    339\u001b[0m trust_remote_code \u001b[38;5;241m=\u001b[39m kwargs\u001b[38;5;241m.\u001b[39mpop(\u001b[38;5;124m\"\u001b[39m\u001b[38;5;124mtrust_remote_code\u001b[39m\u001b[38;5;124m\"\u001b[39m, \u001b[38;5;28;01mNone\u001b[39;00m)\n\u001b[0;32m    340\u001b[0m kwargs[\u001b[38;5;124m\"\u001b[39m\u001b[38;5;124m_from_auto\u001b[39m\u001b[38;5;124m\"\u001b[39m] \u001b[38;5;241m=\u001b[39m \u001b[38;5;28;01mTrue\u001b[39;00m\n\u001b[1;32m--> 342\u001b[0m config_dict, _ \u001b[38;5;241m=\u001b[39m FeatureExtractionMixin\u001b[38;5;241m.\u001b[39mget_feature_extractor_dict(pretrained_model_name_or_path, \u001b[38;5;241m*\u001b[39m\u001b[38;5;241m*\u001b[39mkwargs)\n\u001b[0;32m    343\u001b[0m feature_extractor_class \u001b[38;5;241m=\u001b[39m config_dict\u001b[38;5;241m.\u001b[39mget(\u001b[38;5;124m\"\u001b[39m\u001b[38;5;124mfeature_extractor_type\u001b[39m\u001b[38;5;124m\"\u001b[39m, \u001b[38;5;28;01mNone\u001b[39;00m)\n\u001b[0;32m    344\u001b[0m feature_extractor_auto_map \u001b[38;5;241m=\u001b[39m \u001b[38;5;28;01mNone\u001b[39;00m\n",
      "File \u001b[1;32m~\\AppData\\Local\\Programs\\Python\\Python310\\lib\\site-packages\\transformers\\feature_extraction_utils.py:498\u001b[0m, in \u001b[0;36mFeatureExtractionMixin.get_feature_extractor_dict\u001b[1;34m(cls, pretrained_model_name_or_path, **kwargs)\u001b[0m\n\u001b[0;32m    495\u001b[0m feature_extractor_file \u001b[38;5;241m=\u001b[39m FEATURE_EXTRACTOR_NAME\n\u001b[0;32m    496\u001b[0m \u001b[38;5;28;01mtry\u001b[39;00m:\n\u001b[0;32m    497\u001b[0m     \u001b[38;5;66;03m# Load from local folder or from cache or download from model Hub and cache\u001b[39;00m\n\u001b[1;32m--> 498\u001b[0m     resolved_feature_extractor_file \u001b[38;5;241m=\u001b[39m \u001b[43mcached_file\u001b[49m\u001b[43m(\u001b[49m\n\u001b[0;32m    499\u001b[0m \u001b[43m        \u001b[49m\u001b[43mpretrained_model_name_or_path\u001b[49m\u001b[43m,\u001b[49m\n\u001b[0;32m    500\u001b[0m \u001b[43m        \u001b[49m\u001b[43mfeature_extractor_file\u001b[49m\u001b[43m,\u001b[49m\n\u001b[0;32m    501\u001b[0m \u001b[43m        \u001b[49m\u001b[43mcache_dir\u001b[49m\u001b[38;5;241;43m=\u001b[39;49m\u001b[43mcache_dir\u001b[49m\u001b[43m,\u001b[49m\n\u001b[0;32m    502\u001b[0m \u001b[43m        \u001b[49m\u001b[43mforce_download\u001b[49m\u001b[38;5;241;43m=\u001b[39;49m\u001b[43mforce_download\u001b[49m\u001b[43m,\u001b[49m\n\u001b[0;32m    503\u001b[0m \u001b[43m        \u001b[49m\u001b[43mproxies\u001b[49m\u001b[38;5;241;43m=\u001b[39;49m\u001b[43mproxies\u001b[49m\u001b[43m,\u001b[49m\n\u001b[0;32m    504\u001b[0m \u001b[43m        \u001b[49m\u001b[43mresume_download\u001b[49m\u001b[38;5;241;43m=\u001b[39;49m\u001b[43mresume_download\u001b[49m\u001b[43m,\u001b[49m\n\u001b[0;32m    505\u001b[0m \u001b[43m        \u001b[49m\u001b[43mlocal_files_only\u001b[49m\u001b[38;5;241;43m=\u001b[39;49m\u001b[43mlocal_files_only\u001b[49m\u001b[43m,\u001b[49m\n\u001b[0;32m    506\u001b[0m \u001b[43m        \u001b[49m\u001b[43mtoken\u001b[49m\u001b[38;5;241;43m=\u001b[39;49m\u001b[43mtoken\u001b[49m\u001b[43m,\u001b[49m\n\u001b[0;32m    507\u001b[0m \u001b[43m        \u001b[49m\u001b[43muser_agent\u001b[49m\u001b[38;5;241;43m=\u001b[39;49m\u001b[43muser_agent\u001b[49m\u001b[43m,\u001b[49m\n\u001b[0;32m    508\u001b[0m \u001b[43m        \u001b[49m\u001b[43mrevision\u001b[49m\u001b[38;5;241;43m=\u001b[39;49m\u001b[43mrevision\u001b[49m\u001b[43m,\u001b[49m\n\u001b[0;32m    509\u001b[0m \u001b[43m    \u001b[49m\u001b[43m)\u001b[49m\n\u001b[0;32m    510\u001b[0m \u001b[38;5;28;01mexcept\u001b[39;00m \u001b[38;5;167;01mEnvironmentError\u001b[39;00m:\n\u001b[0;32m    511\u001b[0m     \u001b[38;5;66;03m# Raise any environment error raise by `cached_file`. It will have a helpful error message adapted to\u001b[39;00m\n\u001b[0;32m    512\u001b[0m     \u001b[38;5;66;03m# the original exception.\u001b[39;00m\n\u001b[0;32m    513\u001b[0m     \u001b[38;5;28;01mraise\u001b[39;00m\n",
      "File \u001b[1;32m~\\AppData\\Local\\Programs\\Python\\Python310\\lib\\site-packages\\transformers\\utils\\hub.py:454\u001b[0m, in \u001b[0;36mcached_file\u001b[1;34m(path_or_repo_id, filename, cache_dir, force_download, resume_download, proxies, token, revision, local_files_only, subfolder, repo_type, user_agent, _raise_exceptions_for_missing_entries, _raise_exceptions_for_connection_errors, _commit_hash, **deprecated_kwargs)\u001b[0m\n\u001b[0;32m    452\u001b[0m     \u001b[38;5;28;01mraise\u001b[39;00m \u001b[38;5;167;01mEnvironmentError\u001b[39;00m(\u001b[38;5;124mf\u001b[39m\u001b[38;5;124m\"\u001b[39m\u001b[38;5;124mThere was a specific connection error when trying to load \u001b[39m\u001b[38;5;132;01m{\u001b[39;00mpath_or_repo_id\u001b[38;5;132;01m}\u001b[39;00m\u001b[38;5;124m:\u001b[39m\u001b[38;5;130;01m\\n\u001b[39;00m\u001b[38;5;132;01m{\u001b[39;00merr\u001b[38;5;132;01m}\u001b[39;00m\u001b[38;5;124m\"\u001b[39m)\n\u001b[0;32m    453\u001b[0m \u001b[38;5;28;01mexcept\u001b[39;00m HFValidationError \u001b[38;5;28;01mas\u001b[39;00m e:\n\u001b[1;32m--> 454\u001b[0m     \u001b[38;5;28;01mraise\u001b[39;00m \u001b[38;5;167;01mEnvironmentError\u001b[39;00m(\n\u001b[0;32m    455\u001b[0m         \u001b[38;5;124mf\u001b[39m\u001b[38;5;124m\"\u001b[39m\u001b[38;5;124mIncorrect path_or_model_id: \u001b[39m\u001b[38;5;124m'\u001b[39m\u001b[38;5;132;01m{\u001b[39;00mpath_or_repo_id\u001b[38;5;132;01m}\u001b[39;00m\u001b[38;5;124m'\u001b[39m\u001b[38;5;124m. Please provide either the path to a local folder or the repo_id of a model on the Hub.\u001b[39m\u001b[38;5;124m\"\u001b[39m\n\u001b[0;32m    456\u001b[0m     ) \u001b[38;5;28;01mfrom\u001b[39;00m \u001b[38;5;21;01me\u001b[39;00m\n\u001b[0;32m    457\u001b[0m \u001b[38;5;28;01mreturn\u001b[39;00m resolved_file\n",
      "\u001b[1;31mOSError\u001b[0m: Incorrect path_or_model_id: 'EfficientNet(\n  (conv_stem): Conv2d(3, 32, kernel_size=(3, 3), stride=(2, 2), padding=(1, 1), bias=False)\n  (bn1): BatchNormAct2d(\n    32, eps=1e-05, momentum=0.1, affine=True, track_running_stats=True\n    (drop): Identity()\n    (act): SiLU(inplace=True)\n  )\n  (blocks): Sequential(\n    (0): Sequential(\n      (0): DepthwiseSeparableConv(\n        (conv_dw): Conv2d(32, 32, kernel_size=(3, 3), stride=(1, 1), padding=(1, 1), groups=32, bias=False)\n        (bn1): BatchNormAct2d(\n          32, eps=1e-05, momentum=0.1, affine=True, track_running_stats=True\n          (drop): Identity()\n          (act): SiLU(inplace=True)\n        )\n        (se): SqueezeExcite(\n          (conv_reduce): Conv2d(32, 8, kernel_size=(1, 1), stride=(1, 1))\n          (act1): SiLU(inplace=True)\n          (conv_expand): Conv2d(8, 32, kernel_size=(1, 1), stride=(1, 1))\n          (gate): Sigmoid()\n        )\n        (conv_pw): Conv2d(32, 16, kernel_size=(1, 1), stride=(1, 1), bias=False)\n        (bn2): BatchNormAct2d(\n          16, eps=1e-05, momentum=0.1, affine=True, track_running_stats=True\n          (drop): Identity()\n          (act): Identity()\n        )\n        (drop_path): Identity()\n      )\n      (1): DepthwiseSeparableConv(\n        (conv_dw): Conv2d(16, 16, kernel_size=(3, 3), stride=(1, 1), padding=(1, 1), groups=16, bias=False)\n        (bn1): BatchNormAct2d(\n          16, eps=1e-05, momentum=0.1, affine=True, track_running_stats=True\n          (drop): Identity()\n          (act): SiLU(inplace=True)\n        )\n        (se): SqueezeExcite(\n          (conv_reduce): Conv2d(16, 4, kernel_size=(1, 1), stride=(1, 1))\n          (act1): SiLU(inplace=True)\n          (conv_expand): Conv2d(4, 16, kernel_size=(1, 1), stride=(1, 1))\n          (gate): Sigmoid()\n        )\n        (conv_pw): Conv2d(16, 16, kernel_size=(1, 1), stride=(1, 1), bias=False)\n        (bn2): BatchNormAct2d(\n          16, eps=1e-05, momentum=0.1, affine=True, track_running_stats=True\n          (drop): Identity()\n          (act): Identity()\n        )\n        (drop_path): Identity()\n      )\n    )\n    (1): Sequential(\n      (0): InvertedResidual(\n        (conv_pw): Conv2d(16, 96, kernel_size=(1, 1), stride=(1, 1), bias=False)\n        (bn1): BatchNormAct2d(\n          96, eps=1e-05, momentum=0.1, affine=True, track_running_stats=True\n          (drop): Identity()\n          (act): SiLU(inplace=True)\n        )\n        (conv_dw): Conv2d(96, 96, kernel_size=(3, 3), stride=(2, 2), padding=(1, 1), groups=96, bias=False)\n        (bn2): BatchNormAct2d(\n          96, eps=1e-05, momentum=0.1, affine=True, track_running_stats=True\n          (drop): Identity()\n          (act): SiLU(inplace=True)\n        )\n        (se): SqueezeExcite(\n          (conv_reduce): Conv2d(96, 4, kernel_size=(1, 1), stride=(1, 1))\n          (act1): SiLU(inplace=True)\n          (conv_expand): Conv2d(4, 96, kernel_size=(1, 1), stride=(1, 1))\n          (gate): Sigmoid()\n        )\n        (conv_pwl): Conv2d(96, 24, kernel_size=(1, 1), stride=(1, 1), bias=False)\n        (bn3): BatchNormAct2d(\n          24, eps=1e-05, momentum=0.1, affine=True, track_running_stats=True\n          (drop): Identity()\n          (act): Identity()\n        )\n        (drop_path): Identity()\n      )\n      (1): InvertedResidual(\n        (conv_pw): Conv2d(24, 144, kernel_size=(1, 1), stride=(1, 1), bias=False)\n        (bn1): BatchNormAct2d(\n          144, eps=1e-05, momentum=0.1, affine=True, track_running_stats=True\n          (drop): Identity()\n          (act): SiLU(inplace=True)\n        )\n        (conv_dw): Conv2d(144, 144, kernel_size=(3, 3), stride=(1, 1), padding=(1, 1), groups=144, bias=False)\n        (bn2): BatchNormAct2d(\n          144, eps=1e-05, momentum=0.1, affine=True, track_running_stats=True\n          (drop): Identity()\n          (act): SiLU(inplace=True)\n        )\n        (se): SqueezeExcite(\n          (conv_reduce): Conv2d(144, 6, kernel_size=(1, 1), stride=(1, 1))\n          (act1): SiLU(inplace=True)\n          (conv_expand): Conv2d(6, 144, kernel_size=(1, 1), stride=(1, 1))\n          (gate): Sigmoid()\n        )\n        (conv_pwl): Conv2d(144, 24, kernel_size=(1, 1), stride=(1, 1), bias=False)\n        (bn3): BatchNormAct2d(\n          24, eps=1e-05, momentum=0.1, affine=True, track_running_stats=True\n          (drop): Identity()\n          (act): Identity()\n        )\n        (drop_path): Identity()\n      )\n      (2): InvertedResidual(\n        (conv_pw): Conv2d(24, 144, kernel_size=(1, 1), stride=(1, 1), bias=False)\n        (bn1): BatchNormAct2d(\n          144, eps=1e-05, momentum=0.1, affine=True, track_running_stats=True\n          (drop): Identity()\n          (act): SiLU(inplace=True)\n        )\n        (conv_dw): Conv2d(144, 144, kernel_size=(3, 3), stride=(1, 1), padding=(1, 1), groups=144, bias=False)\n        (bn2): BatchNormAct2d(\n          144, eps=1e-05, momentum=0.1, affine=True, track_running_stats=True\n          (drop): Identity()\n          (act): SiLU(inplace=True)\n        )\n        (se): SqueezeExcite(\n          (conv_reduce): Conv2d(144, 6, kernel_size=(1, 1), stride=(1, 1))\n          (act1): SiLU(inplace=True)\n          (conv_expand): Conv2d(6, 144, kernel_size=(1, 1), stride=(1, 1))\n          (gate): Sigmoid()\n        )\n        (conv_pwl): Conv2d(144, 24, kernel_size=(1, 1), stride=(1, 1), bias=False)\n        (bn3): BatchNormAct2d(\n          24, eps=1e-05, momentum=0.1, affine=True, track_running_stats=True\n          (drop): Identity()\n          (act): Identity()\n        )\n        (drop_path): Identity()\n      )\n    )\n    (2): Sequential(\n      (0): InvertedResidual(\n        (conv_pw): Conv2d(24, 144, kernel_size=(1, 1), stride=(1, 1), bias=False)\n        (bn1): BatchNormAct2d(\n          144, eps=1e-05, momentum=0.1, affine=True, track_running_stats=True\n          (drop): Identity()\n          (act): SiLU(inplace=True)\n        )\n        (conv_dw): Conv2d(144, 144, kernel_size=(5, 5), stride=(2, 2), padding=(2, 2), groups=144, bias=False)\n        (bn2): BatchNormAct2d(\n          144, eps=1e-05, momentum=0.1, affine=True, track_running_stats=True\n          (drop): Identity()\n          (act): SiLU(inplace=True)\n        )\n        (se): SqueezeExcite(\n          (conv_reduce): Conv2d(144, 6, kernel_size=(1, 1), stride=(1, 1))\n          (act1): SiLU(inplace=True)\n          (conv_expand): Conv2d(6, 144, kernel_size=(1, 1), stride=(1, 1))\n          (gate): Sigmoid()\n        )\n        (conv_pwl): Conv2d(144, 40, kernel_size=(1, 1), stride=(1, 1), bias=False)\n        (bn3): BatchNormAct2d(\n          40, eps=1e-05, momentum=0.1, affine=True, track_running_stats=True\n          (drop): Identity()\n          (act): Identity()\n        )\n        (drop_path): Identity()\n      )\n      (1): InvertedResidual(\n        (conv_pw): Conv2d(40, 240, kernel_size=(1, 1), stride=(1, 1), bias=False)\n        (bn1): BatchNormAct2d(\n          240, eps=1e-05, momentum=0.1, affine=True, track_running_stats=True\n          (drop): Identity()\n          (act): SiLU(inplace=True)\n        )\n        (conv_dw): Conv2d(240, 240, kernel_size=(5, 5), stride=(1, 1), padding=(2, 2), groups=240, bias=False)\n        (bn2): BatchNormAct2d(\n          240, eps=1e-05, momentum=0.1, affine=True, track_running_stats=True\n          (drop): Identity()\n          (act): SiLU(inplace=True)\n        )\n        (se): SqueezeExcite(\n          (conv_reduce): Conv2d(240, 10, kernel_size=(1, 1), stride=(1, 1))\n          (act1): SiLU(inplace=True)\n          (conv_expand): Conv2d(10, 240, kernel_size=(1, 1), stride=(1, 1))\n          (gate): Sigmoid()\n        )\n        (conv_pwl): Conv2d(240, 40, kernel_size=(1, 1), stride=(1, 1), bias=False)\n        (bn3): BatchNormAct2d(\n          40, eps=1e-05, momentum=0.1, affine=True, track_running_stats=True\n          (drop): Identity()\n          (act): Identity()\n        )\n        (drop_path): Identity()\n      )\n      (2): InvertedResidual(\n        (conv_pw): Conv2d(40, 240, kernel_size=(1, 1), stride=(1, 1), bias=False)\n        (bn1): BatchNormAct2d(\n          240, eps=1e-05, momentum=0.1, affine=True, track_running_stats=True\n          (drop): Identity()\n          (act): SiLU(inplace=True)\n        )\n        (conv_dw): Conv2d(240, 240, kernel_size=(5, 5), stride=(1, 1), padding=(2, 2), groups=240, bias=False)\n        (bn2): BatchNormAct2d(\n          240, eps=1e-05, momentum=0.1, affine=True, track_running_stats=True\n          (drop): Identity()\n          (act): SiLU(inplace=True)\n        )\n        (se): SqueezeExcite(\n          (conv_reduce): Conv2d(240, 10, kernel_size=(1, 1), stride=(1, 1))\n          (act1): SiLU(inplace=True)\n          (conv_expand): Conv2d(10, 240, kernel_size=(1, 1), stride=(1, 1))\n          (gate): Sigmoid()\n        )\n        (conv_pwl): Conv2d(240, 40, kernel_size=(1, 1), stride=(1, 1), bias=False)\n        (bn3): BatchNormAct2d(\n          40, eps=1e-05, momentum=0.1, affine=True, track_running_stats=True\n          (drop): Identity()\n          (act): Identity()\n        )\n        (drop_path): Identity()\n      )\n    )\n    (3): Sequential(\n      (0): InvertedResidual(\n        (conv_pw): Conv2d(40, 240, kernel_size=(1, 1), stride=(1, 1), bias=False)\n        (bn1): BatchNormAct2d(\n          240, eps=1e-05, momentum=0.1, affine=True, track_running_stats=True\n          (drop): Identity()\n          (act): SiLU(inplace=True)\n        )\n        (conv_dw): Conv2d(240, 240, kernel_size=(3, 3), stride=(2, 2), padding=(1, 1), groups=240, bias=False)\n        (bn2): BatchNormAct2d(\n          240, eps=1e-05, momentum=0.1, affine=True, track_running_stats=True\n          (drop): Identity()\n          (act): SiLU(inplace=True)\n        )\n        (se): SqueezeExcite(\n          (conv_reduce): Conv2d(240, 10, kernel_size=(1, 1), stride=(1, 1))\n          (act1): SiLU(inplace=True)\n          (conv_expand): Conv2d(10, 240, kernel_size=(1, 1), stride=(1, 1))\n          (gate): Sigmoid()\n        )\n        (conv_pwl): Conv2d(240, 80, kernel_size=(1, 1), stride=(1, 1), bias=False)\n        (bn3): BatchNormAct2d(\n          80, eps=1e-05, momentum=0.1, affine=True, track_running_stats=True\n          (drop): Identity()\n          (act): Identity()\n        )\n        (drop_path): Identity()\n      )\n      (1): InvertedResidual(\n        (conv_pw): Conv2d(80, 480, kernel_size=(1, 1), stride=(1, 1), bias=False)\n        (bn1): BatchNormAct2d(\n          480, eps=1e-05, momentum=0.1, affine=True, track_running_stats=True\n          (drop): Identity()\n          (act): SiLU(inplace=True)\n        )\n        (conv_dw): Conv2d(480, 480, kernel_size=(3, 3), stride=(1, 1), padding=(1, 1), groups=480, bias=False)\n        (bn2): BatchNormAct2d(\n          480, eps=1e-05, momentum=0.1, affine=True, track_running_stats=True\n          (drop): Identity()\n          (act): SiLU(inplace=True)\n        )\n        (se): SqueezeExcite(\n          (conv_reduce): Conv2d(480, 20, kernel_size=(1, 1), stride=(1, 1))\n          (act1): SiLU(inplace=True)\n          (conv_expand): Conv2d(20, 480, kernel_size=(1, 1), stride=(1, 1))\n          (gate): Sigmoid()\n        )\n        (conv_pwl): Conv2d(480, 80, kernel_size=(1, 1), stride=(1, 1), bias=False)\n        (bn3): BatchNormAct2d(\n          80, eps=1e-05, momentum=0.1, affine=True, track_running_stats=True\n          (drop): Identity()\n          (act): Identity()\n        )\n        (drop_path): Identity()\n      )\n      (2): InvertedResidual(\n        (conv_pw): Conv2d(80, 480, kernel_size=(1, 1), stride=(1, 1), bias=False)\n        (bn1): BatchNormAct2d(\n          480, eps=1e-05, momentum=0.1, affine=True, track_running_stats=True\n          (drop): Identity()\n          (act): SiLU(inplace=True)\n        )\n        (conv_dw): Conv2d(480, 480, kernel_size=(3, 3), stride=(1, 1), padding=(1, 1), groups=480, bias=False)\n        (bn2): BatchNormAct2d(\n          480, eps=1e-05, momentum=0.1, affine=True, track_running_stats=True\n          (drop): Identity()\n          (act): SiLU(inplace=True)\n        )\n        (se): SqueezeExcite(\n          (conv_reduce): Conv2d(480, 20, kernel_size=(1, 1), stride=(1, 1))\n          (act1): SiLU(inplace=True)\n          (conv_expand): Conv2d(20, 480, kernel_size=(1, 1), stride=(1, 1))\n          (gate): Sigmoid()\n        )\n        (conv_pwl): Conv2d(480, 80, kernel_size=(1, 1), stride=(1, 1), bias=False)\n        (bn3): BatchNormAct2d(\n          80, eps=1e-05, momentum=0.1, affine=True, track_running_stats=True\n          (drop): Identity()\n          (act): Identity()\n        )\n        (drop_path): Identity()\n      )\n      (3): InvertedResidual(\n        (conv_pw): Conv2d(80, 480, kernel_size=(1, 1), stride=(1, 1), bias=False)\n        (bn1): BatchNormAct2d(\n          480, eps=1e-05, momentum=0.1, affine=True, track_running_stats=True\n          (drop): Identity()\n          (act): SiLU(inplace=True)\n        )\n        (conv_dw): Conv2d(480, 480, kernel_size=(3, 3), stride=(1, 1), padding=(1, 1), groups=480, bias=False)\n        (bn2): BatchNormAct2d(\n          480, eps=1e-05, momentum=0.1, affine=True, track_running_stats=True\n          (drop): Identity()\n          (act): SiLU(inplace=True)\n        )\n        (se): SqueezeExcite(\n          (conv_reduce): Conv2d(480, 20, kernel_size=(1, 1), stride=(1, 1))\n          (act1): SiLU(inplace=True)\n          (conv_expand): Conv2d(20, 480, kernel_size=(1, 1), stride=(1, 1))\n          (gate): Sigmoid()\n        )\n        (conv_pwl): Conv2d(480, 80, kernel_size=(1, 1), stride=(1, 1), bias=False)\n        (bn3): BatchNormAct2d(\n          80, eps=1e-05, momentum=0.1, affine=True, track_running_stats=True\n          (drop): Identity()\n          (act): Identity()\n        )\n        (drop_path): Identity()\n      )\n    )\n    (4): Sequential(\n      (0): InvertedResidual(\n        (conv_pw): Conv2d(80, 480, kernel_size=(1, 1), stride=(1, 1), bias=False)\n        (bn1): BatchNormAct2d(\n          480, eps=1e-05, momentum=0.1, affine=True, track_running_stats=True\n          (drop): Identity()\n          (act): SiLU(inplace=True)\n        )\n        (conv_dw): Conv2d(480, 480, kernel_size=(5, 5), stride=(1, 1), padding=(2, 2), groups=480, bias=False)\n        (bn2): BatchNormAct2d(\n          480, eps=1e-05, momentum=0.1, affine=True, track_running_stats=True\n          (drop): Identity()\n          (act): SiLU(inplace=True)\n        )\n        (se): SqueezeExcite(\n          (conv_reduce): Conv2d(480, 20, kernel_size=(1, 1), stride=(1, 1))\n          (act1): SiLU(inplace=True)\n          (conv_expand): Conv2d(20, 480, kernel_size=(1, 1), stride=(1, 1))\n          (gate): Sigmoid()\n        )\n        (conv_pwl): Conv2d(480, 112, kernel_size=(1, 1), stride=(1, 1), bias=False)\n        (bn3): BatchNormAct2d(\n          112, eps=1e-05, momentum=0.1, affine=True, track_running_stats=True\n          (drop): Identity()\n          (act): Identity()\n        )\n        (drop_path): Identity()\n      )\n      (1): InvertedResidual(\n        (conv_pw): Conv2d(112, 672, kernel_size=(1, 1), stride=(1, 1), bias=False)\n        (bn1): BatchNormAct2d(\n          672, eps=1e-05, momentum=0.1, affine=True, track_running_stats=True\n          (drop): Identity()\n          (act): SiLU(inplace=True)\n        )\n        (conv_dw): Conv2d(672, 672, kernel_size=(5, 5), stride=(1, 1), padding=(2, 2), groups=672, bias=False)\n        (bn2): BatchNormAct2d(\n          672, eps=1e-05, momentum=0.1, affine=True, track_running_stats=True\n          (drop): Identity()\n          (act): SiLU(inplace=True)\n        )\n        (se): SqueezeExcite(\n          (conv_reduce): Conv2d(672, 28, kernel_size=(1, 1), stride=(1, 1))\n          (act1): SiLU(inplace=True)\n          (conv_expand): Conv2d(28, 672, kernel_size=(1, 1), stride=(1, 1))\n          (gate): Sigmoid()\n        )\n        (conv_pwl): Conv2d(672, 112, kernel_size=(1, 1), stride=(1, 1), bias=False)\n        (bn3): BatchNormAct2d(\n          112, eps=1e-05, momentum=0.1, affine=True, track_running_stats=True\n          (drop): Identity()\n          (act): Identity()\n        )\n        (drop_path): Identity()\n      )\n      (2): InvertedResidual(\n        (conv_pw): Conv2d(112, 672, kernel_size=(1, 1), stride=(1, 1), bias=False)\n        (bn1): BatchNormAct2d(\n          672, eps=1e-05, momentum=0.1, affine=True, track_running_stats=True\n          (drop): Identity()\n          (act): SiLU(inplace=True)\n        )\n        (conv_dw): Conv2d(672, 672, kernel_size=(5, 5), stride=(1, 1), padding=(2, 2), groups=672, bias=False)\n        (bn2): BatchNormAct2d(\n          672, eps=1e-05, momentum=0.1, affine=True, track_running_stats=True\n          (drop): Identity()\n          (act): SiLU(inplace=True)\n        )\n        (se): SqueezeExcite(\n          (conv_reduce): Conv2d(672, 28, kernel_size=(1, 1), stride=(1, 1))\n          (act1): SiLU(inplace=True)\n          (conv_expand): Conv2d(28, 672, kernel_size=(1, 1), stride=(1, 1))\n          (gate): Sigmoid()\n        )\n        (conv_pwl): Conv2d(672, 112, kernel_size=(1, 1), stride=(1, 1), bias=False)\n        (bn3): BatchNormAct2d(\n          112, eps=1e-05, momentum=0.1, affine=True, track_running_stats=True\n          (drop): Identity()\n          (act): Identity()\n        )\n        (drop_path): Identity()\n      )\n      (3): InvertedResidual(\n        (conv_pw): Conv2d(112, 672, kernel_size=(1, 1), stride=(1, 1), bias=False)\n        (bn1): BatchNormAct2d(\n          672, eps=1e-05, momentum=0.1, affine=True, track_running_stats=True\n          (drop): Identity()\n          (act): SiLU(inplace=True)\n        )\n        (conv_dw): Conv2d(672, 672, kernel_size=(5, 5), stride=(1, 1), padding=(2, 2), groups=672, bias=False)\n        (bn2): BatchNormAct2d(\n          672, eps=1e-05, momentum=0.1, affine=True, track_running_stats=True\n          (drop): Identity()\n          (act): SiLU(inplace=True)\n        )\n        (se): SqueezeExcite(\n          (conv_reduce): Conv2d(672, 28, kernel_size=(1, 1), stride=(1, 1))\n          (act1): SiLU(inplace=True)\n          (conv_expand): Conv2d(28, 672, kernel_size=(1, 1), stride=(1, 1))\n          (gate): Sigmoid()\n        )\n        (conv_pwl): Conv2d(672, 112, kernel_size=(1, 1), stride=(1, 1), bias=False)\n        (bn3): BatchNormAct2d(\n          112, eps=1e-05, momentum=0.1, affine=True, track_running_stats=True\n          (drop): Identity()\n          (act): Identity()\n        )\n        (drop_path): Identity()\n      )\n    )\n    (5): Sequential(\n      (0): InvertedResidual(\n        (conv_pw): Conv2d(112, 672, kernel_size=(1, 1), stride=(1, 1), bias=False)\n        (bn1): BatchNormAct2d(\n          672, eps=1e-05, momentum=0.1, affine=True, track_running_stats=True\n          (drop): Identity()\n          (act): SiLU(inplace=True)\n        )\n        (conv_dw): Conv2d(672, 672, kernel_size=(5, 5), stride=(2, 2), padding=(2, 2), groups=672, bias=False)\n        (bn2): BatchNormAct2d(\n          672, eps=1e-05, momentum=0.1, affine=True, track_running_stats=True\n          (drop): Identity()\n          (act): SiLU(inplace=True)\n        )\n        (se): SqueezeExcite(\n          (conv_reduce): Conv2d(672, 28, kernel_size=(1, 1), stride=(1, 1))\n          (act1): SiLU(inplace=True)\n          (conv_expand): Conv2d(28, 672, kernel_size=(1, 1), stride=(1, 1))\n          (gate): Sigmoid()\n        )\n        (conv_pwl): Conv2d(672, 192, kernel_size=(1, 1), stride=(1, 1), bias=False)\n        (bn3): BatchNormAct2d(\n          192, eps=1e-05, momentum=0.1, affine=True, track_running_stats=True\n          (drop): Identity()\n          (act): Identity()\n        )\n        (drop_path): Identity()\n      )\n      (1): InvertedResidual(\n        (conv_pw): Conv2d(192, 1152, kernel_size=(1, 1), stride=(1, 1), bias=False)\n        (bn1): BatchNormAct2d(\n          1152, eps=1e-05, momentum=0.1, affine=True, track_running_stats=True\n          (drop): Identity()\n          (act): SiLU(inplace=True)\n        )\n        (conv_dw): Conv2d(1152, 1152, kernel_size=(5, 5), stride=(1, 1), padding=(2, 2), groups=1152, bias=False)\n        (bn2): BatchNormAct2d(\n          1152, eps=1e-05, momentum=0.1, affine=True, track_running_stats=True\n          (drop): Identity()\n          (act): SiLU(inplace=True)\n        )\n        (se): SqueezeExcite(\n          (conv_reduce): Conv2d(1152, 48, kernel_size=(1, 1), stride=(1, 1))\n          (act1): SiLU(inplace=True)\n          (conv_expand): Conv2d(48, 1152, kernel_size=(1, 1), stride=(1, 1))\n          (gate): Sigmoid()\n        )\n        (conv_pwl): Conv2d(1152, 192, kernel_size=(1, 1), stride=(1, 1), bias=False)\n        (bn3): BatchNormAct2d(\n          192, eps=1e-05, momentum=0.1, affine=True, track_running_stats=True\n          (drop): Identity()\n          (act): Identity()\n        )\n        (drop_path): Identity()\n      )\n      (2): InvertedResidual(\n        (conv_pw): Conv2d(192, 1152, kernel_size=(1, 1), stride=(1, 1), bias=False)\n        (bn1): BatchNormAct2d(\n          1152, eps=1e-05, momentum=0.1, affine=True, track_running_stats=True\n          (drop): Identity()\n          (act): SiLU(inplace=True)\n        )\n        (conv_dw): Conv2d(1152, 1152, kernel_size=(5, 5), stride=(1, 1), padding=(2, 2), groups=1152, bias=False)\n        (bn2): BatchNormAct2d(\n          1152, eps=1e-05, momentum=0.1, affine=True, track_running_stats=True\n          (drop): Identity()\n          (act): SiLU(inplace=True)\n        )\n        (se): SqueezeExcite(\n          (conv_reduce): Conv2d(1152, 48, kernel_size=(1, 1), stride=(1, 1))\n          (act1): SiLU(inplace=True)\n          (conv_expand): Conv2d(48, 1152, kernel_size=(1, 1), stride=(1, 1))\n          (gate): Sigmoid()\n        )\n        (conv_pwl): Conv2d(1152, 192, kernel_size=(1, 1), stride=(1, 1), bias=False)\n        (bn3): BatchNormAct2d(\n          192, eps=1e-05, momentum=0.1, affine=True, track_running_stats=True\n          (drop): Identity()\n          (act): Identity()\n        )\n        (drop_path): Identity()\n      )\n      (3): InvertedResidual(\n        (conv_pw): Conv2d(192, 1152, kernel_size=(1, 1), stride=(1, 1), bias=False)\n        (bn1): BatchNormAct2d(\n          1152, eps=1e-05, momentum=0.1, affine=True, track_running_stats=True\n          (drop): Identity()\n          (act): SiLU(inplace=True)\n        )\n        (conv_dw): Conv2d(1152, 1152, kernel_size=(5, 5), stride=(1, 1), padding=(2, 2), groups=1152, bias=False)\n        (bn2): BatchNormAct2d(\n          1152, eps=1e-05, momentum=0.1, affine=True, track_running_stats=True\n          (drop): Identity()\n          (act): SiLU(inplace=True)\n        )\n        (se): SqueezeExcite(\n          (conv_reduce): Conv2d(1152, 48, kernel_size=(1, 1), stride=(1, 1))\n          (act1): SiLU(inplace=True)\n          (conv_expand): Conv2d(48, 1152, kernel_size=(1, 1), stride=(1, 1))\n          (gate): Sigmoid()\n        )\n        (conv_pwl): Conv2d(1152, 192, kernel_size=(1, 1), stride=(1, 1), bias=False)\n        (bn3): BatchNormAct2d(\n          192, eps=1e-05, momentum=0.1, affine=True, track_running_stats=True\n          (drop): Identity()\n          (act): Identity()\n        )\n        (drop_path): Identity()\n      )\n      (4): InvertedResidual(\n        (conv_pw): Conv2d(192, 1152, kernel_size=(1, 1), stride=(1, 1), bias=False)\n        (bn1): BatchNormAct2d(\n          1152, eps=1e-05, momentum=0.1, affine=True, track_running_stats=True\n          (drop): Identity()\n          (act): SiLU(inplace=True)\n        )\n        (conv_dw): Conv2d(1152, 1152, kernel_size=(5, 5), stride=(1, 1), padding=(2, 2), groups=1152, bias=False)\n        (bn2): BatchNormAct2d(\n          1152, eps=1e-05, momentum=0.1, affine=True, track_running_stats=True\n          (drop): Identity()\n          (act): SiLU(inplace=True)\n        )\n        (se): SqueezeExcite(\n          (conv_reduce): Conv2d(1152, 48, kernel_size=(1, 1), stride=(1, 1))\n          (act1): SiLU(inplace=True)\n          (conv_expand): Conv2d(48, 1152, kernel_size=(1, 1), stride=(1, 1))\n          (gate): Sigmoid()\n        )\n        (conv_pwl): Conv2d(1152, 192, kernel_size=(1, 1), stride=(1, 1), bias=False)\n        (bn3): BatchNormAct2d(\n          192, eps=1e-05, momentum=0.1, affine=True, track_running_stats=True\n          (drop): Identity()\n          (act): Identity()\n        )\n        (drop_path): Identity()\n      )\n    )\n    (6): Sequential(\n      (0): InvertedResidual(\n        (conv_pw): Conv2d(192, 1152, kernel_size=(1, 1), stride=(1, 1), bias=False)\n        (bn1): BatchNormAct2d(\n          1152, eps=1e-05, momentum=0.1, affine=True, track_running_stats=True\n          (drop): Identity()\n          (act): SiLU(inplace=True)\n        )\n        (conv_dw): Conv2d(1152, 1152, kernel_size=(3, 3), stride=(1, 1), padding=(1, 1), groups=1152, bias=False)\n        (bn2): BatchNormAct2d(\n          1152, eps=1e-05, momentum=0.1, affine=True, track_running_stats=True\n          (drop): Identity()\n          (act): SiLU(inplace=True)\n        )\n        (se): SqueezeExcite(\n          (conv_reduce): Conv2d(1152, 48, kernel_size=(1, 1), stride=(1, 1))\n          (act1): SiLU(inplace=True)\n          (conv_expand): Conv2d(48, 1152, kernel_size=(1, 1), stride=(1, 1))\n          (gate): Sigmoid()\n        )\n        (conv_pwl): Conv2d(1152, 320, kernel_size=(1, 1), stride=(1, 1), bias=False)\n        (bn3): BatchNormAct2d(\n          320, eps=1e-05, momentum=0.1, affine=True, track_running_stats=True\n          (drop): Identity()\n          (act): Identity()\n        )\n        (drop_path): Identity()\n      )\n      (1): InvertedResidual(\n        (conv_pw): Conv2d(320, 1920, kernel_size=(1, 1), stride=(1, 1), bias=False)\n        (bn1): BatchNormAct2d(\n          1920, eps=1e-05, momentum=0.1, affine=True, track_running_stats=True\n          (drop): Identity()\n          (act): SiLU(inplace=True)\n        )\n        (conv_dw): Conv2d(1920, 1920, kernel_size=(3, 3), stride=(1, 1), padding=(1, 1), groups=1920, bias=False)\n        (bn2): BatchNormAct2d(\n          1920, eps=1e-05, momentum=0.1, affine=True, track_running_stats=True\n          (drop): Identity()\n          (act): SiLU(inplace=True)\n        )\n        (se): SqueezeExcite(\n          (conv_reduce): Conv2d(1920, 80, kernel_size=(1, 1), stride=(1, 1))\n          (act1): SiLU(inplace=True)\n          (conv_expand): Conv2d(80, 1920, kernel_size=(1, 1), stride=(1, 1))\n          (gate): Sigmoid()\n        )\n        (conv_pwl): Conv2d(1920, 320, kernel_size=(1, 1), stride=(1, 1), bias=False)\n        (bn3): BatchNormAct2d(\n          320, eps=1e-05, momentum=0.1, affine=True, track_running_stats=True\n          (drop): Identity()\n          (act): Identity()\n        )\n        (drop_path): Identity()\n      )\n    )\n  )\n  (conv_head): Conv2d(320, 1280, kernel_size=(1, 1), stride=(1, 1), bias=False)\n  (bn2): BatchNormAct2d(\n    1280, eps=1e-05, momentum=0.1, affine=True, track_running_stats=True\n    (drop): Identity()\n    (act): SiLU(inplace=True)\n  )\n  (global_pool): SelectAdaptivePool2d(pool_type=avg, flatten=Flatten(start_dim=1, end_dim=-1))\n  (classifier): Linear(in_features=1280, out_features=1000, bias=True)\n)'. Please provide either the path to a local folder or the repo_id of a model on the Hub."
     ]
    }
   ],
   "source": [
    "extractor = AutoFeatureExtractor.from_pretrained(model)\n"
   ]
  },
  {
   "cell_type": "code",
   "execution_count": 15,
   "metadata": {},
   "outputs": [
    {
     "data": {
      "application/vnd.jupyter.widget-view+json": {
       "model_id": "729eb08b86f84125bac01d69a602f44a",
       "version_major": 2,
       "version_minor": 0
      },
      "text/plain": [
       "preprocessor_config.json:   0%|          | 0.00/160 [00:00<?, ?B/s]"
      ]
     },
     "metadata": {},
     "output_type": "display_data"
    },
    {
     "name": "stderr",
     "output_type": "stream",
     "text": [
      "C:\\Users\\ssoun\\AppData\\Local\\Programs\\Python\\Python310\\lib\\site-packages\\huggingface_hub\\file_download.py:149: UserWarning: `huggingface_hub` cache-system uses symlinks by default to efficiently store duplicated files but your machine does not support them in C:\\Users\\ssoun\\.cache\\huggingface\\hub\\models--facebook--deit-small-patch16-224. Caching files will still work but in a degraded version that might require more space on your disk. This warning can be disabled by setting the `HF_HUB_DISABLE_SYMLINKS_WARNING` environment variable. For more details, see https://huggingface.co/docs/huggingface_hub/how-to-cache#limitations.\n",
      "To support symlinks on Windows, you either need to activate Developer Mode or to run Python as an administrator. In order to see activate developer mode, see this article: https://docs.microsoft.com/en-us/windows/apps/get-started/enable-your-device-for-development\n",
      "  warnings.warn(message)\n"
     ]
    },
    {
     "data": {
      "application/vnd.jupyter.widget-view+json": {
       "model_id": "971d4a96cbe5476db5638668734ea589",
       "version_major": 2,
       "version_minor": 0
      },
      "text/plain": [
       "config.json:   0%|          | 0.00/69.6k [00:00<?, ?B/s]"
      ]
     },
     "metadata": {},
     "output_type": "display_data"
    },
    {
     "name": "stderr",
     "output_type": "stream",
     "text": [
      "C:\\Users\\ssoun\\AppData\\Local\\Programs\\Python\\Python310\\lib\\site-packages\\transformers\\models\\vit\\feature_extraction_vit.py:28: FutureWarning: The class ViTFeatureExtractor is deprecated and will be removed in version 5 of Transformers. Please use ViTImageProcessor instead.\n",
      "  warnings.warn(\n"
     ]
    },
    {
     "data": {
      "application/vnd.jupyter.widget-view+json": {
       "model_id": "40cfe175277e42739c83f15f77e8f99b",
       "version_major": 2,
       "version_minor": 0
      },
      "text/plain": [
       "pytorch_model.bin:   0%|          | 0.00/88.3M [00:00<?, ?B/s]"
      ]
     },
     "metadata": {},
     "output_type": "display_data"
    },
    {
     "name": "stderr",
     "output_type": "stream",
     "text": [
      "Some weights of ViTModel were not initialized from the model checkpoint at facebook/deit-small-patch16-224 and are newly initialized: ['vit.pooler.dense.bias', 'vit.pooler.dense.weight']\n",
      "You should probably TRAIN this model on a down-stream task to be able to use it for predictions and inference.\n"
     ]
    }
   ],
   "source": [
    "model_ckpt = \"facebook/deit-small-patch16-224\"\n",
    "\n",
    "# Load the feature extractor\n",
    "extractor = AutoFeatureExtractor.from_pretrained(model_ckpt)\n",
    "model = AutoModel.from_pretrained(model_ckpt)\n",
    "\n",
    "hidden_dim = model.config.hidden_size"
   ]
  },
  {
   "cell_type": "markdown",
   "metadata": {
    "id": "WZWSU6MtPkQ-"
   },
   "source": [
    "## Load model for computing embeddings of the candidate images"
   ]
  },
  {
   "cell_type": "code",
   "execution_count": 17,
   "metadata": {
    "id": "hPNLNbd5vTHE"
   },
   "outputs": [
    {
     "name": "stderr",
     "output_type": "stream",
     "text": [
      "Some weights of ViTModel were not initialized from the model checkpoint at google/vit-base-patch16-224 and are newly initialized: ['vit.pooler.dense.bias', 'vit.pooler.dense.weight']\n",
      "You should probably TRAIN this model on a down-stream task to be able to use it for predictions and inference.\n"
     ]
    }
   ],
   "source": [
    "model_ckpt = \"google/vit-base-patch16-224\"\n",
    "\n",
    "extractor = AutoFeatureExtractor.from_pretrained(model_ckpt)\n",
    "model = AutoModel.from_pretrained(model_ckpt)\n",
    "\n",
    "hidden_dim = model.config.hidden_size"
   ]
  },
  {
   "cell_type": "code",
   "execution_count": 6,
   "metadata": {},
   "outputs": [],
   "source": [
    "import cv2\n",
    "import os\n",
    "import jsonlines\n"
   ]
  },
  {
   "cell_type": "code",
   "execution_count": 4,
   "metadata": {},
   "outputs": [],
   "source": [
    "image = cv2.imread(\"D://Autility//image-similarity//Plan2.png\")\n",
    "output_dir = \"D://Autility//image-similarity//patches_train\"\n",
    "# image = cv2.cvtColor(np_image, cv2.COLOR_RGB2BGR)\n",
    "height, width = image.shape[:2]\n",
    "data = []\n",
    "patch_size=224\n",
    "overlap=0.5\n",
    "init = 0\n",
    "\n",
    "# Ensure the output directory exists\n",
    "os.makedirs(output_dir, exist_ok=True)\n",
    "\n",
    "# Calculate overlap size in pixels\n",
    "overlap_pixels = int(patch_size * overlap)\n",
    "# Generate patches with overlap\n",
    "for y in range(0, height-patch_size+1, patch_size - overlap_pixels):\n",
    "    for x in range(0, width-patch_size+1, patch_size - overlap_pixels):\n",
    "        patch = image[y:y+patch_size, x:x+patch_size]            \n",
    "        # patch_dict[(\"patch_\" + str(y) + \"_\" + str(x))] = {\n",
    "        #     'top_left': (x, y),\n",
    "        #     'top_right': (x + patch_size, y),\n",
    "        #     'bottom_left': (x, y + patch_size),\n",
    "        #     'bottom_right': (x + patch_size, y + patch_size)\n",
    "        # }\n",
    "        patch_json = {\"file_name\": \"patch_\" + str(init) + \".jpg\",  \n",
    "                      \"coords\" : [(x, y), (x + patch_size, y + patch_size)]}\n",
    "        data.append(patch_json)\n",
    "        patch_filename = os.path.join(output_dir, \"patch_\" + str(init) + \".jpg\")\n",
    "        cv2.imwrite(patch_filename, patch)\n",
    "\n",
    "        init += 1\n",
    "\n",
    "json_file_path = os.path.join(output_dir, 'metadata.jsonl')\n",
    "with jsonlines.open(json_file_path, mode='w') as writer:\n",
    "    writer.write_all(data)"
   ]
  },
  {
   "cell_type": "markdown",
   "metadata": {
    "id": "f2jNLTusPokn"
   },
   "source": [
    "## Load candidate subset"
   ]
  },
  {
   "cell_type": "markdown",
   "metadata": {
    "id": "FNOm6yAj7EtT"
   },
   "source": [
    "1. Prepare your dataset of Images in the following format:\n",
    "\n",
    "```\n",
    "train\n",
    "├── class1\n",
    "│   ├── 1.jpg\n",
    "│   ├── 2.jpg\n",
    "│   └── 3.jpg\n",
    "|   ...\n",
    "├── class2\n",
    "│   ├── 1.jpg\n",
    "│   ├── 2.jpg\n",
    "│   └── 3.jpg\n",
    "|   ...\n",
    "└── class3\n",
    "    ├── 1.jpg\n",
    "    ├── 2.jpg\n",
    "    └── 3.jpg\n",
    "    ...\n",
    "```\n",
    "Here, the name of the class1 can be anything and the name of the images can be anything. The only requirement is that the images should be in the ```jpg``` format. These class names would later reflect in the labels of the identified images.\n",
    "2. Place the ```train``` folder in your Google Drive."
   ]
  },
  {
   "cell_type": "code",
   "execution_count": 8,
   "metadata": {},
   "outputs": [
    {
     "data": {
      "application/vnd.jupyter.widget-view+json": {
       "model_id": "3bd76662dd684f3980c3187ed91c5c9b",
       "version_major": 2,
       "version_minor": 0
      },
      "text/plain": [
       "Resolving data files:   0%|          | 0/4347 [00:00<?, ?it/s]"
      ]
     },
     "metadata": {},
     "output_type": "display_data"
    }
   ],
   "source": [
    "dataset = load_dataset(\"imagefolder\", data_dir=\"D://Sounok//Similar_objects_in_image//patches_train\")\n",
    "candidate_dataset = dataset['train']"
   ]
  },
  {
   "cell_type": "code",
   "execution_count": 14,
   "metadata": {},
   "outputs": [
    {
     "ename": "KeyError",
     "evalue": "'name'",
     "output_type": "error",
     "traceback": [
      "\u001b[1;31m---------------------------------------------------------------------------\u001b[0m",
      "\u001b[1;31mKeyError\u001b[0m                                  Traceback (most recent call last)",
      "Cell \u001b[1;32mIn[14], line 1\u001b[0m\n\u001b[1;32m----> 1\u001b[0m \u001b[38;5;28mprint\u001b[39m(\u001b[43mcandidate_dataset\u001b[49m\u001b[43m[\u001b[49m\u001b[38;5;241;43m0\u001b[39;49m\u001b[43m]\u001b[49m\u001b[43m[\u001b[49m\u001b[38;5;124;43m'\u001b[39;49m\u001b[38;5;124;43mname\u001b[39;49m\u001b[38;5;124;43m'\u001b[39;49m\u001b[43m]\u001b[49m)\n",
      "\u001b[1;31mKeyError\u001b[0m: 'name'"
     ]
    }
   ],
   "source": [
    "print(candidate_dataset[0]['name'])"
   ]
  },
  {
   "cell_type": "code",
   "execution_count": 10,
   "metadata": {},
   "outputs": [
    {
     "name": "stdout",
     "output_type": "stream",
     "text": [
      "{'image': Image(decode=True, id=None), 'coords': Sequence(feature=Sequence(feature=Value(dtype='int64', id=None), length=-1, id=None), length=-1, id=None)}\n"
     ]
    }
   ],
   "source": [
    "print(dataset[\"train\"].features)"
   ]
  },
  {
   "cell_type": "markdown",
   "metadata": {
    "id": "9CrdBGdB7EtU"
   },
   "source": [
    "## Resize the images (OPTIONAL, if required)"
   ]
  },
  {
   "cell_type": "code",
   "execution_count": 33,
   "metadata": {
    "id": "RxhpkMMl7EtU",
    "outputId": "80d861d0-b581-4f8c-b609-bfbf1ffc2e6c"
   },
   "outputs": [],
   "source": [
    "# resize all PIL images to 224x224\n",
    "for i, example in enumerate(candidate_dataset):\n",
    "    candidate_dataset[i]['image'] = example['image'].resize((224, 224), Image.BILINEAR)"
   ]
  },
  {
   "cell_type": "code",
   "execution_count": 71,
   "metadata": {},
   "outputs": [
    {
     "name": "stdout",
     "output_type": "stream",
     "text": [
      "{'image': <PIL.JpegImagePlugin.JpegImageFile image mode=RGB size=224x224 at 0x1E3ADC08790>}\n"
     ]
    }
   ],
   "source": [
    "test_image = candidate_dataset[1]\n",
    "print(test_image)\n",
    "test_image['image'].save(\"Test1.jpg\") \n",
    "# candidate_dataset.features['labels']"
   ]
  },
  {
   "cell_type": "code",
   "execution_count": 34,
   "metadata": {
    "id": "-PvpHEKruTQx"
   },
   "outputs": [
    {
     "ename": "KeyError",
     "evalue": "'label'",
     "output_type": "error",
     "traceback": [
      "\u001b[1;31m---------------------------------------------------------------------------\u001b[0m",
      "\u001b[1;31mKeyError\u001b[0m                                  Traceback (most recent call last)",
      "Cell \u001b[1;32mIn[34], line 2\u001b[0m\n\u001b[0;32m      1\u001b[0m \u001b[38;5;66;03m# labels to names mapping for visualization purposes\u001b[39;00m\n\u001b[1;32m----> 2\u001b[0m folder_names \u001b[38;5;241m=\u001b[39m \u001b[43mcandidate_dataset\u001b[49m\u001b[38;5;241;43m.\u001b[39;49m\u001b[43mfeatures\u001b[49m\u001b[43m[\u001b[49m\u001b[38;5;124;43m'\u001b[39;49m\u001b[38;5;124;43mlabel\u001b[39;49m\u001b[38;5;124;43m'\u001b[39;49m\u001b[43m]\u001b[49m\u001b[38;5;241m.\u001b[39mnames\n\u001b[0;32m      4\u001b[0m \u001b[38;5;66;03m# assign labels to the images from the folder names\u001b[39;00m\n\u001b[0;32m      5\u001b[0m labels_to_names \u001b[38;5;241m=\u001b[39m {i: folder_names[i] \u001b[38;5;28;01mfor\u001b[39;00m i \u001b[38;5;129;01min\u001b[39;00m \u001b[38;5;28mrange\u001b[39m(\u001b[38;5;28mlen\u001b[39m(folder_names))}\n",
      "\u001b[1;31mKeyError\u001b[0m: 'label'"
     ]
    }
   ],
   "source": [
    "# labels to names mapping for visualization purposes\n",
    "folder_names = candidate_dataset.features['label'].names\n",
    "\n",
    "# assign labels to the images from the folder names\n",
    "labels_to_names = {i: folder_names[i] for i in range(len(folder_names))}\n"
   ]
  },
  {
   "cell_type": "markdown",
   "metadata": {
    "id": "ubu0sTe4PqfL"
   },
   "source": [
    "## Extract embeddings"
   ]
  },
  {
   "cell_type": "code",
   "execution_count": 10,
   "metadata": {
    "id": "Q--vvG_1w84o"
   },
   "outputs": [],
   "source": [
    "def extract_embeddings(image):\n",
    "    image_pp = extractor(image, return_tensors=\"pt\")\n",
    "    features = model(**image_pp).last_hidden_state[:, 0].detach().numpy()\n",
    "    return features.squeeze()"
   ]
  },
  {
   "cell_type": "markdown",
   "metadata": {
    "id": "jXVec_cf7EtV"
   },
   "source": [
    "## Creating hashes for the embeddings using FAISS and saving the index"
   ]
  },
  {
   "cell_type": "code",
   "execution_count": 16,
   "metadata": {
    "colab": {
     "base_uri": "https://localhost:8080/",
     "height": 120,
     "referenced_widgets": [
      "9fb924fa387a4740831f75cb196df2c1",
      "15e49c72a8a341e8a1cf31a8aa7bbb6d",
      "67d7f0bf3602473e8d8844a572e4ab7a",
      "99e4f3b98e454f9a8aaab9bafbbc5358",
      "048fa444c75d4961b303aba246265fd9",
      "5d4f3b3b873b4619844bb7c58c9ee479",
      "a3a2700216f0470ba68ce1c78023d5d7",
      "6cb99ef673b04fe2af6000cdda8f27d6",
      "31126a2345f646c5a8c0e318eceef459",
      "4bcc90d8bf594272b4d24f498457085d",
      "c3feaa7b3c1e4e58ba13c1ed38ef39e6",
      "e008b5483a82491a83cb660157f33bea",
      "c2369fd825014ed7b616bc7ce8a6c256",
      "0f03608fa40b4f87b7d286649ea40e5d",
      "f744c41628bf4abe83370e2c9d4a7996",
      "d5917811bebc4c90b6a916b19ac116e1",
      "312ba7e3f83c408ba34f059f1533d7f3",
      "d6dcdc7ef79143beba392129ca312a1c",
      "2f10f08b5fec4cadad4b25718e82f7cc",
      "edbf7bdc827c43e7ae819c1eeea6cc5a",
      "cb59a42c068c41e2930fa5021152587f",
      "1796dca4a69740c987c4ef894844dc48"
     ]
    },
    "id": "cBhgN2CQNByt",
    "outputId": "cee87868-2baa-4280-dcc1-f3d6d06fb15c"
   },
   "outputs": [
    {
     "data": {
      "application/vnd.jupyter.widget-view+json": {
       "model_id": "5ef770bc43dd4be1a938fb52ec36cd90",
       "version_major": 2,
       "version_minor": 0
      },
      "text/plain": [
       "Map:   0%|          | 0/4346 [00:00<?, ? examples/s]"
      ]
     },
     "metadata": {},
     "output_type": "display_data"
    },
    {
     "data": {
      "application/vnd.jupyter.widget-view+json": {
       "model_id": "852148f76aaf45268c3817289a712058",
       "version_major": 2,
       "version_minor": 0
      },
      "text/plain": [
       "Saving the dataset (0/1 shards):   0%|          | 0/4346 [00:00<?, ? examples/s]"
      ]
     },
     "metadata": {},
     "output_type": "display_data"
    },
    {
     "data": {
      "application/vnd.jupyter.widget-view+json": {
       "model_id": "e6ba24a98b684644ba345b008c27a9ab",
       "version_major": 2,
       "version_minor": 0
      },
      "text/plain": [
       "  0%|          | 0/5 [00:00<?, ?it/s]"
      ]
     },
     "metadata": {},
     "output_type": "display_data"
    }
   ],
   "source": [
    "\n",
    "dataset_with_embeddings = candidate_dataset.map(lambda example: {'embeddings': extract_embeddings(example[\"image\"])})\n",
    "\n",
    "# save dataset with embeddings variable to disk\n",
    "dataset_with_embeddings.save_to_disk('old_embeddings')\n",
    "\n",
    "# load dataset with embeddings from disk\n",
    "dataset_with_embeddings.add_faiss_index(column='embeddings')\n",
    "\n",
    "# save the faiss index to disk\n",
    "dataset_with_embeddings.save_faiss_index('embeddings', 'old_index.faiss')\n"
   ]
  },
  {
   "cell_type": "code",
   "execution_count": null,
   "metadata": {},
   "outputs": [
    {
     "data": {
      "application/vnd.jupyter.widget-view+json": {
       "model_id": "1468f3114ca84e1d8c1d1585fec889d7",
       "version_major": 2,
       "version_minor": 0
      },
      "text/plain": [
       "Map:   0%|          | 0/4346 [00:00<?, ? examples/s]"
      ]
     },
     "metadata": {},
     "output_type": "display_data"
    }
   ],
   "source": [
    "import timm\n",
    "from torchvision import transforms\n",
    "from PIL import Image\n",
    "import torch\n",
    "from datasets import Dataset\n",
    "import os\n",
    "\n",
    "model_name = 'efficientnet_b1'\n",
    "model = timm.create_model(model_name, pretrained=True, num_classes=0)  # num_classes=0 for embeddings\n",
    "model.eval()\n",
    "\n",
    "# Step 2: Define image preprocessing pipeline\n",
    "preprocessor = transforms.Compose([\n",
    "    transforms.Resize(256),        # Resize shorter side to 256\n",
    "    transforms.CenterCrop(224),    # Center crop to 224x224\n",
    "    transforms.ToTensor(),         # Convert to tensor\n",
    "    transforms.Normalize(\n",
    "        mean=[0.485, 0.456, 0.406],  # ImageNet normalization stats\n",
    "        std=[0.229, 0.224, 0.225]\n",
    "    ),\n",
    "])\n",
    "\n",
    "# Step 3: Define embedding extraction function\n",
    "def extract_embeddings(image_path):\n",
    "    \"\"\"\n",
    "    Extract embeddings for a given image path using EfficientNet-B1.\n",
    "    \"\"\"\n",
    "    image = Image.open(image_path).convert('RGB')  # Load image\n",
    "    input_tensor = preprocessor(image).unsqueeze(0)  # Preprocess and add batch dimension\n",
    "    \n",
    "    with torch.no_grad():\n",
    "        embeddings = model(input_tensor).squeeze(0)  # Extract embeddings\n",
    "    return embeddings.numpy()  # Convert to numpy for compatibility with FAISS\n",
    "\n",
    "# Assuming you have 100 images\n",
    "base_path = \"D://Sounok//Similar_objects_in_image//patches_train\"\n",
    "\n",
    "# Step 5: Generate image paths dynamically\n",
    "num_images = 4346  # Replace this with the actual number of images\n",
    "image_paths = [os.path.join(base_path, f\"patch_{i}.jpg\") for i in range(num_images)]\n",
    "\n",
    "# Create the dataset\n",
    "candidate_dataset = Dataset.from_dict({\n",
    "    'image': image_paths\n",
    "})\n",
    "\n",
    "# Step 5: Map dataset to include embeddings\n",
    "dataset_with_embeddings = candidate_dataset.map(\n",
    "    lambda example: {'embeddings': extract_embeddings(example[\"image\"])},\n",
    "    batched=False  # Ensure processing is done one image at a time\n",
    ")\n",
    "\n",
    "# Step 6: Save dataset with embeddings to disk\n",
    "dataset_with_embeddings.save_to_disk('efficientnet_b1_embeddings')\n",
    "\n",
    "# Step 7: Add FAISS index for embeddings\n",
    "dataset_with_embeddings.add_faiss_index(column='embeddings')\n",
    "\n",
    "# Step 8: Save FAISS index to disk\n",
    "dataset_with_embeddings.save_faiss_index('embeddings', 'efficientnet_b1_index.faiss')"
   ]
  },
  {
   "cell_type": "markdown",
   "metadata": {
    "id": "6UrzHobN7EtV"
   },
   "source": [
    "## Loading Saved Datasets"
   ]
  },
  {
   "cell_type": "code",
   "execution_count": null,
   "metadata": {
    "id": "rPP3E27b7EtV"
   },
   "outputs": [],
   "source": [
    "# dataset_with_embeddings = load_from_disk('images/beverages_embeddings')\n",
    "# dataset_with_embeddings.load_faiss_index('embeddings', 'images/beverages_index.faiss')"
   ]
  },
  {
   "cell_type": "markdown",
   "metadata": {
    "id": "ZEa3z6FW7EtW"
   },
   "source": [
    "## Combining Datasets (OPTIONAL)\n"
   ]
  },
  {
   "cell_type": "markdown",
   "metadata": {
    "id": "8CjN4reN7EtW"
   },
   "source": [
    "Incase if you have extended your training data, you can directly load the saved datasets and combine them with the new dataset. This is done by using the ```datasets.load_from_disk``` function. The datasets are combined using the ```datasets.concatenate_datasets``` function. The combined dataset is then saved using the ```datasets.save_to_disk``` function.\n",
    "*Make Sure* that the classes in the new dataset are the same as the classes in the saved dataset."
   ]
  },
  {
   "cell_type": "markdown",
   "metadata": {
    "id": "3DzDp6wF7EtW"
   },
   "source": [
    "### First load the new dataset and create hashes for the embeddings"
   ]
  },
  {
   "cell_type": "code",
   "execution_count": null,
   "metadata": {
    "id": "egkime_yNy6J"
   },
   "outputs": [],
   "source": [
    "# Load the additional dataset\n",
    "additional_dataset = load_dataset(\"imagefolder\", data_dir='/content/drive/MyDrive/train/')\n",
    "\n",
    "# Select the desired split from the additional dataset\n",
    "additional_dataset = additional_dataset['train']\n",
    "\n",
    "# Resize all PIL images to 224x224\n",
    "for i, example in enumerate(additional_dataset):\n",
    "    additional_dataset[i]['image'] = example['image'].resize((224, 224), Image.BILINEAR)\n",
    "\n",
    "# Extract embeddings for the images in the additional dataset\n",
    "additional_embeddings = additional_dataset.map(lambda example: {'embeddings': extract_embeddings(example[\"image\"])})"
   ]
  },
  {
   "cell_type": "markdown",
   "metadata": {
    "id": "n1pXzL1V7EtW"
   },
   "source": [
    "### Combine the datasets"
   ]
  },
  {
   "cell_type": "code",
   "execution_count": null,
   "metadata": {
    "id": "EhFqM1NC7EtW"
   },
   "outputs": [],
   "source": [
    "\n",
    "# Combine the existing dataset_with_embeddings and the additional embeddings\n",
    "combined_dataset = concatenate_datasets([dataset_with_embeddings, additional_embeddings])\n",
    "\n",
    "dataset_with_embeddings.save_to_disk('ew_embeddings')\n",
    "\n",
    "# Add a Faiss index to the combined dataset\n",
    "combined_dataset.add_faiss_index(column='embeddings')\n",
    "\n",
    "# Save the combined dataset to disk\n",
    "combined_dataset.save_faiss_index('embeddings', 'new_index.faiss')"
   ]
  },
  {
   "cell_type": "markdown",
   "metadata": {
    "id": "f1pHBfdPPvOP"
   },
   "source": [
    "## Select a random image to run the query(image search)"
   ]
  },
  {
   "cell_type": "code",
   "execution_count": 7,
   "metadata": {
    "colab": {
     "base_uri": "https://localhost:8080/",
     "height": 241
    },
    "id": "mFNYXWo8BT95",
    "outputId": "aee67578-3d05-48d7-e2e3-9856974af16d"
   },
   "outputs": [
    {
     "data": {
      "image/jpeg": "[encoded data removed]",
      "image/png": "[encoded data removed]",
      "text/plain": [
       "<PIL.Image.Image image mode=RGB size=224x224>"
      ]
     },
     "execution_count": 7,
     "metadata": {},
     "output_type": "execute_result"
    }
   ],
   "source": [
    "# load query_image from input path\n",
    "query_image = Image.open('D://Autility//image-similarity//test.jpg')\n",
    "\n",
    "# resize query image to 224x224 (if required)\n",
    "query_image = query_image.resize((224, 224), Image.BILINEAR)\n",
    "# query_image = query_image.rotate(90, Image.NEAREST, expand = 1)\n",
    "\n",
    "query_image"
   ]
  },
  {
   "cell_type": "code",
   "execution_count": 8,
   "metadata": {},
   "outputs": [],
   "source": [
    "def get_neighbors(query_image, top_k=30):\n",
    "    qi_embedding = model(**extractor(query_image, return_tensors=\"pt\"))\n",
    "    qi_embedding = qi_embedding.last_hidden_state[:, 0].detach().numpy().squeeze()\n",
    "    scores, retrieved_examples = dataset_with_embeddings.get_nearest_examples('embeddings', qi_embedding, k=top_k)\n",
    "    return scores, retrieved_examples"
   ]
  },
  {
   "cell_type": "code",
   "execution_count": 9,
   "metadata": {
    "id": "u512CbdR74bz"
   },
   "outputs": [],
   "source": [
    "def image_grid(imgs, rows, cols):\n",
    "    w,h = imgs[0].size\n",
    "    grid = Image.new('RGB', size=(cols*w, rows*h))\n",
    "    for i, img in enumerate(imgs): grid.paste(img, box=(i%cols*w, i//cols*h))\n",
    "    return grid"
   ]
  },
  {
   "cell_type": "code",
   "execution_count": null,
   "metadata": {
    "colab": {
     "base_uri": "https://localhost:8080/",
     "height": 241
    },
    "id": "m-NezGTR_odK",
    "outputId": "87870469-fa67-43a5-aaf3-8726df63d2a6"
   },
   "outputs": [],
   "source": [
    "scores, retrieved_examples = get_neighbors(query_image)\n",
    "images = [query_image]\n",
    "images.extend(retrieved_examples[\"image\"])\n",
    "\n",
    "print(scores)\n",
    "image_grid(images, 1, len(images))"
   ]
  },
  {
   "cell_type": "code",
   "execution_count": 20,
   "metadata": {},
   "outputs": [
    {
     "name": "stdout",
     "output_type": "stream",
     "text": [
      "[<PIL.JpegImagePlugin.JpegImageFile image mode=RGB size=224x224 at 0x1E3AD47A220>, <PIL.JpegImagePlugin.JpegImageFile image mode=RGB size=224x224 at 0x1E3AD47A190>, <PIL.JpegImagePlugin.JpegImageFile image mode=RGB size=224x224 at 0x1E3AD439C10>, <PIL.JpegImagePlugin.JpegImageFile image mode=RGB size=224x224 at 0x1E3AD439640>, <PIL.JpegImagePlugin.JpegImageFile image mode=RGB size=224x224 at 0x1E3AD439460>, <PIL.JpegImagePlugin.JpegImageFile image mode=RGB size=224x224 at 0x1E3AD439CA0>, <PIL.JpegImagePlugin.JpegImageFile image mode=RGB size=224x224 at 0x1E3AD439E50>, <PIL.JpegImagePlugin.JpegImageFile image mode=RGB size=224x224 at 0x1E3AD4398B0>, <PIL.JpegImagePlugin.JpegImageFile image mode=RGB size=224x224 at 0x1E3AD439670>, <PIL.JpegImagePlugin.JpegImageFile image mode=RGB size=224x224 at 0x1E3AD439400>]\n"
     ]
    }
   ],
   "source": [
    "print(retrieved_examples['image'])"
   ]
  },
  {
   "cell_type": "code",
   "execution_count": 138,
   "metadata": {
    "id": "I3g5-tC3EPYL"
   },
   "outputs": [
    {
     "name": "stdout",
     "output_type": "stream",
     "text": [
      "[[[1680 1568]\n",
      "  [1904 1568]\n",
      "  [1904 1792]\n",
      "  [1680 1792]]\n",
      "\n",
      " [[1568 1232]\n",
      "  [1792 1232]\n",
      "  [1792 1456]\n",
      "  [1568 1456]]\n",
      "\n",
      " [[1568 1568]\n",
      "  [1792 1568]\n",
      "  [1792 1792]\n",
      "  [1568 1792]]\n",
      "\n",
      " [[1680 1680]\n",
      "  [1904 1680]\n",
      "  [1904 1904]\n",
      "  [1680 1904]]\n",
      "\n",
      " [[1568 1344]\n",
      "  [1792 1344]\n",
      "  [1792 1568]\n",
      "  [1568 1568]]\n",
      "\n",
      " [[2352 2240]\n",
      "  [2576 2240]\n",
      "  [2576 2464]\n",
      "  [2352 2464]]\n",
      "\n",
      " [[1792 2128]\n",
      "  [2016 2128]\n",
      "  [2016 2352]\n",
      "  [1792 2352]]\n",
      "\n",
      " [[2352 2128]\n",
      "  [2576 2128]\n",
      "  [2576 2352]\n",
      "  [2352 2352]]\n",
      "\n",
      " [[2128 2688]\n",
      "  [2352 2688]\n",
      "  [2352 2912]\n",
      "  [2128 2912]]\n",
      "\n",
      " [[1792 1568]\n",
      "  [2016 1568]\n",
      "  [2016 1792]\n",
      "  [1792 1792]]\n",
      "\n",
      " [[3360 2576]\n",
      "  [3584 2576]\n",
      "  [3584 2800]\n",
      "  [3360 2800]]\n",
      "\n",
      " [[1232 2016]\n",
      "  [1456 2016]\n",
      "  [1456 2240]\n",
      "  [1232 2240]]\n",
      "\n",
      " [[1568 1680]\n",
      "  [1792 1680]\n",
      "  [1792 1904]\n",
      "  [1568 1904]]\n",
      "\n",
      " [[1008 1568]\n",
      "  [1232 1568]\n",
      "  [1232 1792]\n",
      "  [1008 1792]]\n",
      "\n",
      " [[1008 2240]\n",
      "  [1232 2240]\n",
      "  [1232 2464]\n",
      "  [1008 2464]]\n",
      "\n",
      " [[2352 2352]\n",
      "  [2576 2352]\n",
      "  [2576 2576]\n",
      "  [2352 2576]]\n",
      "\n",
      " [[1792 1680]\n",
      "  [2016 1680]\n",
      "  [2016 1904]\n",
      "  [1792 1904]]\n",
      "\n",
      " [[3360 2464]\n",
      "  [3584 2464]\n",
      "  [3584 2688]\n",
      "  [3360 2688]]\n",
      "\n",
      " [[1904 1680]\n",
      "  [2128 1680]\n",
      "  [2128 1904]\n",
      "  [1904 1904]]\n",
      "\n",
      " [[1904 2016]\n",
      "  [2128 2016]\n",
      "  [2128 2240]\n",
      "  [1904 2240]]\n",
      "\n",
      " [[2016 1680]\n",
      "  [2240 1680]\n",
      "  [2240 1904]\n",
      "  [2016 1904]]\n",
      "\n",
      " [[2464 2128]\n",
      "  [2688 2128]\n",
      "  [2688 2352]\n",
      "  [2464 2352]]\n",
      "\n",
      " [[1568 2352]\n",
      "  [1792 2352]\n",
      "  [1792 2576]\n",
      "  [1568 2576]]\n",
      "\n",
      " [[1456 1232]\n",
      "  [1680 1232]\n",
      "  [1680 1456]\n",
      "  [1456 1456]]\n",
      "\n",
      " [[1120 1680]\n",
      "  [1344 1680]\n",
      "  [1344 1904]\n",
      "  [1120 1904]]\n",
      "\n",
      " [[1792 2016]\n",
      "  [2016 2016]\n",
      "  [2016 2240]\n",
      "  [1792 2240]]\n",
      "\n",
      " [[1008 2128]\n",
      "  [1232 2128]\n",
      "  [1232 2352]\n",
      "  [1008 2352]]\n",
      "\n",
      " [[1568 2240]\n",
      "  [1792 2240]\n",
      "  [1792 2464]\n",
      "  [1568 2464]]\n",
      "\n",
      " [[1680 1232]\n",
      "  [1904 1232]\n",
      "  [1904 1456]\n",
      "  [1680 1456]]\n",
      "\n",
      " [[ 896 2240]\n",
      "  [1120 2240]\n",
      "  [1120 2464]\n",
      "  [ 896 2464]]]\n"
     ]
    }
   ],
   "source": [
    "# print names of retrieved images\n",
    "names = np.array(retrieved_examples['name'])\n",
    "coords = np.array(retrieved_examples['coords'])\n",
    "print(coords)\n",
    "## Logic for finding the majority label: Select the label that occurs the most number of times and if there is a tie, select the first one with higher similarity score\n",
    "\n",
    "\n"
   ]
  },
  {
   "cell_type": "code",
   "execution_count": 129,
   "metadata": {},
   "outputs": [],
   "source": [
    "import cv2"
   ]
  },
  {
   "cell_type": "code",
   "execution_count": 139,
   "metadata": {},
   "outputs": [
    {
     "data": {
      "text/plain": [
       "True"
      ]
     },
     "execution_count": 139,
     "metadata": {},
     "output_type": "execute_result"
    }
   ],
   "source": [
    "img = cv2.imread(\"D:\\Autility\\image-similarity\\Plan2.png\")\n",
    "\n",
    "for coord in coords:\n",
    "    x, y = coord[0]\n",
    "    x2, y2 = coord[2]\n",
    "    cv2.rectangle(img, (x, y), (x2, y2), (0,0,255), 2)\n",
    "    \n",
    "cv2.imwrite('similar.jpg', img)"
   ]
  }
 ],
 "metadata": {
  "colab": {
   "include_colab_link": true,
   "provenance": []
  },
  "kernelspec": {
   "display_name": "Python 3 (ipykernel)",
   "language": "python",
   "name": "python3"
  },
  "language_info": {
   "codemirror_mode": {
    "name": "ipython",
    "version": 3
   },
   "file_extension": ".py",
   "mimetype": "text/x-python",
   "name": "python",
   "nbconvert_exporter": "python",
   "pygments_lexer": "ipython3",
   "version": "3.10.10"
  },
  "widgets": {
   "application/vnd.jupyter.widget-state+json": {
    "048fa444c75d4961b303aba246265fd9": {
     "model_module": "@jupyter-widgets/base",
     "model_module_version": "1.2.0",
     "model_name": "LayoutModel",
     "state": {
      "_model_module": "@jupyter-widgets/base",
      "_model_module_version": "1.2.0",
      "_model_name": "LayoutModel",
      "_view_count": null,
      "_view_module": "@jupyter-widgets/base",
      "_view_module_version": "1.2.0",
      "_view_name": "LayoutView",
      "align_content": null,
      "align_items": null,
      "align_self": null,
      "border": null,
      "bottom": null,
      "display": null,
      "flex": null,
      "flex_flow": null,
      "grid_area": null,
      "grid_auto_columns": null,
      "grid_auto_flow": null,
      "grid_auto_rows": null,
      "grid_column": null,
      "grid_gap": null,
      "grid_row": null,
      "grid_template_areas": null,
      "grid_template_columns": null,
      "grid_template_rows": null,
      "height": null,
      "justify_content": null,
      "justify_items": null,
      "left": null,
      "margin": null,
      "max_height": null,
      "max_width": null,
      "min_height": null,
      "min_width": null,
      "object_fit": null,
      "object_position": null,
      "order": null,
      "overflow": null,
      "overflow_x": null,
      "overflow_y": null,
      "padding": null,
      "right": null,
      "top": null,
      "visibility": "hidden",
      "width": null
     }
    },
    "0f03608fa40b4f87b7d286649ea40e5d": {
     "model_module": "@jupyter-widgets/controls",
     "model_module_version": "1.5.0",
     "model_name": "FloatProgressModel",
     "state": {
      "_dom_classes": [],
      "_model_module": "@jupyter-widgets/controls",
      "_model_module_version": "1.5.0",
      "_model_name": "FloatProgressModel",
      "_view_count": null,
      "_view_module": "@jupyter-widgets/controls",
      "_view_module_version": "1.5.0",
      "_view_name": "ProgressView",
      "bar_style": "success",
      "description": "",
      "description_tooltip": null,
      "layout": "IPY_MODEL_2f10f08b5fec4cadad4b25718e82f7cc",
      "max": 1,
      "min": 0,
      "orientation": "horizontal",
      "style": "IPY_MODEL_edbf7bdc827c43e7ae819c1eeea6cc5a",
      "value": 1
     }
    },
    "15e49c72a8a341e8a1cf31a8aa7bbb6d": {
     "model_module": "@jupyter-widgets/controls",
     "model_module_version": "1.5.0",
     "model_name": "HTMLModel",
     "state": {
      "_dom_classes": [],
      "_model_module": "@jupyter-widgets/controls",
      "_model_module_version": "1.5.0",
      "_model_name": "HTMLModel",
      "_view_count": null,
      "_view_module": "@jupyter-widgets/controls",
      "_view_module_version": "1.5.0",
      "_view_name": "HTMLView",
      "description": "",
      "description_tooltip": null,
      "layout": "IPY_MODEL_5d4f3b3b873b4619844bb7c58c9ee479",
      "placeholder": "​",
      "style": "IPY_MODEL_a3a2700216f0470ba68ce1c78023d5d7",
      "value": "Map: 100%"
     }
    },
    "1796dca4a69740c987c4ef894844dc48": {
     "model_module": "@jupyter-widgets/controls",
     "model_module_version": "1.5.0",
     "model_name": "DescriptionStyleModel",
     "state": {
      "_model_module": "@jupyter-widgets/controls",
      "_model_module_version": "1.5.0",
      "_model_name": "DescriptionStyleModel",
      "_view_count": null,
      "_view_module": "@jupyter-widgets/base",
      "_view_module_version": "1.2.0",
      "_view_name": "StyleView",
      "description_width": ""
     }
    },
    "2f10f08b5fec4cadad4b25718e82f7cc": {
     "model_module": "@jupyter-widgets/base",
     "model_module_version": "1.2.0",
     "model_name": "LayoutModel",
     "state": {
      "_model_module": "@jupyter-widgets/base",
      "_model_module_version": "1.2.0",
      "_model_name": "LayoutModel",
      "_view_count": null,
      "_view_module": "@jupyter-widgets/base",
      "_view_module_version": "1.2.0",
      "_view_name": "LayoutView",
      "align_content": null,
      "align_items": null,
      "align_self": null,
      "border": null,
      "bottom": null,
      "display": null,
      "flex": null,
      "flex_flow": null,
      "grid_area": null,
      "grid_auto_columns": null,
      "grid_auto_flow": null,
      "grid_auto_rows": null,
      "grid_column": null,
      "grid_gap": null,
      "grid_row": null,
      "grid_template_areas": null,
      "grid_template_columns": null,
      "grid_template_rows": null,
      "height": null,
      "justify_content": null,
      "justify_items": null,
      "left": null,
      "margin": null,
      "max_height": null,
      "max_width": null,
      "min_height": null,
      "min_width": null,
      "object_fit": null,
      "object_position": null,
      "order": null,
      "overflow": null,
      "overflow_x": null,
      "overflow_y": null,
      "padding": null,
      "right": null,
      "top": null,
      "visibility": null,
      "width": null
     }
    },
    "31126a2345f646c5a8c0e318eceef459": {
     "model_module": "@jupyter-widgets/controls",
     "model_module_version": "1.5.0",
     "model_name": "ProgressStyleModel",
     "state": {
      "_model_module": "@jupyter-widgets/controls",
      "_model_module_version": "1.5.0",
      "_model_name": "ProgressStyleModel",
      "_view_count": null,
      "_view_module": "@jupyter-widgets/base",
      "_view_module_version": "1.2.0",
      "_view_name": "StyleView",
      "bar_color": null,
      "description_width": ""
     }
    },
    "312ba7e3f83c408ba34f059f1533d7f3": {
     "model_module": "@jupyter-widgets/base",
     "model_module_version": "1.2.0",
     "model_name": "LayoutModel",
     "state": {
      "_model_module": "@jupyter-widgets/base",
      "_model_module_version": "1.2.0",
      "_model_name": "LayoutModel",
      "_view_count": null,
      "_view_module": "@jupyter-widgets/base",
      "_view_module_version": "1.2.0",
      "_view_name": "LayoutView",
      "align_content": null,
      "align_items": null,
      "align_self": null,
      "border": null,
      "bottom": null,
      "display": null,
      "flex": null,
      "flex_flow": null,
      "grid_area": null,
      "grid_auto_columns": null,
      "grid_auto_flow": null,
      "grid_auto_rows": null,
      "grid_column": null,
      "grid_gap": null,
      "grid_row": null,
      "grid_template_areas": null,
      "grid_template_columns": null,
      "grid_template_rows": null,
      "height": null,
      "justify_content": null,
      "justify_items": null,
      "left": null,
      "margin": null,
      "max_height": null,
      "max_width": null,
      "min_height": null,
      "min_width": null,
      "object_fit": null,
      "object_position": null,
      "order": null,
      "overflow": null,
      "overflow_x": null,
      "overflow_y": null,
      "padding": null,
      "right": null,
      "top": null,
      "visibility": null,
      "width": null
     }
    },
    "4bcc90d8bf594272b4d24f498457085d": {
     "model_module": "@jupyter-widgets/base",
     "model_module_version": "1.2.0",
     "model_name": "LayoutModel",
     "state": {
      "_model_module": "@jupyter-widgets/base",
      "_model_module_version": "1.2.0",
      "_model_name": "LayoutModel",
      "_view_count": null,
      "_view_module": "@jupyter-widgets/base",
      "_view_module_version": "1.2.0",
      "_view_name": "LayoutView",
      "align_content": null,
      "align_items": null,
      "align_self": null,
      "border": null,
      "bottom": null,
      "display": null,
      "flex": null,
      "flex_flow": null,
      "grid_area": null,
      "grid_auto_columns": null,
      "grid_auto_flow": null,
      "grid_auto_rows": null,
      "grid_column": null,
      "grid_gap": null,
      "grid_row": null,
      "grid_template_areas": null,
      "grid_template_columns": null,
      "grid_template_rows": null,
      "height": null,
      "justify_content": null,
      "justify_items": null,
      "left": null,
      "margin": null,
      "max_height": null,
      "max_width": null,
      "min_height": null,
      "min_width": null,
      "object_fit": null,
      "object_position": null,
      "order": null,
      "overflow": null,
      "overflow_x": null,
      "overflow_y": null,
      "padding": null,
      "right": null,
      "top": null,
      "visibility": null,
      "width": null
     }
    },
    "5d4f3b3b873b4619844bb7c58c9ee479": {
     "model_module": "@jupyter-widgets/base",
     "model_module_version": "1.2.0",
     "model_name": "LayoutModel",
     "state": {
      "_model_module": "@jupyter-widgets/base",
      "_model_module_version": "1.2.0",
      "_model_name": "LayoutModel",
      "_view_count": null,
      "_view_module": "@jupyter-widgets/base",
      "_view_module_version": "1.2.0",
      "_view_name": "LayoutView",
      "align_content": null,
      "align_items": null,
      "align_self": null,
      "border": null,
      "bottom": null,
      "display": null,
      "flex": null,
      "flex_flow": null,
      "grid_area": null,
      "grid_auto_columns": null,
      "grid_auto_flow": null,
      "grid_auto_rows": null,
      "grid_column": null,
      "grid_gap": null,
      "grid_row": null,
      "grid_template_areas": null,
      "grid_template_columns": null,
      "grid_template_rows": null,
      "height": null,
      "justify_content": null,
      "justify_items": null,
      "left": null,
      "margin": null,
      "max_height": null,
      "max_width": null,
      "min_height": null,
      "min_width": null,
      "object_fit": null,
      "object_position": null,
      "order": null,
      "overflow": null,
      "overflow_x": null,
      "overflow_y": null,
      "padding": null,
      "right": null,
      "top": null,
      "visibility": null,
      "width": null
     }
    },
    "67d7f0bf3602473e8d8844a572e4ab7a": {
     "model_module": "@jupyter-widgets/controls",
     "model_module_version": "1.5.0",
     "model_name": "FloatProgressModel",
     "state": {
      "_dom_classes": [],
      "_model_module": "@jupyter-widgets/controls",
      "_model_module_version": "1.5.0",
      "_model_name": "FloatProgressModel",
      "_view_count": null,
      "_view_module": "@jupyter-widgets/controls",
      "_view_module_version": "1.5.0",
      "_view_name": "ProgressView",
      "bar_style": "",
      "description": "",
      "description_tooltip": null,
      "layout": "IPY_MODEL_6cb99ef673b04fe2af6000cdda8f27d6",
      "max": 18,
      "min": 0,
      "orientation": "horizontal",
      "style": "IPY_MODEL_31126a2345f646c5a8c0e318eceef459",
      "value": 18
     }
    },
    "6cb99ef673b04fe2af6000cdda8f27d6": {
     "model_module": "@jupyter-widgets/base",
     "model_module_version": "1.2.0",
     "model_name": "LayoutModel",
     "state": {
      "_model_module": "@jupyter-widgets/base",
      "_model_module_version": "1.2.0",
      "_model_name": "LayoutModel",
      "_view_count": null,
      "_view_module": "@jupyter-widgets/base",
      "_view_module_version": "1.2.0",
      "_view_name": "LayoutView",
      "align_content": null,
      "align_items": null,
      "align_self": null,
      "border": null,
      "bottom": null,
      "display": null,
      "flex": null,
      "flex_flow": null,
      "grid_area": null,
      "grid_auto_columns": null,
      "grid_auto_flow": null,
      "grid_auto_rows": null,
      "grid_column": null,
      "grid_gap": null,
      "grid_row": null,
      "grid_template_areas": null,
      "grid_template_columns": null,
      "grid_template_rows": null,
      "height": null,
      "justify_content": null,
      "justify_items": null,
      "left": null,
      "margin": null,
      "max_height": null,
      "max_width": null,
      "min_height": null,
      "min_width": null,
      "object_fit": null,
      "object_position": null,
      "order": null,
      "overflow": null,
      "overflow_x": null,
      "overflow_y": null,
      "padding": null,
      "right": null,
      "top": null,
      "visibility": null,
      "width": null
     }
    },
    "99e4f3b98e454f9a8aaab9bafbbc5358": {
     "model_module": "@jupyter-widgets/controls",
     "model_module_version": "1.5.0",
     "model_name": "HTMLModel",
     "state": {
      "_dom_classes": [],
      "_model_module": "@jupyter-widgets/controls",
      "_model_module_version": "1.5.0",
      "_model_name": "HTMLModel",
      "_view_count": null,
      "_view_module": "@jupyter-widgets/controls",
      "_view_module_version": "1.5.0",
      "_view_name": "HTMLView",
      "description": "",
      "description_tooltip": null,
      "layout": "IPY_MODEL_4bcc90d8bf594272b4d24f498457085d",
      "placeholder": "​",
      "style": "IPY_MODEL_c3feaa7b3c1e4e58ba13c1ed38ef39e6",
      "value": " 18/18 [00:27&lt;00:00,  1.55s/ examples]"
     }
    },
    "9fb924fa387a4740831f75cb196df2c1": {
     "model_module": "@jupyter-widgets/controls",
     "model_module_version": "1.5.0",
     "model_name": "HBoxModel",
     "state": {
      "_dom_classes": [],
      "_model_module": "@jupyter-widgets/controls",
      "_model_module_version": "1.5.0",
      "_model_name": "HBoxModel",
      "_view_count": null,
      "_view_module": "@jupyter-widgets/controls",
      "_view_module_version": "1.5.0",
      "_view_name": "HBoxView",
      "box_style": "",
      "children": [
       "IPY_MODEL_15e49c72a8a341e8a1cf31a8aa7bbb6d",
       "IPY_MODEL_67d7f0bf3602473e8d8844a572e4ab7a",
       "IPY_MODEL_99e4f3b98e454f9a8aaab9bafbbc5358"
      ],
      "layout": "IPY_MODEL_048fa444c75d4961b303aba246265fd9"
     }
    },
    "a3a2700216f0470ba68ce1c78023d5d7": {
     "model_module": "@jupyter-widgets/controls",
     "model_module_version": "1.5.0",
     "model_name": "DescriptionStyleModel",
     "state": {
      "_model_module": "@jupyter-widgets/controls",
      "_model_module_version": "1.5.0",
      "_model_name": "DescriptionStyleModel",
      "_view_count": null,
      "_view_module": "@jupyter-widgets/base",
      "_view_module_version": "1.2.0",
      "_view_name": "StyleView",
      "description_width": ""
     }
    },
    "c2369fd825014ed7b616bc7ce8a6c256": {
     "model_module": "@jupyter-widgets/controls",
     "model_module_version": "1.5.0",
     "model_name": "HTMLModel",
     "state": {
      "_dom_classes": [],
      "_model_module": "@jupyter-widgets/controls",
      "_model_module_version": "1.5.0",
      "_model_name": "HTMLModel",
      "_view_count": null,
      "_view_module": "@jupyter-widgets/controls",
      "_view_module_version": "1.5.0",
      "_view_name": "HTMLView",
      "description": "",
      "description_tooltip": null,
      "layout": "IPY_MODEL_312ba7e3f83c408ba34f059f1533d7f3",
      "placeholder": "​",
      "style": "IPY_MODEL_d6dcdc7ef79143beba392129ca312a1c",
      "value": "100%"
     }
    },
    "c3feaa7b3c1e4e58ba13c1ed38ef39e6": {
     "model_module": "@jupyter-widgets/controls",
     "model_module_version": "1.5.0",
     "model_name": "DescriptionStyleModel",
     "state": {
      "_model_module": "@jupyter-widgets/controls",
      "_model_module_version": "1.5.0",
      "_model_name": "DescriptionStyleModel",
      "_view_count": null,
      "_view_module": "@jupyter-widgets/base",
      "_view_module_version": "1.2.0",
      "_view_name": "StyleView",
      "description_width": ""
     }
    },
    "cb59a42c068c41e2930fa5021152587f": {
     "model_module": "@jupyter-widgets/base",
     "model_module_version": "1.2.0",
     "model_name": "LayoutModel",
     "state": {
      "_model_module": "@jupyter-widgets/base",
      "_model_module_version": "1.2.0",
      "_model_name": "LayoutModel",
      "_view_count": null,
      "_view_module": "@jupyter-widgets/base",
      "_view_module_version": "1.2.0",
      "_view_name": "LayoutView",
      "align_content": null,
      "align_items": null,
      "align_self": null,
      "border": null,
      "bottom": null,
      "display": null,
      "flex": null,
      "flex_flow": null,
      "grid_area": null,
      "grid_auto_columns": null,
      "grid_auto_flow": null,
      "grid_auto_rows": null,
      "grid_column": null,
      "grid_gap": null,
      "grid_row": null,
      "grid_template_areas": null,
      "grid_template_columns": null,
      "grid_template_rows": null,
      "height": null,
      "justify_content": null,
      "justify_items": null,
      "left": null,
      "margin": null,
      "max_height": null,
      "max_width": null,
      "min_height": null,
      "min_width": null,
      "object_fit": null,
      "object_position": null,
      "order": null,
      "overflow": null,
      "overflow_x": null,
      "overflow_y": null,
      "padding": null,
      "right": null,
      "top": null,
      "visibility": null,
      "width": null
     }
    },
    "d5917811bebc4c90b6a916b19ac116e1": {
     "model_module": "@jupyter-widgets/base",
     "model_module_version": "1.2.0",
     "model_name": "LayoutModel",
     "state": {
      "_model_module": "@jupyter-widgets/base",
      "_model_module_version": "1.2.0",
      "_model_name": "LayoutModel",
      "_view_count": null,
      "_view_module": "@jupyter-widgets/base",
      "_view_module_version": "1.2.0",
      "_view_name": "LayoutView",
      "align_content": null,
      "align_items": null,
      "align_self": null,
      "border": null,
      "bottom": null,
      "display": null,
      "flex": null,
      "flex_flow": null,
      "grid_area": null,
      "grid_auto_columns": null,
      "grid_auto_flow": null,
      "grid_auto_rows": null,
      "grid_column": null,
      "grid_gap": null,
      "grid_row": null,
      "grid_template_areas": null,
      "grid_template_columns": null,
      "grid_template_rows": null,
      "height": null,
      "justify_content": null,
      "justify_items": null,
      "left": null,
      "margin": null,
      "max_height": null,
      "max_width": null,
      "min_height": null,
      "min_width": null,
      "object_fit": null,
      "object_position": null,
      "order": null,
      "overflow": null,
      "overflow_x": null,
      "overflow_y": null,
      "padding": null,
      "right": null,
      "top": null,
      "visibility": null,
      "width": null
     }
    },
    "d6dcdc7ef79143beba392129ca312a1c": {
     "model_module": "@jupyter-widgets/controls",
     "model_module_version": "1.5.0",
     "model_name": "DescriptionStyleModel",
     "state": {
      "_model_module": "@jupyter-widgets/controls",
      "_model_module_version": "1.5.0",
      "_model_name": "DescriptionStyleModel",
      "_view_count": null,
      "_view_module": "@jupyter-widgets/base",
      "_view_module_version": "1.2.0",
      "_view_name": "StyleView",
      "description_width": ""
     }
    },
    "e008b5483a82491a83cb660157f33bea": {
     "model_module": "@jupyter-widgets/controls",
     "model_module_version": "1.5.0",
     "model_name": "HBoxModel",
     "state": {
      "_dom_classes": [],
      "_model_module": "@jupyter-widgets/controls",
      "_model_module_version": "1.5.0",
      "_model_name": "HBoxModel",
      "_view_count": null,
      "_view_module": "@jupyter-widgets/controls",
      "_view_module_version": "1.5.0",
      "_view_name": "HBoxView",
      "box_style": "",
      "children": [
       "IPY_MODEL_c2369fd825014ed7b616bc7ce8a6c256",
       "IPY_MODEL_0f03608fa40b4f87b7d286649ea40e5d",
       "IPY_MODEL_f744c41628bf4abe83370e2c9d4a7996"
      ],
      "layout": "IPY_MODEL_d5917811bebc4c90b6a916b19ac116e1"
     }
    },
    "edbf7bdc827c43e7ae819c1eeea6cc5a": {
     "model_module": "@jupyter-widgets/controls",
     "model_module_version": "1.5.0",
     "model_name": "ProgressStyleModel",
     "state": {
      "_model_module": "@jupyter-widgets/controls",
      "_model_module_version": "1.5.0",
      "_model_name": "ProgressStyleModel",
      "_view_count": null,
      "_view_module": "@jupyter-widgets/base",
      "_view_module_version": "1.2.0",
      "_view_name": "StyleView",
      "bar_color": null,
      "description_width": ""
     }
    },
    "f744c41628bf4abe83370e2c9d4a7996": {
     "model_module": "@jupyter-widgets/controls",
     "model_module_version": "1.5.0",
     "model_name": "HTMLModel",
     "state": {
      "_dom_classes": [],
      "_model_module": "@jupyter-widgets/controls",
      "_model_module_version": "1.5.0",
      "_model_name": "HTMLModel",
      "_view_count": null,
      "_view_module": "@jupyter-widgets/controls",
      "_view_module_version": "1.5.0",
      "_view_name": "HTMLView",
      "description": "",
      "description_tooltip": null,
      "layout": "IPY_MODEL_cb59a42c068c41e2930fa5021152587f",
      "placeholder": "​",
      "style": "IPY_MODEL_1796dca4a69740c987c4ef894844dc48",
      "value": " 1/1 [00:00&lt;00:00, 67.79it/s]"
     }
    }
   }
  }
 },
 "nbformat": 4,
 "nbformat_minor": 4
}
